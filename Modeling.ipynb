{
 "cells": [
  {
   "cell_type": "code",
   "execution_count": 1,
   "metadata": {
    "collapsed": true
   },
   "outputs": [],
   "source": [
    "#Usual Imports\n",
    "import numpy as np\n",
    "import pandas as pd\n",
    "import matplotlib.pyplot as plt\n",
    "import seaborn as sns"
   ]
  },
  {
   "cell_type": "markdown",
   "metadata": {},
   "source": [
    "# Data Wrangling\n",
    "We perform the data wrangling steps previously detailed in the Data Story step."
   ]
  },
  {
   "cell_type": "code",
   "execution_count": 2,
   "metadata": {
    "collapsed": true
   },
   "outputs": [],
   "source": [
    "billboard_data = pd.read_csv(\"all_charts.csv\",low_memory=False)\n",
    "spotify_data = pd.read_csv(\"audio_features.csv\")\n",
    "billboard_lyrics = pd.read_csv(\"all_lyrics.csv\",encoding='latin1')\n",
    "billboard_sub = billboard_data[[\"chartDate\",\"title\",\"artist\",\"peakPos\",\"lastPos\",\"weeks\",\"rank\",\"change\",\"spotifyID\"]]\n",
    "spotify_sub = spotify_data[[\"acousticness\", \"danceability\", \"duration_ms\", \"energy\", \"id\",\"instrumentalness\", \"key\", \"liveness\", \"loudness\", \"mode\", \"speechiness\", \"tempo\", \"time_signature\",\"valence\"]]\n",
    "merged_data=pd.merge(billboard_sub,spotify_sub, how=\"outer\",left_on=\"spotifyID\",right_on=\"id\")\n",
    "#Replace weird characters:\n",
    "merged_data=merged_data.replace({'\\x83': '?'}, regex=True).replace({'\\x82': '?'}, regex=True).replace({'\\x80\\x9c': '??'}, regex=True)\n",
    "lyrics_sub=billboard_lyrics[[\"artist\",\"lyrics\",\"track\",\"source\"]]\n",
    "big_dataset=pd.merge(merged_data, lyrics_sub,  how=\"outer\",left_on=[\"artist\",\"title\"],right_on=[\"artist\", \"track\"])\n",
    "year = big_dataset.chartDate.replace({'-': ''}, regex=True)\n",
    "year = year.apply(np.float)\n",
    "year = year//10000\n",
    "pd.set_option('precision', 0)\n",
    "year=year.rename(\"year\")\n",
    "year_data=pd.concat([big_dataset,year],axis=1)"
   ]
  },
  {
   "cell_type": "markdown",
   "metadata": {
    "collapsed": true
   },
   "source": [
    "We now create a column counting the number of weeks a song charts in the top ten and how many weeks the song charts in the bottom 90."
   ]
  },
  {
   "cell_type": "code",
   "execution_count": 3,
   "metadata": {
    "collapsed": false
   },
   "outputs": [],
   "source": [
    "top_ten_weeks=year_data[year_data['rank']<=10]\n",
    "bottom_ninety_weeks=year_data[year_data['rank']>10]\n",
    "no_year_cols=[\"title\",\"artist\",\"peakPos\",'acousticness','danceability','duration_ms','energy','instrumentalness','key','liveness','loudness','mode','speechiness','tempo','time_signature','valence']\n",
    "group_columns = [\"title\",\"artist\",\"peakPos\",'acousticness','danceability','duration_ms','energy','instrumentalness','key','liveness','loudness','mode','speechiness','tempo','time_signature','valence','year']"
   ]
  },
  {
   "cell_type": "code",
   "execution_count": 4,
   "metadata": {
    "collapsed": false
   },
   "outputs": [],
   "source": [
    "top_ten_group=top_ten_weeks.groupby(no_year_cols).size().reset_index()\n",
    "bottom_ninety_group=bottom_ninety_weeks.groupby(no_year_cols).size().reset_index()\n",
    "# Rename column\n",
    "top_ten_group.rename(columns={0:'num_weeks_top_ten'}, inplace=True)\n",
    "bottom_ninety_group.rename(columns={0:'num_weeks_bottom'}, inplace=True)\n",
    "# Join the top ten and bottom ninety together.\n",
    "ten_ninety_join=pd.merge(top_ten_group,bottom_ninety_group, how=\"outer\",left_on=no_year_cols,right_on=no_year_cols)\n",
    "# Replace NaN's in the num_weeks_top_ten column with zeros.\n",
    "ten_ninety_join=ten_ninety_join.fillna(0)\n",
    "# Create a dataframe of all the unique songs with the year column.\n",
    "songs_with_year=year_data.groupby(group_columns).size().reset_index()\n",
    "# Remove the duplicate tracks for songs that appear in the charts for two separate year by choosing the first year. \n",
    "top_ten_yearly=songs_with_year.groupby(no_year_cols).min().reset_index()\n",
    "# Merge the ten_ninety_join and top_ten_yearly datasets together.\n",
    "hits_with_year=pd.merge(ten_ninety_join,top_ten_yearly, how=\"outer\",left_on=no_year_cols,right_on=no_year_cols)"
   ]
  },
  {
   "cell_type": "markdown",
   "metadata": {
    "collapsed": false
   },
   "source": [
    "# Song Popularity Prediction\n",
    "For the purposes of this project we say that a song is popular if it reaches the top ten, this is given by songs with 'num_weeks_top_ten'>0. We separate the songs into two categories and then keep only the songs for which we have Spotify audio metadata. Here, we use a binary classifier in the 'top_ten_hit' column."
   ]
  },
  {
   "cell_type": "code",
   "execution_count": 5,
   "metadata": {
    "collapsed": false
   },
   "outputs": [
    {
     "name": "stderr",
     "output_type": "stream",
     "text": [
      "C:\\Users\\MSI_USER\\Anaconda3\\lib\\site-packages\\ipykernel\\__main__.py:3: SettingWithCopyWarning: \n",
      "A value is trying to be set on a copy of a slice from a DataFrame.\n",
      "Try using .loc[row_indexer,col_indexer] = value instead\n",
      "\n",
      "See the caveats in the documentation: http://pandas.pydata.org/pandas-docs/stable/indexing.html#indexing-view-versus-copy\n",
      "  app.launch_new_instance()\n"
     ]
    }
   ],
   "source": [
    "# Create the top_ten_hit predictor column.\n",
    "top_ten_prediction=hits_with_year[['peakPos', 'acousticness','danceability','duration_ms','energy','instrumentalness','key','liveness','loudness','mode','speechiness','tempo','time_signature','valence','year','num_weeks_top_ten',\"num_weeks_bottom\"]]\n",
    "top_ten_prediction['top_ten_hit']= (top_ten_prediction.num_weeks_top_ten >0).astype(int)"
   ]
  },
  {
   "cell_type": "code",
   "execution_count": 6,
   "metadata": {
    "collapsed": false
   },
   "outputs": [
    {
     "data": {
      "text/html": [
       "<div>\n",
       "<table border=\"1\" class=\"dataframe\">\n",
       "  <thead>\n",
       "    <tr style=\"text-align: right;\">\n",
       "      <th></th>\n",
       "      <th>top_ten_hit</th>\n",
       "      <th>peakPos</th>\n",
       "      <th>acousticness</th>\n",
       "      <th>danceability</th>\n",
       "      <th>duration_ms</th>\n",
       "      <th>energy</th>\n",
       "      <th>instrumentalness</th>\n",
       "      <th>key</th>\n",
       "      <th>liveness</th>\n",
       "      <th>loudness</th>\n",
       "      <th>mode</th>\n",
       "      <th>speechiness</th>\n",
       "      <th>tempo</th>\n",
       "      <th>time_signature</th>\n",
       "      <th>valence</th>\n",
       "      <th>year</th>\n",
       "      <th>num_weeks_top_ten</th>\n",
       "      <th>num_weeks_bottom</th>\n",
       "    </tr>\n",
       "  </thead>\n",
       "  <tbody>\n",
       "    <tr>\n",
       "      <th>0</th>\n",
       "      <td>0</td>\n",
       "      <td>53</td>\n",
       "      <td>3e-01</td>\n",
       "      <td>6e-01</td>\n",
       "      <td>219173</td>\n",
       "      <td>6e-01</td>\n",
       "      <td>4e-02</td>\n",
       "      <td>5</td>\n",
       "      <td>2e-01</td>\n",
       "      <td>-9</td>\n",
       "      <td>7e-01</td>\n",
       "      <td>7e-02</td>\n",
       "      <td>12</td>\n",
       "      <td>4</td>\n",
       "      <td>6e-01</td>\n",
       "      <td>1985</td>\n",
       "      <td>0</td>\n",
       "      <td>10</td>\n",
       "    </tr>\n",
       "    <tr>\n",
       "      <th>1</th>\n",
       "      <td>1</td>\n",
       "      <td>5</td>\n",
       "      <td>3e-01</td>\n",
       "      <td>6e-01</td>\n",
       "      <td>225462</td>\n",
       "      <td>6e-01</td>\n",
       "      <td>4e-02</td>\n",
       "      <td>5</td>\n",
       "      <td>2e-01</td>\n",
       "      <td>-9</td>\n",
       "      <td>7e-01</td>\n",
       "      <td>6e-02</td>\n",
       "      <td>12</td>\n",
       "      <td>4</td>\n",
       "      <td>6e-01</td>\n",
       "      <td>1983</td>\n",
       "      <td>6</td>\n",
       "      <td>14</td>\n",
       "    </tr>\n",
       "  </tbody>\n",
       "</table>\n",
       "</div>"
      ],
      "text/plain": [
       "   top_ten_hit  peakPos  acousticness  danceability  duration_ms  energy  \\\n",
       "0            0       53         3e-01         6e-01       219173   6e-01   \n",
       "1            1        5         3e-01         6e-01       225462   6e-01   \n",
       "\n",
       "   instrumentalness  key  liveness  loudness   mode  speechiness  tempo  \\\n",
       "0             4e-02    5     2e-01        -9  7e-01        7e-02     12   \n",
       "1             4e-02    5     2e-01        -9  7e-01        6e-02     12   \n",
       "\n",
       "   time_signature  valence  year  num_weeks_top_ten  num_weeks_bottom  \n",
       "0               4    6e-01  1985                  0                10  \n",
       "1               4    6e-01  1983                  6                14  "
      ]
     },
     "execution_count": 6,
     "metadata": {},
     "output_type": "execute_result"
    }
   ],
   "source": [
    "top_ten_prediction.groupby(['top_ten_hit']).mean().reset_index()"
   ]
  },
  {
   "cell_type": "markdown",
   "metadata": {
    "collapsed": false
   },
   "source": [
    "From this initial investigation it seems like there is very little difference between the audio metadata features between songs making the Top Ten and songs that do not. However, from our previous observations of the averages over time we know that for certain years the averages between top ten hits and songs in the bottom ninety can differ significantly."
   ]
  },
  {
   "cell_type": "markdown",
   "metadata": {},
   "source": [
    "# Data Visualization"
   ]
  },
  {
   "cell_type": "markdown",
   "metadata": {},
   "source": [
    "The key variable is an integer between zero and eleven and time signature is an integer between 2 and 5. These are not on a numerical scale so we introduce dummy indicator variables to distinguish between the cases when using regression."
   ]
  },
  {
   "cell_type": "code",
   "execution_count": 7,
   "metadata": {
    "collapsed": false
   },
   "outputs": [
    {
     "name": "stderr",
     "output_type": "stream",
     "text": [
      "C:\\Users\\MSI_USER\\Anaconda3\\lib\\site-packages\\pandas\\core\\generic.py:2773: SettingWithCopyWarning: \n",
      "A value is trying to be set on a copy of a slice from a DataFrame.\n",
      "Try using .loc[row_indexer,col_indexer] = value instead\n",
      "\n",
      "See the caveats in the documentation: http://pandas.pydata.org/pandas-docs/stable/indexing.html#indexing-view-versus-copy\n",
      "  self[name] = value\n"
     ]
    }
   ],
   "source": [
    "# Change key and time entries to integers\n",
    "top_ten_prediction.key=top_ten_prediction.key.astype(int)\n",
    "top_ten_prediction.time_signature=top_ten_prediction.time_signature.astype(int)\n",
    "# create dummy variables using get_dummies, then exclude the first dummy column\n",
    "key_dummies = pd.get_dummies(top_ten_prediction.key, prefix='key').iloc[:, 1:]\n",
    "time_dummies = pd.get_dummies(top_ten_prediction.time_signature, prefix='time').iloc[:, 1:]\n",
    "# concatenate the dummy variable columns onto the original DataFrame (axis=0 means rows, axis=1 means columns)\n",
    "top_ten_no_na_dum = pd.concat([top_ten_prediction, key_dummies,time_dummies], axis=1)"
   ]
  },
  {
   "cell_type": "code",
   "execution_count": 8,
   "metadata": {
    "collapsed": false
   },
   "outputs": [
    {
     "data": {
      "text/html": [
       "<div>\n",
       "<table border=\"1\" class=\"dataframe\">\n",
       "  <thead>\n",
       "    <tr style=\"text-align: right;\">\n",
       "      <th></th>\n",
       "      <th>peakPos</th>\n",
       "      <th>acousticness</th>\n",
       "      <th>danceability</th>\n",
       "      <th>duration_ms</th>\n",
       "      <th>energy</th>\n",
       "      <th>instrumentalness</th>\n",
       "      <th>key</th>\n",
       "      <th>liveness</th>\n",
       "      <th>loudness</th>\n",
       "      <th>mode</th>\n",
       "      <th>...</th>\n",
       "      <th>key_5</th>\n",
       "      <th>key_6</th>\n",
       "      <th>key_7</th>\n",
       "      <th>key_8</th>\n",
       "      <th>key_9</th>\n",
       "      <th>key_10</th>\n",
       "      <th>key_11</th>\n",
       "      <th>time_3</th>\n",
       "      <th>time_4</th>\n",
       "      <th>time_5</th>\n",
       "    </tr>\n",
       "  </thead>\n",
       "  <tbody>\n",
       "    <tr>\n",
       "      <th>0</th>\n",
       "      <td>4</td>\n",
       "      <td>3e-01</td>\n",
       "      <td>9e-01</td>\n",
       "      <td>204933</td>\n",
       "      <td>7e-01</td>\n",
       "      <td>0e+00</td>\n",
       "      <td>9</td>\n",
       "      <td>2e-01</td>\n",
       "      <td>-4e+00</td>\n",
       "      <td>0</td>\n",
       "      <td>...</td>\n",
       "      <td>0</td>\n",
       "      <td>0</td>\n",
       "      <td>0</td>\n",
       "      <td>0</td>\n",
       "      <td>1</td>\n",
       "      <td>0</td>\n",
       "      <td>0</td>\n",
       "      <td>0</td>\n",
       "      <td>1</td>\n",
       "      <td>0</td>\n",
       "    </tr>\n",
       "    <tr>\n",
       "      <th>1</th>\n",
       "      <td>6</td>\n",
       "      <td>4e-01</td>\n",
       "      <td>6e-01</td>\n",
       "      <td>219813</td>\n",
       "      <td>7e-01</td>\n",
       "      <td>6e-06</td>\n",
       "      <td>2</td>\n",
       "      <td>1e-01</td>\n",
       "      <td>-4e+00</td>\n",
       "      <td>0</td>\n",
       "      <td>...</td>\n",
       "      <td>0</td>\n",
       "      <td>0</td>\n",
       "      <td>0</td>\n",
       "      <td>0</td>\n",
       "      <td>0</td>\n",
       "      <td>0</td>\n",
       "      <td>0</td>\n",
       "      <td>0</td>\n",
       "      <td>1</td>\n",
       "      <td>0</td>\n",
       "    </tr>\n",
       "    <tr>\n",
       "      <th>2</th>\n",
       "      <td>4</td>\n",
       "      <td>6e-01</td>\n",
       "      <td>6e-01</td>\n",
       "      <td>143867</td>\n",
       "      <td>4e-01</td>\n",
       "      <td>0e+00</td>\n",
       "      <td>10</td>\n",
       "      <td>4e-01</td>\n",
       "      <td>-1e+01</td>\n",
       "      <td>0</td>\n",
       "      <td>...</td>\n",
       "      <td>0</td>\n",
       "      <td>0</td>\n",
       "      <td>0</td>\n",
       "      <td>0</td>\n",
       "      <td>0</td>\n",
       "      <td>1</td>\n",
       "      <td>0</td>\n",
       "      <td>0</td>\n",
       "      <td>1</td>\n",
       "      <td>0</td>\n",
       "    </tr>\n",
       "    <tr>\n",
       "      <th>3</th>\n",
       "      <td>1</td>\n",
       "      <td>2e-03</td>\n",
       "      <td>5e-01</td>\n",
       "      <td>233987</td>\n",
       "      <td>1e+00</td>\n",
       "      <td>0e+00</td>\n",
       "      <td>1</td>\n",
       "      <td>1e-01</td>\n",
       "      <td>-9e-01</td>\n",
       "      <td>1</td>\n",
       "      <td>...</td>\n",
       "      <td>0</td>\n",
       "      <td>0</td>\n",
       "      <td>0</td>\n",
       "      <td>0</td>\n",
       "      <td>0</td>\n",
       "      <td>0</td>\n",
       "      <td>0</td>\n",
       "      <td>0</td>\n",
       "      <td>1</td>\n",
       "      <td>0</td>\n",
       "    </tr>\n",
       "    <tr>\n",
       "      <th>4</th>\n",
       "      <td>4</td>\n",
       "      <td>7e-03</td>\n",
       "      <td>8e-01</td>\n",
       "      <td>286712</td>\n",
       "      <td>7e-01</td>\n",
       "      <td>1e-06</td>\n",
       "      <td>1</td>\n",
       "      <td>3e-01</td>\n",
       "      <td>-8e+00</td>\n",
       "      <td>1</td>\n",
       "      <td>...</td>\n",
       "      <td>0</td>\n",
       "      <td>0</td>\n",
       "      <td>0</td>\n",
       "      <td>0</td>\n",
       "      <td>0</td>\n",
       "      <td>0</td>\n",
       "      <td>0</td>\n",
       "      <td>0</td>\n",
       "      <td>1</td>\n",
       "      <td>0</td>\n",
       "    </tr>\n",
       "    <tr>\n",
       "      <th>5</th>\n",
       "      <td>1</td>\n",
       "      <td>8e-02</td>\n",
       "      <td>5e-01</td>\n",
       "      <td>394133</td>\n",
       "      <td>4e-01</td>\n",
       "      <td>5e-05</td>\n",
       "      <td>1</td>\n",
       "      <td>7e-02</td>\n",
       "      <td>-1e+01</td>\n",
       "      <td>1</td>\n",
       "      <td>...</td>\n",
       "      <td>0</td>\n",
       "      <td>0</td>\n",
       "      <td>0</td>\n",
       "      <td>0</td>\n",
       "      <td>0</td>\n",
       "      <td>0</td>\n",
       "      <td>0</td>\n",
       "      <td>0</td>\n",
       "      <td>1</td>\n",
       "      <td>0</td>\n",
       "    </tr>\n",
       "    <tr>\n",
       "      <th>6</th>\n",
       "      <td>8</td>\n",
       "      <td>4e-01</td>\n",
       "      <td>5e-01</td>\n",
       "      <td>243493</td>\n",
       "      <td>5e-01</td>\n",
       "      <td>0e+00</td>\n",
       "      <td>10</td>\n",
       "      <td>1e-01</td>\n",
       "      <td>-8e+00</td>\n",
       "      <td>1</td>\n",
       "      <td>...</td>\n",
       "      <td>0</td>\n",
       "      <td>0</td>\n",
       "      <td>0</td>\n",
       "      <td>0</td>\n",
       "      <td>0</td>\n",
       "      <td>1</td>\n",
       "      <td>0</td>\n",
       "      <td>0</td>\n",
       "      <td>1</td>\n",
       "      <td>0</td>\n",
       "    </tr>\n",
       "    <tr>\n",
       "      <th>7</th>\n",
       "      <td>1</td>\n",
       "      <td>5e-01</td>\n",
       "      <td>7e-01</td>\n",
       "      <td>215600</td>\n",
       "      <td>4e-01</td>\n",
       "      <td>6e-06</td>\n",
       "      <td>4</td>\n",
       "      <td>1e-01</td>\n",
       "      <td>-1e+01</td>\n",
       "      <td>1</td>\n",
       "      <td>...</td>\n",
       "      <td>0</td>\n",
       "      <td>0</td>\n",
       "      <td>0</td>\n",
       "      <td>0</td>\n",
       "      <td>0</td>\n",
       "      <td>0</td>\n",
       "      <td>0</td>\n",
       "      <td>0</td>\n",
       "      <td>1</td>\n",
       "      <td>0</td>\n",
       "    </tr>\n",
       "    <tr>\n",
       "      <th>8</th>\n",
       "      <td>1</td>\n",
       "      <td>4e-02</td>\n",
       "      <td>7e-01</td>\n",
       "      <td>222973</td>\n",
       "      <td>9e-01</td>\n",
       "      <td>7e-02</td>\n",
       "      <td>2</td>\n",
       "      <td>1e-01</td>\n",
       "      <td>-7e+00</td>\n",
       "      <td>1</td>\n",
       "      <td>...</td>\n",
       "      <td>0</td>\n",
       "      <td>0</td>\n",
       "      <td>0</td>\n",
       "      <td>0</td>\n",
       "      <td>0</td>\n",
       "      <td>0</td>\n",
       "      <td>0</td>\n",
       "      <td>0</td>\n",
       "      <td>1</td>\n",
       "      <td>0</td>\n",
       "    </tr>\n",
       "    <tr>\n",
       "      <th>9</th>\n",
       "      <td>1</td>\n",
       "      <td>1e-02</td>\n",
       "      <td>6e-01</td>\n",
       "      <td>278627</td>\n",
       "      <td>7e-01</td>\n",
       "      <td>8e-05</td>\n",
       "      <td>11</td>\n",
       "      <td>7e-02</td>\n",
       "      <td>-1e+01</td>\n",
       "      <td>0</td>\n",
       "      <td>...</td>\n",
       "      <td>0</td>\n",
       "      <td>0</td>\n",
       "      <td>0</td>\n",
       "      <td>0</td>\n",
       "      <td>0</td>\n",
       "      <td>0</td>\n",
       "      <td>1</td>\n",
       "      <td>0</td>\n",
       "      <td>1</td>\n",
       "      <td>0</td>\n",
       "    </tr>\n",
       "  </tbody>\n",
       "</table>\n",
       "<p>10 rows × 32 columns</p>\n",
       "</div>"
      ],
      "text/plain": [
       "   peakPos  acousticness  danceability  duration_ms  energy  instrumentalness  \\\n",
       "0        4         3e-01         9e-01       204933   7e-01             0e+00   \n",
       "1        6         4e-01         6e-01       219813   7e-01             6e-06   \n",
       "2        4         6e-01         6e-01       143867   4e-01             0e+00   \n",
       "3        1         2e-03         5e-01       233987   1e+00             0e+00   \n",
       "4        4         7e-03         8e-01       286712   7e-01             1e-06   \n",
       "5        1         8e-02         5e-01       394133   4e-01             5e-05   \n",
       "6        8         4e-01         5e-01       243493   5e-01             0e+00   \n",
       "7        1         5e-01         7e-01       215600   4e-01             6e-06   \n",
       "8        1         4e-02         7e-01       222973   9e-01             7e-02   \n",
       "9        1         1e-02         6e-01       278627   7e-01             8e-05   \n",
       "\n",
       "   key  liveness  loudness  mode   ...    key_5  key_6  key_7  key_8  key_9  \\\n",
       "0    9     2e-01    -4e+00     0   ...        0      0      0      0      1   \n",
       "1    2     1e-01    -4e+00     0   ...        0      0      0      0      0   \n",
       "2   10     4e-01    -1e+01     0   ...        0      0      0      0      0   \n",
       "3    1     1e-01    -9e-01     1   ...        0      0      0      0      0   \n",
       "4    1     3e-01    -8e+00     1   ...        0      0      0      0      0   \n",
       "5    1     7e-02    -1e+01     1   ...        0      0      0      0      0   \n",
       "6   10     1e-01    -8e+00     1   ...        0      0      0      0      0   \n",
       "7    4     1e-01    -1e+01     1   ...        0      0      0      0      0   \n",
       "8    2     1e-01    -7e+00     1   ...        0      0      0      0      0   \n",
       "9   11     7e-02    -1e+01     0   ...        0      0      0      0      0   \n",
       "\n",
       "   key_10  key_11  time_3  time_4  time_5  \n",
       "0       0       0       0       1       0  \n",
       "1       0       0       0       1       0  \n",
       "2       1       0       0       1       0  \n",
       "3       0       0       0       1       0  \n",
       "4       0       0       0       1       0  \n",
       "5       0       0       0       1       0  \n",
       "6       1       0       0       1       0  \n",
       "7       0       0       0       1       0  \n",
       "8       0       0       0       1       0  \n",
       "9       0       1       0       1       0  \n",
       "\n",
       "[10 rows x 32 columns]"
      ]
     },
     "execution_count": 8,
     "metadata": {},
     "output_type": "execute_result"
    }
   ],
   "source": [
    "top_ten_no_na_dum.head(10)"
   ]
  },
  {
   "cell_type": "markdown",
   "metadata": {},
   "source": [
    "We check the histograms to see how they are distributed."
   ]
  },
  {
   "cell_type": "code",
   "execution_count": 9,
   "metadata": {
    "collapsed": false
   },
   "outputs": [
    {
     "data": {
      "image/png": "[encoded data removed]",
      "text/plain": [
       "<matplotlib.figure.Figure at 0x21eb4146940>"
      ]
     },
     "metadata": {},
     "output_type": "display_data"
    }
   ],
   "source": [
    "# Univariate Histograms\n",
    "top_ten_no_na_dum.hist(figsize=(13, 13))\n",
    "plt.show()"
   ]
  },
  {
   "cell_type": "markdown",
   "metadata": {},
   "source": [
    "We've already discussed these distributions in the data story. We also perform a box and whiskers plot."
   ]
  },
  {
   "cell_type": "code",
   "execution_count": 9,
   "metadata": {
    "collapsed": false
   },
   "outputs": [
    {
     "data": {
      "image/png": "[encoded data removed]",
      "text/plain": [
       "<matplotlib.figure.Figure at 0x1921dd8e6d8>"
      ]
     },
     "metadata": {},
     "output_type": "display_data"
    }
   ],
   "source": [
    "top_ten_no_na_dum.plot(kind='box', subplots=True,layout=(8,4), figsize=(12, 12), sharex=False, sharey=False)\n",
    "plt.show()"
   ]
  },
  {
   "cell_type": "markdown",
   "metadata": {},
   "source": [
    "From these observations we see there are a few outliers for the duration variable. We now investigate for other outliers."
   ]
  },
  {
   "cell_type": "markdown",
   "metadata": {},
   "source": [
    "## Outlier Detection\n",
    "\n",
    "From the distributions above we see that 'danceability', 'duration_ms', 'energy', 'loudness', and 'tempo' have distributions that appear somewhat normal so we look for outliers from these features by checking for songs with observations that are more than two standard deviations away from the means."
   ]
  },
  {
   "cell_type": "code",
   "execution_count": 10,
   "metadata": {
    "collapsed": true
   },
   "outputs": [],
   "source": [
    "top_ten_outlier_test=top_ten_prediction[['danceability','duration_ms','energy','loudness','tempo']]"
   ]
  },
  {
   "cell_type": "code",
   "execution_count": 11,
   "metadata": {
    "collapsed": false
   },
   "outputs": [],
   "source": [
    "outliers=pd.DataFrame()\n",
    "for column in top_ten_outlier_test.columns:\n",
    "    mean = np.mean(top_ten_outlier_test[column], axis=0)\n",
    "    sd = np.std(top_ten_outlier_test[column], axis=0)\n",
    "    column_outliers_small=top_ten_outlier_test[top_ten_outlier_test[column]< mean-2*sd]\n",
    "    column_outliers_large=top_ten_outlier_test[top_ten_outlier_test[column]> mean+2*sd]\n",
    "    outliers=pd.concat([outliers,column_outliers_small],axis=0)\n",
    "    outliers=pd.concat([outliers,column_outliers_large],axis=0)"
   ]
  },
  {
   "cell_type": "code",
   "execution_count": 12,
   "metadata": {
    "collapsed": false
   },
   "outputs": [
    {
     "data": {
      "text/plain": [
       "4159"
      ]
     },
     "execution_count": 12,
     "metadata": {},
     "output_type": "execute_result"
    }
   ],
   "source": [
    "len(outliers)"
   ]
  },
  {
   "cell_type": "markdown",
   "metadata": {
    "collapsed": false
   },
   "source": [
    "We obtain 4159 songs with outlier data. Since this is still a rather large amount of data with respect to the overall size of the dtaset, we do not remove these songs from our dataset."
   ]
  },
  {
   "cell_type": "code",
   "execution_count": 13,
   "metadata": {
    "collapsed": false
   },
   "outputs": [
    {
     "data": {
      "image/png": "[encoded data removed]",
      "text/plain": [
       "<matplotlib.figure.Figure at 0x21ec8134748>"
      ]
     },
     "metadata": {},
     "output_type": "display_data"
    }
   ],
   "source": [
    "corr = top_ten_no_na_dum.corr()\n",
    "sns.heatmap(corr, \n",
    "            xticklabels=corr.columns.values,\n",
    "            yticklabels=corr.columns.values)\n",
    "plt.show()"
   ]
  },
  {
   "cell_type": "markdown",
   "metadata": {},
   "source": [
    "From this we see a high positive correlation between energy and loudness and high negative correlation between acousticness and both loudness and energy. \n",
    "\n",
    "We also have that peakPos and num_weeks_top_ten will completely determine if a song is a top ten hit so we must remove them from our model. We also drop time_signature and key since these are explained by the dummy variables."
   ]
  },
  {
   "cell_type": "code",
   "execution_count": 14,
   "metadata": {
    "collapsed": false
   },
   "outputs": [],
   "source": [
    "top_ten_no_na_dum.drop(['peakPos','num_weeks_top_ten','key','time_signature'],axis=1,inplace=True)\n",
    "linear_feature_cols = ['acousticness','danceability','duration_ms','energy','instrumentalness','liveness','loudness','mode','speechiness','tempo','valence','key_1','key_2','key_3','key_4','key_5','key_7','key_8','key_9','key_10','key_11','time_3','time_4','time_5','num_weeks_bottom']"
   ]
  },
  {
   "cell_type": "markdown",
   "metadata": {},
   "source": [
    "## VIF Variance Inflation Factor\n",
    "\n",
    "The Correlation matrix above is used to detect colinearity between two variables. However, multicolinearity is a measurement of correlation from three or more variables and can emerge even when isolated pairs of variables are not colinear.\n",
    "\n",
    "We use the Variance Inflation Factor (VIF) as a measure of colinearity among predictor variables within a multiple regression. It is given by the formula: $ VIF = 1 / (1 - R^2). $"
   ]
  },
  {
   "cell_type": "code",
   "execution_count": 17,
   "metadata": {
    "collapsed": false
   },
   "outputs": [
    {
     "data": {
      "text/html": [
       "<div>\n",
       "<table border=\"1\" class=\"dataframe\">\n",
       "  <thead>\n",
       "    <tr style=\"text-align: right;\">\n",
       "      <th></th>\n",
       "      <th>VIF Factor</th>\n",
       "      <th>features</th>\n",
       "    </tr>\n",
       "  </thead>\n",
       "  <tbody>\n",
       "    <tr>\n",
       "      <th>0</th>\n",
       "      <td>366</td>\n",
       "      <td>Intercept</td>\n",
       "    </tr>\n",
       "    <tr>\n",
       "      <th>1</th>\n",
       "      <td>2</td>\n",
       "      <td>acousticness</td>\n",
       "    </tr>\n",
       "    <tr>\n",
       "      <th>2</th>\n",
       "      <td>2</td>\n",
       "      <td>danceability</td>\n",
       "    </tr>\n",
       "    <tr>\n",
       "      <th>3</th>\n",
       "      <td>1</td>\n",
       "      <td>duration_ms</td>\n",
       "    </tr>\n",
       "    <tr>\n",
       "      <th>4</th>\n",
       "      <td>4</td>\n",
       "      <td>energy</td>\n",
       "    </tr>\n",
       "    <tr>\n",
       "      <th>5</th>\n",
       "      <td>1</td>\n",
       "      <td>instrumentalness</td>\n",
       "    </tr>\n",
       "    <tr>\n",
       "      <th>6</th>\n",
       "      <td>1</td>\n",
       "      <td>liveness</td>\n",
       "    </tr>\n",
       "    <tr>\n",
       "      <th>7</th>\n",
       "      <td>2</td>\n",
       "      <td>loudness</td>\n",
       "    </tr>\n",
       "    <tr>\n",
       "      <th>8</th>\n",
       "      <td>1</td>\n",
       "      <td>mode</td>\n",
       "    </tr>\n",
       "    <tr>\n",
       "      <th>9</th>\n",
       "      <td>1</td>\n",
       "      <td>speechiness</td>\n",
       "    </tr>\n",
       "    <tr>\n",
       "      <th>10</th>\n",
       "      <td>1</td>\n",
       "      <td>tempo</td>\n",
       "    </tr>\n",
       "    <tr>\n",
       "      <th>11</th>\n",
       "      <td>2</td>\n",
       "      <td>valence</td>\n",
       "    </tr>\n",
       "    <tr>\n",
       "      <th>12</th>\n",
       "      <td>1</td>\n",
       "      <td>key_1</td>\n",
       "    </tr>\n",
       "    <tr>\n",
       "      <th>13</th>\n",
       "      <td>1</td>\n",
       "      <td>key_2</td>\n",
       "    </tr>\n",
       "    <tr>\n",
       "      <th>14</th>\n",
       "      <td>1</td>\n",
       "      <td>key_3</td>\n",
       "    </tr>\n",
       "    <tr>\n",
       "      <th>15</th>\n",
       "      <td>1</td>\n",
       "      <td>key_4</td>\n",
       "    </tr>\n",
       "    <tr>\n",
       "      <th>16</th>\n",
       "      <td>1</td>\n",
       "      <td>key_5</td>\n",
       "    </tr>\n",
       "    <tr>\n",
       "      <th>17</th>\n",
       "      <td>1</td>\n",
       "      <td>key_7</td>\n",
       "    </tr>\n",
       "    <tr>\n",
       "      <th>18</th>\n",
       "      <td>1</td>\n",
       "      <td>key_8</td>\n",
       "    </tr>\n",
       "    <tr>\n",
       "      <th>19</th>\n",
       "      <td>1</td>\n",
       "      <td>key_9</td>\n",
       "    </tr>\n",
       "    <tr>\n",
       "      <th>20</th>\n",
       "      <td>1</td>\n",
       "      <td>key_10</td>\n",
       "    </tr>\n",
       "    <tr>\n",
       "      <th>21</th>\n",
       "      <td>1</td>\n",
       "      <td>key_11</td>\n",
       "    </tr>\n",
       "    <tr>\n",
       "      <th>22</th>\n",
       "      <td>17</td>\n",
       "      <td>time_3</td>\n",
       "    </tr>\n",
       "    <tr>\n",
       "      <th>23</th>\n",
       "      <td>18</td>\n",
       "      <td>time_4</td>\n",
       "    </tr>\n",
       "    <tr>\n",
       "      <th>24</th>\n",
       "      <td>3</td>\n",
       "      <td>time_5</td>\n",
       "    </tr>\n",
       "    <tr>\n",
       "      <th>25</th>\n",
       "      <td>1</td>\n",
       "      <td>num_weeks_bottom</td>\n",
       "    </tr>\n",
       "  </tbody>\n",
       "</table>\n",
       "</div>"
      ],
      "text/plain": [
       "    VIF Factor          features\n",
       "0          366         Intercept\n",
       "1            2      acousticness\n",
       "2            2      danceability\n",
       "3            1       duration_ms\n",
       "4            4            energy\n",
       "5            1  instrumentalness\n",
       "6            1          liveness\n",
       "7            2          loudness\n",
       "8            1              mode\n",
       "9            1       speechiness\n",
       "10           1             tempo\n",
       "11           2           valence\n",
       "12           1             key_1\n",
       "13           1             key_2\n",
       "14           1             key_3\n",
       "15           1             key_4\n",
       "16           1             key_5\n",
       "17           1             key_7\n",
       "18           1             key_8\n",
       "19           1             key_9\n",
       "20           1            key_10\n",
       "21           1            key_11\n",
       "22          17            time_3\n",
       "23          18            time_4\n",
       "24           3            time_5\n",
       "25           1  num_weeks_bottom"
      ]
     },
     "execution_count": 17,
     "metadata": {},
     "output_type": "execute_result"
    }
   ],
   "source": [
    "from patsy import dmatrices\n",
    "import statsmodels.api as sm\n",
    "from statsmodels.stats.outliers_influence import variance_inflation_factor\n",
    "\n",
    "feature_cols_str = \"+\".join(linear_feature_cols)\n",
    "# get y and X dataframes based on this regression:\n",
    "y_vif, X_vif = dmatrices('top_ten_hit ~' + feature_cols_str, top_ten_no_na_dum, return_type='dataframe')\n",
    "# For each X, calculate VIF and save in dataframe\n",
    "vif = pd.DataFrame()\n",
    "vif[\"VIF Factor\"] = [variance_inflation_factor(X_vif.values, i) for i in range(X_vif.shape[1])]\n",
    "vif[\"features\"] = X_vif.columns\n",
    "vif"
   ]
  },
  {
   "cell_type": "markdown",
   "metadata": {
    "collapsed": false
   },
   "source": [
    "Note that we obtain integer values for our VIF Factors since the key and time features are now integers. We see that there is some degree of multi-colinearity between time_3 and time_4. Over 90% of songs were in 4/4 time so it will not be a very good predictor feature so we remove it from our dataset."
   ]
  },
  {
   "cell_type": "code",
   "execution_count": 19,
   "metadata": {
    "collapsed": true
   },
   "outputs": [],
   "source": [
    "top_ten_no_na_dum.drop(['time_4'],axis=1,inplace=True)"
   ]
  },
  {
   "cell_type": "markdown",
   "metadata": {},
   "source": [
    "# Machine Learning Modeling Phase"
   ]
  },
  {
   "cell_type": "code",
   "execution_count": 20,
   "metadata": {
    "collapsed": false
   },
   "outputs": [
    {
     "name": "stderr",
     "output_type": "stream",
     "text": [
      "C:\\Users\\MSI_USER\\Anaconda3\\lib\\site-packages\\sklearn\\cross_validation.py:44: DeprecationWarning: This module was deprecated in version 0.18 in favor of the model_selection module into which all the refactored classes and functions are moved. Also note that the interface of the new CV iterators are different from that of this module. This module will be removed in 0.20.\n",
      "  \"This module will be removed in 0.20.\", DeprecationWarning)\n",
      "C:\\Users\\MSI_USER\\Anaconda3\\lib\\site-packages\\sklearn\\grid_search.py:43: DeprecationWarning: This module was deprecated in version 0.18 in favor of the model_selection module into which all the refactored classes and functions are moved. This module will be removed in 0.20.\n",
      "  DeprecationWarning)\n"
     ]
    }
   ],
   "source": [
    "# Machine Learning Imports\n",
    "from sklearn.model_selection import train_test_split\n",
    "from sklearn.model_selection import StratifiedShuffleSplit\n",
    "from sklearn.grid_search import GridSearchCV\n",
    "from sklearn.metrics import classification_report\n",
    "from sklearn.metrics import confusion_matrix\n",
    "from sklearn.metrics import accuracy_score\n",
    "from sklearn.metrics import roc_auc_score\n",
    "from sklearn.metrics import r2_score"
   ]
  },
  {
   "cell_type": "code",
   "execution_count": 21,
   "metadata": {
    "collapsed": false
   },
   "outputs": [
    {
     "data": {
      "text/plain": [
       "19.390656736628301"
      ]
     },
     "execution_count": 21,
     "metadata": {},
     "output_type": "execute_result"
    }
   ],
   "source": [
    "sum(top_ten_prediction.top_ten_hit)/len(top_ten_prediction)*100"
   ]
  },
  {
   "cell_type": "markdown",
   "metadata": {},
   "source": [
    "From this we see that 19.390% of the songs in our dataset are top ten hits. Thus, when modeling we can obtain an 80.609% accuracy score just by always predicting that the song is not a top ten hit. \n",
    "\n",
    "We have that 'top_ten_hit' is the target variable in our classification problem. To account for this imbalance in positive and negative samples we use StratifiedShuffleSplit to ensure that relative class frequencies are approximately preserved in each train and validation fold."
   ]
  },
  {
   "cell_type": "markdown",
   "metadata": {},
   "source": [
    "# Classification Algorithms\n",
    "We first create an algorithm using GridSearch to optimize the parameters in the cross-validation stage. We will initially use 5-fold cross-validation. "
   ]
  },
  {
   "cell_type": "code",
   "execution_count": 22,
   "metadata": {
    "collapsed": true
   },
   "outputs": [],
   "source": [
    "# Given a set of hyperparameters and training data we use Grid Search to find the best choice of hyperparameters\n",
    "def cv_optimize(clf, parameters, Xtrain, ytrain, n_folds=5):\n",
    "    gs = GridSearchCV(clf, param_grid=parameters, cv=n_folds)\n",
    "    gs.fit(Xtrain, ytrain)\n",
    "    print(\"BEST PARAMS\", gs.best_params_)\n",
    "    best = gs.best_estimator_\n",
    "    return best"
   ]
  },
  {
   "cell_type": "markdown",
   "metadata": {},
   "source": [
    "We write the following classification algorithm that we can use with multiple machine learning models given a dataset, target variable and hyperparameters."
   ]
  },
  {
   "cell_type": "code",
   "execution_count": 23,
   "metadata": {
    "collapsed": false
   },
   "outputs": [],
   "source": [
    "# We use a 75-25 Train-Test split by default and do not standardize the audiodata metadata features\n",
    "# We set the seed to 7 to obtain consistent results\n",
    "def do_classify(clf, parameters, indf, featurenames, targetname, target1val, standardize=False, train_size=0.75,seed = 7):\n",
    "    #To create the 'X' dataset we first standardize by the mean and standard deviation is standardize is set to True\n",
    "    subdf=indf[featurenames]\n",
    "    if standardize:\n",
    "        subdfstd=(subdf - subdf.mean())/subdf.std()\n",
    "    else:\n",
    "        subdfstd=subdf\n",
    "    #Create the 'X' and 'y' datasets\n",
    "    X=subdfstd.values\n",
    "    y=(indf[targetname].values==target1val)*1\n",
    "    #Split X and y into training and test data.\n",
    "    # Here we implement the Stratified ShuffleSplit with n_splits =3 to account for  the discrepancy \n",
    "    # between the number of positive and negative samples.\n",
    "    sss = StratifiedShuffleSplit(n_splits=3, test_size=1-train_size, random_state=seed)\n",
    "    for train_index, test_index in sss.split(X,y):\n",
    "        Xtrain, Xtest = X[train_index], X[test_index]\n",
    "        ytrain, ytest = y[train_index], y[test_index]\n",
    "        #Now implement GridSearchCV for the cross validation step \n",
    "        clf = cv_optimize(clf, parameters, Xtrain, ytrain)\n",
    "        #Use the classifier to fit the training data\n",
    "        clf=clf.fit(Xtrain, ytrain)\n",
    "        training_accuracy = clf.score(Xtrain, ytrain)\n",
    "        test_accuracy = clf.score(Xtest, ytest)\n",
    "        print(\"Accuracy on training data: {:0.5f}\".format(training_accuracy))\n",
    "        print(\"Accuracy on test data:     {:0.5f}\".format(test_accuracy))\n",
    "        test_prediction=clf.predict(Xtest)\n",
    "        print(confusion_matrix(ytest,test_prediction))\n",
    "        print(classification_report(ytest,test_prediction))\n",
    "    return clf, Xtrain, ytrain, Xtest, ytest"
   ]
  },
  {
   "cell_type": "markdown",
   "metadata": {},
   "source": [
    "Since our question is primarily a binary classification problem, Linear Regression is not a recommended model to use so we begin with Logistic Regression."
   ]
  },
  {
   "cell_type": "markdown",
   "metadata": {
    "collapsed": false
   },
   "source": [
    "# Logistic Regression"
   ]
  },
  {
   "cell_type": "code",
   "execution_count": 25,
   "metadata": {
    "collapsed": false
   },
   "outputs": [
    {
     "name": "stdout",
     "output_type": "stream",
     "text": [
      "BEST PARAMS {'C': 0.001}\n",
      "Accuracy on training data: 0.80609\n",
      "Accuracy on test data:     0.80610\n",
      "[[4465    0]\n",
      " [1074    0]]\n",
      "             precision    recall  f1-score   support\n",
      "\n",
      "          0       0.81      1.00      0.89      4465\n",
      "          1       0.00      0.00      0.00      1074\n",
      "\n",
      "avg / total       0.65      0.81      0.72      5539\n",
      "\n"
     ]
    },
    {
     "name": "stderr",
     "output_type": "stream",
     "text": [
      "C:\\Users\\MSI_USER\\Anaconda3\\lib\\site-packages\\sklearn\\metrics\\classification.py:1113: UndefinedMetricWarning: Precision and F-score are ill-defined and being set to 0.0 in labels with no predicted samples.\n",
      "  'precision', 'predicted', average, warn_for)\n"
     ]
    },
    {
     "name": "stdout",
     "output_type": "stream",
     "text": [
      "BEST PARAMS {'C': 0.001}\n",
      "Accuracy on training data: 0.80609\n",
      "Accuracy on test data:     0.80610\n",
      "[[4465    0]\n",
      " [1074    0]]\n",
      "             precision    recall  f1-score   support\n",
      "\n",
      "          0       0.81      1.00      0.89      4465\n",
      "          1       0.00      0.00      0.00      1074\n",
      "\n",
      "avg / total       0.65      0.81      0.72      5539\n",
      "\n"
     ]
    },
    {
     "name": "stderr",
     "output_type": "stream",
     "text": [
      "C:\\Users\\MSI_USER\\Anaconda3\\lib\\site-packages\\sklearn\\metrics\\classification.py:1113: UndefinedMetricWarning: Precision and F-score are ill-defined and being set to 0.0 in labels with no predicted samples.\n",
      "  'precision', 'predicted', average, warn_for)\n"
     ]
    },
    {
     "name": "stdout",
     "output_type": "stream",
     "text": [
      "BEST PARAMS {'C': 0.001}\n",
      "Accuracy on training data: 0.80609\n",
      "Accuracy on test data:     0.80610\n",
      "[[4465    0]\n",
      " [1074    0]]\n",
      "             precision    recall  f1-score   support\n",
      "\n",
      "          0       0.81      1.00      0.89      4465\n",
      "          1       0.00      0.00      0.00      1074\n",
      "\n",
      "avg / total       0.65      0.81      0.72      5539\n",
      "\n"
     ]
    },
    {
     "name": "stderr",
     "output_type": "stream",
     "text": [
      "C:\\Users\\MSI_USER\\Anaconda3\\lib\\site-packages\\sklearn\\metrics\\classification.py:1113: UndefinedMetricWarning: Precision and F-score are ill-defined and being set to 0.0 in labels with no predicted samples.\n",
      "  'precision', 'predicted', average, warn_for)\n"
     ]
    }
   ],
   "source": [
    "linear_feature_cols = ['acousticness','danceability','duration_ms','energy','instrumentalness','liveness','loudness','mode','speechiness','tempo','valence','key_1','key_2','key_3','key_4','key_5','key_7','key_8','key_9','key_10','key_11','time_3','time_5','num_weeks_bottom']\n",
    "from sklearn.linear_model import LogisticRegression\n",
    "params = {\"C\": [0.001, 0.1, 1, 10, 100]}\n",
    "clf_log, Xtrain_log, ytrain_log, Xtest_log, ytest_log  = do_classify(LogisticRegression(), \n",
    "                                                           params, \n",
    "                                                           top_ten_no_na_dum, linear_feature_cols, 'top_ten_hit',1)"
   ]
  },
  {
   "cell_type": "markdown",
   "metadata": {},
   "source": [
    "** We  see that even after implementing stratification we still obtain a logistic regrssion model that always predicts that a song will not be a Top Ten hit. Thus we do not improve upon the accuracy of the trivial prediction model.**"
   ]
  },
  {
   "cell_type": "code",
   "execution_count": 26,
   "metadata": {
    "collapsed": false
   },
   "outputs": [
    {
     "data": {
      "text/html": [
       "<div>\n",
       "<table border=\"1\" class=\"dataframe\">\n",
       "  <thead>\n",
       "    <tr style=\"text-align: right;\">\n",
       "      <th></th>\n",
       "      <th>feature</th>\n",
       "      <th>log_coefficient</th>\n",
       "    </tr>\n",
       "  </thead>\n",
       "  <tbody>\n",
       "    <tr>\n",
       "      <th>0</th>\n",
       "      <td>acousticness</td>\n",
       "      <td>-0.00015</td>\n",
       "    </tr>\n",
       "    <tr>\n",
       "      <th>1</th>\n",
       "      <td>danceability</td>\n",
       "      <td>-0.00005</td>\n",
       "    </tr>\n",
       "    <tr>\n",
       "      <th>2</th>\n",
       "      <td>duration_ms</td>\n",
       "      <td>-0.00000</td>\n",
       "    </tr>\n",
       "    <tr>\n",
       "      <th>3</th>\n",
       "      <td>energy</td>\n",
       "      <td>-0.00011</td>\n",
       "    </tr>\n",
       "    <tr>\n",
       "      <th>4</th>\n",
       "      <td>instrumentalness</td>\n",
       "      <td>-0.00002</td>\n",
       "    </tr>\n",
       "    <tr>\n",
       "      <th>5</th>\n",
       "      <td>liveness</td>\n",
       "      <td>-0.00008</td>\n",
       "    </tr>\n",
       "    <tr>\n",
       "      <th>6</th>\n",
       "      <td>loudness</td>\n",
       "      <td>0.00196</td>\n",
       "    </tr>\n",
       "    <tr>\n",
       "      <th>7</th>\n",
       "      <td>mode</td>\n",
       "      <td>-0.00020</td>\n",
       "    </tr>\n",
       "    <tr>\n",
       "      <th>8</th>\n",
       "      <td>speechiness</td>\n",
       "      <td>-0.00002</td>\n",
       "    </tr>\n",
       "    <tr>\n",
       "      <th>9</th>\n",
       "      <td>tempo</td>\n",
       "      <td>-0.01089</td>\n",
       "    </tr>\n",
       "    <tr>\n",
       "      <th>10</th>\n",
       "      <td>valence</td>\n",
       "      <td>-0.00008</td>\n",
       "    </tr>\n",
       "    <tr>\n",
       "      <th>11</th>\n",
       "      <td>key_1</td>\n",
       "      <td>0.00002</td>\n",
       "    </tr>\n",
       "    <tr>\n",
       "      <th>12</th>\n",
       "      <td>key_2</td>\n",
       "      <td>-0.00002</td>\n",
       "    </tr>\n",
       "    <tr>\n",
       "      <th>13</th>\n",
       "      <td>key_3</td>\n",
       "      <td>-0.00001</td>\n",
       "    </tr>\n",
       "    <tr>\n",
       "      <th>14</th>\n",
       "      <td>key_4</td>\n",
       "      <td>-0.00002</td>\n",
       "    </tr>\n",
       "    <tr>\n",
       "      <th>15</th>\n",
       "      <td>key_5</td>\n",
       "      <td>-0.00002</td>\n",
       "    </tr>\n",
       "    <tr>\n",
       "      <th>16</th>\n",
       "      <td>key_7</td>\n",
       "      <td>-0.00002</td>\n",
       "    </tr>\n",
       "    <tr>\n",
       "      <th>17</th>\n",
       "      <td>key_8</td>\n",
       "      <td>-0.00002</td>\n",
       "    </tr>\n",
       "    <tr>\n",
       "      <th>18</th>\n",
       "      <td>key_9</td>\n",
       "      <td>-0.00002</td>\n",
       "    </tr>\n",
       "    <tr>\n",
       "      <th>19</th>\n",
       "      <td>key_10</td>\n",
       "      <td>-0.00003</td>\n",
       "    </tr>\n",
       "    <tr>\n",
       "      <th>20</th>\n",
       "      <td>key_11</td>\n",
       "      <td>-0.00000</td>\n",
       "    </tr>\n",
       "    <tr>\n",
       "      <th>21</th>\n",
       "      <td>time_3</td>\n",
       "      <td>-0.00007</td>\n",
       "    </tr>\n",
       "    <tr>\n",
       "      <th>22</th>\n",
       "      <td>time_5</td>\n",
       "      <td>-0.00001</td>\n",
       "    </tr>\n",
       "    <tr>\n",
       "      <th>23</th>\n",
       "      <td>num_weeks_bottom</td>\n",
       "      <td>0.00838</td>\n",
       "    </tr>\n",
       "  </tbody>\n",
       "</table>\n",
       "</div>"
      ],
      "text/plain": [
       "             feature      log_coefficient\n",
       "0       acousticness             -0.00015\n",
       "1       danceability             -0.00005\n",
       "2        duration_ms             -0.00000\n",
       "3             energy             -0.00011\n",
       "4   instrumentalness             -0.00002\n",
       "5           liveness             -0.00008\n",
       "6           loudness              0.00196\n",
       "7               mode             -0.00020\n",
       "8        speechiness             -0.00002\n",
       "9              tempo             -0.01089\n",
       "10           valence             -0.00008\n",
       "11             key_1              0.00002\n",
       "12             key_2             -0.00002\n",
       "13             key_3             -0.00001\n",
       "14             key_4             -0.00002\n",
       "15             key_5             -0.00002\n",
       "16             key_7             -0.00002\n",
       "17             key_8             -0.00002\n",
       "18             key_9             -0.00002\n",
       "19            key_10             -0.00003\n",
       "20            key_11             -0.00000\n",
       "21            time_3             -0.00007\n",
       "22            time_5             -0.00001\n",
       "23  num_weeks_bottom              0.00838"
      ]
     },
     "execution_count": 26,
     "metadata": {},
     "output_type": "execute_result"
    }
   ],
   "source": [
    "pd.options.display.float_format = '{:20,.5f}'.format\n",
    "pd.DataFrame({\"feature\":linear_feature_cols,\"log_coefficient\":clf_log.coef_[0]})"
   ]
  },
  {
   "cell_type": "markdown",
   "metadata": {
    "collapsed": true
   },
   "source": [
    "** The larget influence from these features comes from tempo where faster songs are very slightly less likely to make the top ten. In this model Loudness has a slight positive influence on chart performance. **"
   ]
  },
  {
   "cell_type": "markdown",
   "metadata": {
    "collapsed": false
   },
   "source": [
    "## Ridge Regression, Lasso Regression and Elastic Net Regression\n",
    "Since we have a classification problem, and these models are linear in nature we do not implement them here."
   ]
  },
  {
   "cell_type": "markdown",
   "metadata": {},
   "source": [
    "# Decision Tree\n",
    "In a Decision Tree we have a number of parameters we can tune. \n",
    "- Criterion measures the quality of the split by either entropy or the Gini impurity. Entropy chooses splits in the tree that result in the purest daughter nodes, whereas Gini impurity is a measure of how often a randomly chosen element from the set would be incorrectly labeled if it was randomly labeled according to the distribution of labels in the subset. \n",
    "- Max depth is the maximum depth of the tree or the max number of branches a node can be from the root.\n",
    "- Max features is the maximum number of variables we may use in the tree.\n",
    "- min_samples_leaf is the minimum of observations required to be at a leaf node. \n",
    "- min_samples_split is the minimum number of samples required to split an internal node."
   ]
  },
  {
   "cell_type": "code",
   "execution_count": 27,
   "metadata": {
    "collapsed": false,
    "scrolled": false
   },
   "outputs": [
    {
     "name": "stdout",
     "output_type": "stream",
     "text": [
      "BEST PARAMS {'criterion': 'gini', 'max_depth': 3, 'max_features': 3, 'min_samples_leaf': 3, 'min_samples_split': 3}\n",
      "Accuracy on training data: 0.80621\n",
      "Accuracy on test data:     0.80592\n",
      "[[4464    1]\n",
      " [1074    0]]\n",
      "             precision    recall  f1-score   support\n",
      "\n",
      "          0       0.81      1.00      0.89      4465\n",
      "          1       0.00      0.00      0.00      1074\n",
      "\n",
      "avg / total       0.65      0.81      0.72      5539\n",
      "\n",
      "BEST PARAMS {'criterion': 'gini', 'max_depth': 3, 'max_features': 3, 'min_samples_leaf': 10, 'min_samples_split': 3}\n",
      "Accuracy on training data: 0.80609\n",
      "Accuracy on test data:     0.80610\n",
      "[[4465    0]\n",
      " [1074    0]]\n",
      "             precision    recall  f1-score   support\n",
      "\n",
      "          0       0.81      1.00      0.89      4465\n",
      "          1       0.00      0.00      0.00      1074\n",
      "\n",
      "avg / total       0.65      0.81      0.72      5539\n",
      "\n"
     ]
    },
    {
     "name": "stderr",
     "output_type": "stream",
     "text": [
      "C:\\Users\\MSI_USER\\Anaconda3\\lib\\site-packages\\sklearn\\metrics\\classification.py:1113: UndefinedMetricWarning: Precision and F-score are ill-defined and being set to 0.0 in labels with no predicted samples.\n",
      "  'precision', 'predicted', average, warn_for)\n"
     ]
    },
    {
     "name": "stdout",
     "output_type": "stream",
     "text": [
      "BEST PARAMS {'criterion': 'gini', 'max_depth': 3, 'max_features': 3, 'min_samples_leaf': 10, 'min_samples_split': 3}\n",
      "Accuracy on training data: 0.80609\n",
      "Accuracy on test data:     0.80610\n",
      "[[4465    0]\n",
      " [1074    0]]\n",
      "             precision    recall  f1-score   support\n",
      "\n",
      "          0       0.81      1.00      0.89      4465\n",
      "          1       0.00      0.00      0.00      1074\n",
      "\n",
      "avg / total       0.65      0.81      0.72      5539\n",
      "\n"
     ]
    },
    {
     "name": "stderr",
     "output_type": "stream",
     "text": [
      "C:\\Users\\MSI_USER\\Anaconda3\\lib\\site-packages\\sklearn\\metrics\\classification.py:1113: UndefinedMetricWarning: Precision and F-score are ill-defined and being set to 0.0 in labels with no predicted samples.\n",
      "  'precision', 'predicted', average, warn_for)\n"
     ]
    }
   ],
   "source": [
    "from sklearn.tree import DecisionTreeClassifier\n",
    "from sklearn.tree import export_graphviz\n",
    "feature_cols = ['acousticness','danceability','duration_ms','energy','instrumentalness','key','liveness','loudness','mode','speechiness','tempo','time_signature','valence','year']\n",
    "params ={'criterion': [\"gini\",\"entropy\"],\n",
    " 'max_depth': [3, 10,12],\n",
    " 'max_features': [3, 10,14],\n",
    " 'min_samples_leaf': [ 3,10],\n",
    " 'min_samples_split': [3,10]}\n",
    "clf_dtree, Xtrain_dtree, ytrain_dtree, Xtest_dtree, ytest_dtree  = do_classify(DecisionTreeClassifier(), \n",
    "                                                           params, \n",
    "                                                           top_ten_prediction, feature_cols, 'top_ten_hit',1)"
   ]
  },
  {
   "cell_type": "code",
   "execution_count": 28,
   "metadata": {
    "collapsed": false
   },
   "outputs": [
    {
     "data": {
      "image/png": "[encoded data removed]",
      "text/plain": [
       "<IPython.core.display.Image object>"
      ]
     },
     "execution_count": 28,
     "metadata": {},
     "output_type": "execute_result"
    }
   ],
   "source": [
    "from IPython.display import Image \n",
    "import pydotplus\n",
    "dot_data = export_graphviz(clf_dtree, out_file=None, \n",
    "                         feature_names=feature_cols,  \n",
    "                         class_names='top_ten_hit',  \n",
    "                         filled=True, rounded=True,  \n",
    "                         special_characters=True)  \n",
    "graph = pydotplus.graph_from_dot_data(dot_data)  \n",
    "Image(graph.create_png())  "
   ]
  },
  {
   "cell_type": "markdown",
   "metadata": {
    "collapsed": true
   },
   "source": [
    "** Here the Decision Tree model does not improve on the trivial accuracy as we can see from the confusion matrix. \n",
    "In our tree we see that year is the root with loudness, valence, acousticness, duration and energy also being determining factors. However, the model only predicts that songs will not be top ten hits.**"
   ]
  },
  {
   "cell_type": "markdown",
   "metadata": {},
   "source": [
    "# Random Forest\n",
    "A random forest is an ensemble method that fits a number of decision tree classifiers on various sub-samples of the dataset and uses averaging to improve the predictive accuracy and control for over-fitting."
   ]
  },
  {
   "cell_type": "code",
   "execution_count": 29,
   "metadata": {
    "collapsed": false
   },
   "outputs": [
    {
     "name": "stdout",
     "output_type": "stream",
     "text": [
      "BEST PARAMS {'n_estimators': 500}\n",
      "Accuracy on training data: 0.99741\n",
      "Accuracy on test data:     0.80664\n",
      "[[4446   19]\n",
      " [1052   22]]\n",
      "             precision    recall  f1-score   support\n",
      "\n",
      "          0       0.81      1.00      0.89      4465\n",
      "          1       0.54      0.02      0.04      1074\n",
      "\n",
      "avg / total       0.76      0.81      0.73      5539\n",
      "\n",
      "BEST PARAMS {'n_estimators': 500}\n",
      "Accuracy on training data: 0.99765\n",
      "Accuracy on test data:     0.80520\n",
      "[[4440   25]\n",
      " [1054   20]]\n",
      "             precision    recall  f1-score   support\n",
      "\n",
      "          0       0.81      0.99      0.89      4465\n",
      "          1       0.44      0.02      0.04      1074\n",
      "\n",
      "avg / total       0.74      0.81      0.73      5539\n",
      "\n",
      "BEST PARAMS {'n_estimators': 500}\n",
      "Accuracy on training data: 0.99747\n",
      "Accuracy on test data:     0.80538\n",
      "[[4444   21]\n",
      " [1057   17]]\n",
      "             precision    recall  f1-score   support\n",
      "\n",
      "          0       0.81      1.00      0.89      4465\n",
      "          1       0.45      0.02      0.03      1074\n",
      "\n",
      "avg / total       0.74      0.81      0.72      5539\n",
      "\n"
     ]
    }
   ],
   "source": [
    "from sklearn.ensemble import RandomForestClassifier\n",
    "params={'n_estimators':[500,1000]}\n",
    "clf_rf, Xtrain_rf, ytrain_rf, Xtest_rf, ytest_rf  = do_classify(RandomForestClassifier(), \n",
    "                                                           params, \n",
    "                                                           top_ten_prediction, feature_cols, 'top_ten_hit',1)"
   ]
  },
  {
   "cell_type": "code",
   "execution_count": 30,
   "metadata": {
    "collapsed": false
   },
   "outputs": [
    {
     "data": {
      "text/html": [
       "<div>\n",
       "<table border=\"1\" class=\"dataframe\">\n",
       "  <thead>\n",
       "    <tr style=\"text-align: right;\">\n",
       "      <th></th>\n",
       "      <th>feature</th>\n",
       "      <th>feature_importance</th>\n",
       "    </tr>\n",
       "  </thead>\n",
       "  <tbody>\n",
       "    <tr>\n",
       "      <th>0</th>\n",
       "      <td>acousticness</td>\n",
       "      <td>0.08839</td>\n",
       "    </tr>\n",
       "    <tr>\n",
       "      <th>1</th>\n",
       "      <td>danceability</td>\n",
       "      <td>0.08965</td>\n",
       "    </tr>\n",
       "    <tr>\n",
       "      <th>2</th>\n",
       "      <td>duration_ms</td>\n",
       "      <td>0.09221</td>\n",
       "    </tr>\n",
       "    <tr>\n",
       "      <th>3</th>\n",
       "      <td>energy</td>\n",
       "      <td>0.08493</td>\n",
       "    </tr>\n",
       "    <tr>\n",
       "      <th>4</th>\n",
       "      <td>instrumentalness</td>\n",
       "      <td>0.06002</td>\n",
       "    </tr>\n",
       "    <tr>\n",
       "      <th>5</th>\n",
       "      <td>key</td>\n",
       "      <td>0.04819</td>\n",
       "    </tr>\n",
       "    <tr>\n",
       "      <th>6</th>\n",
       "      <td>liveness</td>\n",
       "      <td>0.08752</td>\n",
       "    </tr>\n",
       "    <tr>\n",
       "      <th>7</th>\n",
       "      <td>loudness</td>\n",
       "      <td>0.08965</td>\n",
       "    </tr>\n",
       "    <tr>\n",
       "      <th>8</th>\n",
       "      <td>mode</td>\n",
       "      <td>0.01131</td>\n",
       "    </tr>\n",
       "    <tr>\n",
       "      <th>9</th>\n",
       "      <td>speechiness</td>\n",
       "      <td>0.08705</td>\n",
       "    </tr>\n",
       "    <tr>\n",
       "      <th>10</th>\n",
       "      <td>tempo</td>\n",
       "      <td>0.09014</td>\n",
       "    </tr>\n",
       "    <tr>\n",
       "      <th>11</th>\n",
       "      <td>time_signature</td>\n",
       "      <td>0.00541</td>\n",
       "    </tr>\n",
       "    <tr>\n",
       "      <th>12</th>\n",
       "      <td>valence</td>\n",
       "      <td>0.08842</td>\n",
       "    </tr>\n",
       "    <tr>\n",
       "      <th>13</th>\n",
       "      <td>year</td>\n",
       "      <td>0.07711</td>\n",
       "    </tr>\n",
       "  </tbody>\n",
       "</table>\n",
       "</div>"
      ],
      "text/plain": [
       "             feature   feature_importance\n",
       "0       acousticness              0.08839\n",
       "1       danceability              0.08965\n",
       "2        duration_ms              0.09221\n",
       "3             energy              0.08493\n",
       "4   instrumentalness              0.06002\n",
       "5                key              0.04819\n",
       "6           liveness              0.08752\n",
       "7           loudness              0.08965\n",
       "8               mode              0.01131\n",
       "9        speechiness              0.08705\n",
       "10             tempo              0.09014\n",
       "11    time_signature              0.00541\n",
       "12           valence              0.08842\n",
       "13              year              0.07711"
      ]
     },
     "execution_count": 30,
     "metadata": {},
     "output_type": "execute_result"
    }
   ],
   "source": [
    "pd.DataFrame({\"feature\":feature_cols,\"feature_importance\":clf_rf.feature_importances_})"
   ]
  },
  {
   "cell_type": "markdown",
   "metadata": {
    "collapsed": true
   },
   "source": [
    "** We finally obtain a model different that the trivial one for prediction although we do not see any improvement in the accuracy. Here the most notable features are danceability, duration, loudness and tempo although they have a relatively small importance since they are all less than 10%.**"
   ]
  },
  {
   "cell_type": "markdown",
   "metadata": {},
   "source": [
    "# Support Vector Machine Classification\n",
    "\n",
    "Support vector machines  are a set of supervised learning methods used for classification, regression and outliers detection. Given a set of training examples, each marked as belonging to one or the other of two categories, an SVM training algorithm builds a model that assigns new examples to one category or the other, making it a non-probabilistic binary linear classifier.\n",
    "\n",
    "For the parameters:\n",
    "- C is the penalty parameter of the error term.\n",
    "- degree is the degree of the polynomial kernel function.\n",
    "- gamma is the kernel coefficient and when it is ‘auto’ then 1/n_features will be used.\n",
    "- cache_size specifies the size of the kernel cache (in MB).\n",
    "- max_iter when set to -1 mean there is no limit on the number of iterations within the solver."
   ]
  },
  {
   "cell_type": "code",
   "execution_count": 31,
   "metadata": {
    "collapsed": false
   },
   "outputs": [
    {
     "name": "stdout",
     "output_type": "stream",
     "text": [
      "BEST PARAMS {'C': 1, 'cache_size': 200, 'degree': 3, 'gamma': 'auto', 'max_iter': -1, 'tol': 0.001}\n",
      "Accuracy on training data: 0.99585\n",
      "Accuracy on test data:     0.80682\n",
      "[[4451   14]\n",
      " [1056   18]]\n",
      "             precision    recall  f1-score   support\n",
      "\n",
      "          0       0.81      1.00      0.89      4465\n",
      "          1       0.56      0.02      0.03      1074\n",
      "\n",
      "avg / total       0.76      0.81      0.73      5539\n",
      "\n",
      "BEST PARAMS {'C': 1, 'cache_size': 200, 'degree': 3, 'gamma': 'auto', 'max_iter': -1, 'tol': 0.001}\n",
      "Accuracy on training data: 0.99615\n",
      "Accuracy on test data:     0.80610\n",
      "[[4448   17]\n",
      " [1057   17]]\n",
      "             precision    recall  f1-score   support\n",
      "\n",
      "          0       0.81      1.00      0.89      4465\n",
      "          1       0.50      0.02      0.03      1074\n",
      "\n",
      "avg / total       0.75      0.81      0.73      5539\n",
      "\n",
      "BEST PARAMS {'C': 1, 'cache_size': 200, 'degree': 3, 'gamma': 'auto', 'max_iter': -1, 'tol': 0.001}\n",
      "Accuracy on training data: 0.99585\n",
      "Accuracy on test data:     0.80628\n",
      "[[4451   14]\n",
      " [1059   15]]\n",
      "             precision    recall  f1-score   support\n",
      "\n",
      "          0       0.81      1.00      0.89      4465\n",
      "          1       0.52      0.01      0.03      1074\n",
      "\n",
      "avg / total       0.75      0.81      0.72      5539\n",
      "\n"
     ]
    }
   ],
   "source": [
    "from sklearn.svm import SVC\n",
    "params ={'C':[1],\n",
    " 'cache_size':[200],\n",
    " 'degree':[3],\n",
    " 'gamma':['auto'],\n",
    " 'max_iter':[-1],\n",
    " 'tol':[0.001]}\n",
    "clf_svc, Xtrain_svc, ytrain_svc, Xtest_svc, ytest_svc  = do_classify(SVC(), \n",
    "                                                           params, \n",
    "                                                           top_ten_prediction, feature_cols, 'top_ten_hit',1)"
   ]
  },
  {
   "cell_type": "markdown",
   "metadata": {
    "collapsed": true
   },
   "source": [
    "** Support Vector Machine classification does use a model different than the trivial prediction model, with a very slight improvement on the accuracy. **"
   ]
  },
  {
   "cell_type": "markdown",
   "metadata": {
    "collapsed": true
   },
   "source": [
    "# KNN \n",
    "The k-Nearest Neighbor (KNN) algorithm is used for classification or regression. During the training phase the KNN algorithm finds the $k$ “nearest” points to a given point, and returns the class with the highest proportion. If $k = 1$, then one only looks for the closest point and returns its class. The optimal value for $k$ in KNN is usually between 3-10. In our case $k$ is given by the parameter 'n_neighbors'."
   ]
  },
  {
   "cell_type": "code",
   "execution_count": 32,
   "metadata": {
    "collapsed": false
   },
   "outputs": [
    {
     "name": "stdout",
     "output_type": "stream",
     "text": [
      "BEST PARAMS {'n_neighbors': 10}\n",
      "Accuracy on training data: 0.80790\n",
      "Accuracy on test data:     0.80159\n",
      "[[4436   29]\n",
      " [1070    4]]\n",
      "             precision    recall  f1-score   support\n",
      "\n",
      "          0       0.81      0.99      0.89      4465\n",
      "          1       0.12      0.00      0.01      1074\n",
      "\n",
      "avg / total       0.67      0.80      0.72      5539\n",
      "\n",
      "BEST PARAMS {'n_neighbors': 10}\n",
      "Accuracy on training data: 0.80778\n",
      "Accuracy on test data:     0.80213\n",
      "[[4435   30]\n",
      " [1066    8]]\n",
      "             precision    recall  f1-score   support\n",
      "\n",
      "          0       0.81      0.99      0.89      4465\n",
      "          1       0.21      0.01      0.01      1074\n",
      "\n",
      "avg / total       0.69      0.80      0.72      5539\n",
      "\n",
      "BEST PARAMS {'n_neighbors': 10}\n",
      "Accuracy on training data: 0.80772\n",
      "Accuracy on test data:     0.80357\n",
      "[[4447   18]\n",
      " [1070    4]]\n",
      "             precision    recall  f1-score   support\n",
      "\n",
      "          0       0.81      1.00      0.89      4465\n",
      "          1       0.18      0.00      0.01      1074\n",
      "\n",
      "avg / total       0.69      0.80      0.72      5539\n",
      "\n"
     ]
    }
   ],
   "source": [
    "from sklearn.neighbors import KNeighborsClassifier\n",
    "params ={'n_neighbors':[3,5,10]}\n",
    "clf_knn, Xtrain_knn, ytrain_knn, Xtest_knn, ytest_knn  = do_classify(KNeighborsClassifier(), \n",
    "                                                           params, \n",
    "                                                           top_ten_prediction, feature_cols, 'top_ten_hit',1)"
   ]
  },
  {
   "cell_type": "markdown",
   "metadata": {
    "collapsed": true
   },
   "source": [
    "** The K-Nearest Neighbors gives a model of simililar accuracy but does not improve on the trivial model. **"
   ]
  },
  {
   "cell_type": "markdown",
   "metadata": {
    "collapsed": false
   },
   "source": [
    "# Neural Network\n",
    "\n",
    "For a supervised nueral network model we use Multi-layer Perceptron. It is a supervised learning algorithm that learns a function $f(\\cdot): R^m \\rightarrow R^o$ by training on a dataset, where m is the number of dimensions for input and $o$ is the number of dimensions for output. Given a set of features $X = {x_1, x_2, ..., x_m}$ and a target $y$, it can learn a non-linear function approximator for either classification or regression. It is different from logistic regression, in that between the input and the output layer, there can be one or more non-linear layers, called hidden layers. \n",
    "\n",
    "Multi-layer Perceptron is sensitive to feature scaling, so we will scale the data. \n",
    "\n",
    "For the neural network we will only define the hidden_layer_sizes. For this parameter you pass in a tuple consisting of the number of neurons you want at each layer, where the nth entry in the tuple represents the number of neurons in the nth layer of the MLP model. There are many ways to choose these numbers, but for simplicity we will choose 3 layers with the same number of neurons as there are features in our dataset."
   ]
  },
  {
   "cell_type": "code",
   "execution_count": null,
   "metadata": {
    "collapsed": true
   },
   "outputs": [],
   "source": [
    "from sklearn.preprocessing import StandardScaler\n",
    "from sklearn.neural_network import MLPClassifier\n",
    "X=top_ten_prediction[feature_cols].values\n",
    "y=top_ten_prediction['top_ten_hit'].values\n",
    "sss = StratifiedShuffleSplit(n_splits=3, test_size=0.25, random_state=7)\n",
    "for train_index, test_index in sss.split(X,y):\n",
    "    Xtrain_nn, Xtest_nn = X[train_index], X[test_index]\n",
    "    ytrain_nn, ytest_nn = y[train_index], y[test_index]\n",
    "    # For the neural network we add the extra scaling step:\n",
    "    scaler = StandardScaler()\n",
    "    # Fit only to the training data\n",
    "    scaler.fit(Xtrain_nn)\n",
    "    X_train_nn = scaler.transform(Xtrain_nn)\n",
    "    X_test_nn = scaler.transform(Xtest_nn)\n",
    "    #Use the classifier to fit the training data. We have 14 variables in our set\n",
    "    mlp = MLPClassifier(hidden_layer_sizes=(14,14,14))\n",
    "    mlp.fit(X_train_nn,ytrain_nn)\n",
    "    training_accuracy = mlp.score(X_train_nn, ytrain_nn)\n",
    "    test_accuracy = mlp.score(X_test_nn, ytest_nn)\n",
    "    print(\"Accuracy on training data: {:0.5f}\".format(training_accuracy))\n",
    "    print(\"Accuracy on test data:     {:0.5f}\".format(test_accuracy))\n",
    "    predictions = mlp.predict(X_test_nn)\n",
    "    print(confusion_matrix(ytest_nn,predictions))\n",
    "    print(classification_report(ytest_nn,predictions))"
   ]
  },
  {
   "cell_type": "markdown",
   "metadata": {},
   "source": [
    "** In this model we obtain a slight improvement on the trivial model. Another downside to using a Multi-Layer Preceptron model is that it is difficult  to interpret the model itself. The weights and biases won't be easily interpretable in relation to which features are important to the model itself. We can look at the attribute 'coefs_'  to see a list of weight matrices, where weight matrix at index $i$ represents the weights between layer $i$ and layer $i+1$.**"
   ]
  },
  {
   "cell_type": "markdown",
   "metadata": {
    "collapsed": true
   },
   "source": [
    "# GBM Tree\n",
    "\n",
    "Gradient Boosting is a sequential technique which works on the principle of ensemble. It combines a set of weak learners and delivers improved prediction accuracy. \n",
    "\n",
    "- learning rate shrinks the contribution of each tree by learning_rate. There is a trade-off between learning_rate and n_estimators. We want to choose a relatively high learning rate.\n",
    "- min_samples_split is the minimum number of samples required to split an internal node and should be around ~0.5-1% of total values. Since this is imbalanced class problem, we’ll take a small value from the range.\n",
    "- min_samples_leaf is the minimum number of samples required to be at a leaf node and is used to prevent overfitting. We choose a small value again because of imbalanced classes.\n",
    "- max_depth limits the number of nodes in the tree.\n",
    "- max_features is the number of features to consider when looking for the best split. A general rule of thumb is to start with square root."
   ]
  },
  {
   "cell_type": "code",
   "execution_count": 34,
   "metadata": {
    "collapsed": false
   },
   "outputs": [
    {
     "name": "stdout",
     "output_type": "stream",
     "text": [
      "BEST PARAMS {'learning_rate': 0.05, 'max_depth': 5, 'max_features': 'sqrt', 'min_samples_leaf': 50, 'min_samples_split': 150}\n",
      "Accuracy on training data: 0.80621\n",
      "Accuracy on test data:     0.80610\n",
      "[[4464    1]\n",
      " [1073    1]]\n",
      "             precision    recall  f1-score   support\n",
      "\n",
      "          0       0.81      1.00      0.89      4465\n",
      "          1       0.50      0.00      0.00      1074\n",
      "\n",
      "avg / total       0.75      0.81      0.72      5539\n",
      "\n",
      "BEST PARAMS {'learning_rate': 0.05, 'max_depth': 3, 'max_features': 'sqrt', 'min_samples_leaf': 50, 'min_samples_split': 150}\n",
      "Accuracy on training data: 0.80609\n",
      "Accuracy on test data:     0.80610\n",
      "[[4465    0]\n",
      " [1074    0]]\n",
      "             precision    recall  f1-score   support\n",
      "\n",
      "          0       0.81      1.00      0.89      4465\n",
      "          1       0.00      0.00      0.00      1074\n",
      "\n",
      "avg / total       0.65      0.81      0.72      5539\n",
      "\n"
     ]
    },
    {
     "name": "stderr",
     "output_type": "stream",
     "text": [
      "C:\\Users\\MSI_USER\\Anaconda3\\lib\\site-packages\\sklearn\\metrics\\classification.py:1113: UndefinedMetricWarning: Precision and F-score are ill-defined and being set to 0.0 in labels with no predicted samples.\n",
      "  'precision', 'predicted', average, warn_for)\n"
     ]
    },
    {
     "name": "stdout",
     "output_type": "stream",
     "text": [
      "BEST PARAMS {'learning_rate': 0.05, 'max_depth': 3, 'max_features': 'sqrt', 'min_samples_leaf': 50, 'min_samples_split': 150}\n",
      "Accuracy on training data: 0.80609\n",
      "Accuracy on test data:     0.80610\n",
      "[[4465    0]\n",
      " [1074    0]]\n",
      "             precision    recall  f1-score   support\n",
      "\n",
      "          0       0.81      1.00      0.89      4465\n",
      "          1       0.00      0.00      0.00      1074\n",
      "\n",
      "avg / total       0.65      0.81      0.72      5539\n",
      "\n"
     ]
    },
    {
     "name": "stderr",
     "output_type": "stream",
     "text": [
      "C:\\Users\\MSI_USER\\Anaconda3\\lib\\site-packages\\sklearn\\metrics\\classification.py:1113: UndefinedMetricWarning: Precision and F-score are ill-defined and being set to 0.0 in labels with no predicted samples.\n",
      "  'precision', 'predicted', average, warn_for)\n"
     ]
    }
   ],
   "source": [
    "from sklearn.ensemble import GradientBoostingClassifier\n",
    "params ={'learning_rate':[0.05,0.1,0.2], \n",
    "         'min_samples_split':[150],\n",
    "         'min_samples_leaf':[50],\n",
    "         'max_depth':[3,5],\n",
    "         'max_features':['sqrt']}\n",
    "clf_gbm, Xtrain_gbm, ytrain_gbm, Xtest_gbm, ytest_gbm  = do_classify(GradientBoostingClassifier(), \n",
    "                                                           params, \n",
    "                                                           top_ten_prediction, feature_cols, 'top_ten_hit',1)"
   ]
  },
  {
   "cell_type": "code",
   "execution_count": 35,
   "metadata": {
    "collapsed": false
   },
   "outputs": [
    {
     "data": {
      "text/html": [
       "<div>\n",
       "<table border=\"1\" class=\"dataframe\">\n",
       "  <thead>\n",
       "    <tr style=\"text-align: right;\">\n",
       "      <th></th>\n",
       "      <th>feature</th>\n",
       "      <th>feature_importance</th>\n",
       "    </tr>\n",
       "  </thead>\n",
       "  <tbody>\n",
       "    <tr>\n",
       "      <th>0</th>\n",
       "      <td>acousticness</td>\n",
       "      <td>0.06840</td>\n",
       "    </tr>\n",
       "    <tr>\n",
       "      <th>1</th>\n",
       "      <td>danceability</td>\n",
       "      <td>0.13372</td>\n",
       "    </tr>\n",
       "    <tr>\n",
       "      <th>2</th>\n",
       "      <td>duration_ms</td>\n",
       "      <td>0.15002</td>\n",
       "    </tr>\n",
       "    <tr>\n",
       "      <th>3</th>\n",
       "      <td>energy</td>\n",
       "      <td>0.03947</td>\n",
       "    </tr>\n",
       "    <tr>\n",
       "      <th>4</th>\n",
       "      <td>instrumentalness</td>\n",
       "      <td>0.05027</td>\n",
       "    </tr>\n",
       "    <tr>\n",
       "      <th>5</th>\n",
       "      <td>key</td>\n",
       "      <td>0.01204</td>\n",
       "    </tr>\n",
       "    <tr>\n",
       "      <th>6</th>\n",
       "      <td>liveness</td>\n",
       "      <td>0.05750</td>\n",
       "    </tr>\n",
       "    <tr>\n",
       "      <th>7</th>\n",
       "      <td>loudness</td>\n",
       "      <td>0.04998</td>\n",
       "    </tr>\n",
       "    <tr>\n",
       "      <th>8</th>\n",
       "      <td>mode</td>\n",
       "      <td>0.00918</td>\n",
       "    </tr>\n",
       "    <tr>\n",
       "      <th>9</th>\n",
       "      <td>speechiness</td>\n",
       "      <td>0.05401</td>\n",
       "    </tr>\n",
       "    <tr>\n",
       "      <th>10</th>\n",
       "      <td>tempo</td>\n",
       "      <td>0.05920</td>\n",
       "    </tr>\n",
       "    <tr>\n",
       "      <th>11</th>\n",
       "      <td>time_signature</td>\n",
       "      <td>0.01572</td>\n",
       "    </tr>\n",
       "    <tr>\n",
       "      <th>12</th>\n",
       "      <td>valence</td>\n",
       "      <td>0.07452</td>\n",
       "    </tr>\n",
       "    <tr>\n",
       "      <th>13</th>\n",
       "      <td>year</td>\n",
       "      <td>0.22599</td>\n",
       "    </tr>\n",
       "  </tbody>\n",
       "</table>\n",
       "</div>"
      ],
      "text/plain": [
       "             feature   feature_importance\n",
       "0       acousticness              0.06840\n",
       "1       danceability              0.13372\n",
       "2        duration_ms              0.15002\n",
       "3             energy              0.03947\n",
       "4   instrumentalness              0.05027\n",
       "5                key              0.01204\n",
       "6           liveness              0.05750\n",
       "7           loudness              0.04998\n",
       "8               mode              0.00918\n",
       "9        speechiness              0.05401\n",
       "10             tempo              0.05920\n",
       "11    time_signature              0.01572\n",
       "12           valence              0.07452\n",
       "13              year              0.22599"
      ]
     },
     "execution_count": 35,
     "metadata": {},
     "output_type": "execute_result"
    }
   ],
   "source": [
    "pd.DataFrame({\"feature\":feature_cols,\"feature_importance\":clf_gbm.feature_importances_})"
   ]
  },
  {
   "cell_type": "markdown",
   "metadata": {},
   "source": [
    "** Here we see that year is the most important feature, which makes sense since we have seen that the average value of many of the audio metadata features varied over time. In terms of audio metadata features we find that danceability and duration are the two most significant features in this dataset. **"
   ]
  },
  {
   "cell_type": "markdown",
   "metadata": {
    "collapsed": false
   },
   "source": [
    "# Conclusion\n",
    "From our machine learning models we find that danceability and duration are the most consistent predictors of song popularity whereas time signature is not a very good predictor.\n",
    "\n",
    "However, none of our models were able to make significant improvements on the  trivial prediction criterion."
   ]
  },
  {
   "cell_type": "code",
   "execution_count": null,
   "metadata": {
    "collapsed": false
   },
   "outputs": [],
   "source": []
  },
  {
   "cell_type": "code",
   "execution_count": null,
   "metadata": {
    "collapsed": false
   },
   "outputs": [],
   "source": []
  },
  {
   "cell_type": "code",
   "execution_count": null,
   "metadata": {
    "collapsed": true
   },
   "outputs": [],
   "source": []
  },
  {
   "cell_type": "code",
   "execution_count": null,
   "metadata": {
    "collapsed": true
   },
   "outputs": [],
   "source": []
  }
 ],
 "metadata": {
  "kernelspec": {
   "display_name": "Python 3",
   "language": "python",
   "name": "python3"
  },
  "language_info": {
   "codemirror_mode": {
    "name": "ipython",
    "version": 3
   },
   "file_extension": ".py",
   "mimetype": "text/x-python",
   "name": "python",
   "nbconvert_exporter": "python",
   "pygments_lexer": "ipython3",
   "version": "3.6.0"
  }
 },
 "nbformat": 4,
 "nbformat_minor": 2
}
