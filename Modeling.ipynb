{
 "cells": [
  {
   "cell_type": "code",
   "execution_count": 1,
   "metadata": {
    "collapsed": true
   },
   "outputs": [],
   "source": [
    "#Usual Imports\n",
    "import numpy as np\n",
    "import pandas as pd\n",
    "import matplotlib.pyplot as plt\n",
    "import seaborn as sns"
   ]
  },
  {
   "cell_type": "markdown",
   "metadata": {},
   "source": [
    "# Data Wrangling\n",
    "We perform the data wrangling steps previously detailed in the Data Story step."
   ]
  },
  {
   "cell_type": "code",
   "execution_count": 2,
   "metadata": {
    "collapsed": true
   },
   "outputs": [],
   "source": [
    "billboard_data = pd.read_csv(\"all_charts.csv\",low_memory=False)\n",
    "spotify_data = pd.read_csv(\"audio_features.csv\")\n",
    "billboard_lyrics = pd.read_csv(\"all_lyrics.csv\",encoding='latin1')\n",
    "billboard_sub = billboard_data[[\"chartDate\",\"title\",\"artist\",\"peakPos\",\"lastPos\",\"weeks\",\"rank\",\"change\",\"spotifyID\"]]\n",
    "spotify_sub = spotify_data[[\"acousticness\", \"danceability\", \"duration_ms\", \"energy\", \"id\",\"instrumentalness\", \"key\", \"liveness\", \"loudness\", \"mode\", \"speechiness\", \"tempo\", \"time_signature\",\"valence\"]]\n",
    "merged_data=pd.merge(billboard_sub,spotify_sub, how=\"outer\",left_on=\"spotifyID\",right_on=\"id\")\n",
    "#Replace weird characters:\n",
    "merged_data=merged_data.replace({'\\x83': '?'}, regex=True).replace({'\\x82': '?'}, regex=True).replace({'\\x80\\x9c': '??'}, regex=True)\n",
    "lyrics_sub=billboard_lyrics[[\"artist\",\"lyrics\",\"track\",\"source\"]]\n",
    "big_dataset=pd.merge(merged_data, lyrics_sub,  how=\"outer\",left_on=[\"artist\",\"title\"],right_on=[\"artist\", \"track\"])\n",
    "year = big_dataset.chartDate.replace({'-': ''}, regex=True)\n",
    "year = year.apply(np.float)\n",
    "year = year//10000\n",
    "pd.set_option('precision', 0)\n",
    "year=year.rename(\"year\")\n",
    "year_data=pd.concat([big_dataset,year],axis=1)"
   ]
  },
  {
   "cell_type": "markdown",
   "metadata": {
    "collapsed": true
   },
   "source": [
    "# Song Popularity Prediction\n",
    "For the purposes of this project we say that a song is popular if it reaches the top ten, this is given by songs with 'peakPos'<=10. We separate the songs into two categories and then keep only the songs for which we have Spotify audio metadata. Here, we use a binary classifier in the 'top_ten_hit' column."
   ]
  },
  {
   "cell_type": "code",
   "execution_count": 3,
   "metadata": {
    "collapsed": false
   },
   "outputs": [
    {
     "data": {
      "text/html": [
       "<div>\n",
       "<table border=\"1\" class=\"dataframe\">\n",
       "  <thead>\n",
       "    <tr style=\"text-align: right;\">\n",
       "      <th></th>\n",
       "      <th>title</th>\n",
       "      <th>artist</th>\n",
       "      <th>peakPos</th>\n",
       "      <th>acousticness</th>\n",
       "      <th>danceability</th>\n",
       "      <th>duration_ms</th>\n",
       "      <th>energy</th>\n",
       "      <th>instrumentalness</th>\n",
       "      <th>key</th>\n",
       "      <th>liveness</th>\n",
       "      <th>loudness</th>\n",
       "      <th>mode</th>\n",
       "      <th>speechiness</th>\n",
       "      <th>tempo</th>\n",
       "      <th>time_signature</th>\n",
       "      <th>valence</th>\n",
       "      <th>year</th>\n",
       "      <th>0</th>\n",
       "    </tr>\n",
       "  </thead>\n",
       "  <tbody>\n",
       "    <tr>\n",
       "      <th>0</th>\n",
       "      <td>\"B\" Girls</td>\n",
       "      <td>Young And Restless</td>\n",
       "      <td>54</td>\n",
       "      <td>2e-02</td>\n",
       "      <td>6e-01</td>\n",
       "      <td>242107</td>\n",
       "      <td>5e-01</td>\n",
       "      <td>0e+00</td>\n",
       "      <td>7</td>\n",
       "      <td>3e-01</td>\n",
       "      <td>-12</td>\n",
       "      <td>1</td>\n",
       "      <td>4e-01</td>\n",
       "      <td>194</td>\n",
       "      <td>3</td>\n",
       "      <td>8e-01</td>\n",
       "      <td>1990</td>\n",
       "      <td>15</td>\n",
       "    </tr>\n",
       "    <tr>\n",
       "      <th>1</th>\n",
       "      <td>#1</td>\n",
       "      <td>Nelly</td>\n",
       "      <td>22</td>\n",
       "      <td>2e-02</td>\n",
       "      <td>8e-01</td>\n",
       "      <td>198773</td>\n",
       "      <td>6e-01</td>\n",
       "      <td>0e+00</td>\n",
       "      <td>7</td>\n",
       "      <td>4e-01</td>\n",
       "      <td>-6</td>\n",
       "      <td>1</td>\n",
       "      <td>2e-01</td>\n",
       "      <td>90</td>\n",
       "      <td>4</td>\n",
       "      <td>5e-01</td>\n",
       "      <td>2001</td>\n",
       "      <td>11</td>\n",
       "    </tr>\n",
       "    <tr>\n",
       "      <th>2</th>\n",
       "      <td>#1</td>\n",
       "      <td>Nelly</td>\n",
       "      <td>22</td>\n",
       "      <td>2e-02</td>\n",
       "      <td>8e-01</td>\n",
       "      <td>198773</td>\n",
       "      <td>6e-01</td>\n",
       "      <td>0e+00</td>\n",
       "      <td>7</td>\n",
       "      <td>4e-01</td>\n",
       "      <td>-6</td>\n",
       "      <td>1</td>\n",
       "      <td>2e-01</td>\n",
       "      <td>90</td>\n",
       "      <td>4</td>\n",
       "      <td>5e-01</td>\n",
       "      <td>2002</td>\n",
       "      <td>9</td>\n",
       "    </tr>\n",
       "    <tr>\n",
       "      <th>3</th>\n",
       "      <td>#Beautiful</td>\n",
       "      <td>Mariah Carey Featuring Miguel</td>\n",
       "      <td>15</td>\n",
       "      <td>5e-01</td>\n",
       "      <td>7e-01</td>\n",
       "      <td>202027</td>\n",
       "      <td>7e-01</td>\n",
       "      <td>3e-06</td>\n",
       "      <td>4</td>\n",
       "      <td>2e-01</td>\n",
       "      <td>-7</td>\n",
       "      <td>1</td>\n",
       "      <td>4e-02</td>\n",
       "      <td>107</td>\n",
       "      <td>4</td>\n",
       "      <td>5e-01</td>\n",
       "      <td>2013</td>\n",
       "      <td>16</td>\n",
       "    </tr>\n",
       "    <tr>\n",
       "      <th>4</th>\n",
       "      <td>#SELFIE</td>\n",
       "      <td>The Chainsmokers</td>\n",
       "      <td>16</td>\n",
       "      <td>1e-02</td>\n",
       "      <td>8e-01</td>\n",
       "      <td>183750</td>\n",
       "      <td>9e-01</td>\n",
       "      <td>9e-06</td>\n",
       "      <td>0</td>\n",
       "      <td>8e-02</td>\n",
       "      <td>-3</td>\n",
       "      <td>1</td>\n",
       "      <td>2e-01</td>\n",
       "      <td>128</td>\n",
       "      <td>4</td>\n",
       "      <td>7e-01</td>\n",
       "      <td>2014</td>\n",
       "      <td>11</td>\n",
       "    </tr>\n",
       "  </tbody>\n",
       "</table>\n",
       "</div>"
      ],
      "text/plain": [
       "        title                         artist  peakPos  acousticness  \\\n",
       "0   \"B\" Girls             Young And Restless       54         2e-02   \n",
       "1          #1                          Nelly       22         2e-02   \n",
       "2          #1                          Nelly       22         2e-02   \n",
       "3  #Beautiful  Mariah Carey Featuring Miguel       15         5e-01   \n",
       "4     #SELFIE               The Chainsmokers       16         1e-02   \n",
       "\n",
       "   danceability  duration_ms  energy  instrumentalness  key  liveness  \\\n",
       "0         6e-01       242107   5e-01             0e+00    7     3e-01   \n",
       "1         8e-01       198773   6e-01             0e+00    7     4e-01   \n",
       "2         8e-01       198773   6e-01             0e+00    7     4e-01   \n",
       "3         7e-01       202027   7e-01             3e-06    4     2e-01   \n",
       "4         8e-01       183750   9e-01             9e-06    0     8e-02   \n",
       "\n",
       "   loudness  mode  speechiness  tempo  time_signature  valence  year   0  \n",
       "0       -12     1        4e-01    194               3    8e-01  1990  15  \n",
       "1        -6     1        2e-01     90               4    5e-01  2001  11  \n",
       "2        -6     1        2e-01     90               4    5e-01  2002   9  \n",
       "3        -7     1        4e-02    107               4    5e-01  2013  16  \n",
       "4        -3     1        2e-01    128               4    7e-01  2014  11  "
      ]
     },
     "execution_count": 3,
     "metadata": {},
     "output_type": "execute_result"
    }
   ],
   "source": [
    "group_columns = [\"title\",\"artist\",\"peakPos\",'acousticness','danceability','duration_ms','energy','instrumentalness','key','liveness','loudness','mode','speechiness','tempo','time_signature','valence','year']\n",
    "search_data=year_data.groupby(group_columns).size().reset_index()\n",
    "search_data.head()"
   ]
  },
  {
   "cell_type": "code",
   "execution_count": 4,
   "metadata": {
    "collapsed": false
   },
   "outputs": [
    {
     "data": {
      "text/plain": [
       "27178"
      ]
     },
     "execution_count": 4,
     "metadata": {},
     "output_type": "execute_result"
    }
   ],
   "source": [
    "len(search_data)"
   ]
  },
  {
   "cell_type": "markdown",
   "metadata": {},
   "source": [
    "Note that grouping the columns in the way above will create duplicates for songs that charted in multiple years. To avoid this we subset by the first year the song charted."
   ]
  },
  {
   "cell_type": "code",
   "execution_count": 5,
   "metadata": {
    "collapsed": false
   },
   "outputs": [
    {
     "data": {
      "text/plain": [
       "22155"
      ]
     },
     "execution_count": 5,
     "metadata": {},
     "output_type": "execute_result"
    }
   ],
   "source": [
    "top_ten_yearly=search_data.groupby([\"title\",\"artist\",\"peakPos\",'acousticness','danceability','duration_ms','energy','instrumentalness','key','liveness','loudness','mode','speechiness','tempo','time_signature','valence']).min().reset_index()\n",
    "len(top_ten_yearly)"
   ]
  },
  {
   "cell_type": "code",
   "execution_count": 6,
   "metadata": {
    "collapsed": false
   },
   "outputs": [
    {
     "name": "stderr",
     "output_type": "stream",
     "text": [
      "C:\\Users\\MSI_USER\\Anaconda3\\lib\\site-packages\\ipykernel\\__main__.py:3: SettingWithCopyWarning: \n",
      "A value is trying to be set on a copy of a slice from a DataFrame.\n",
      "Try using .loc[row_indexer,col_indexer] = value instead\n",
      "\n",
      "See the caveats in the documentation: http://pandas.pydata.org/pandas-docs/stable/indexing.html#indexing-view-versus-copy\n",
      "  app.launch_new_instance()\n"
     ]
    }
   ],
   "source": [
    "# Create the top_ten_hit predictor column.\n",
    "top_ten_prediction=top_ten_yearly[['peakPos', 'acousticness','danceability','duration_ms','energy','instrumentalness','key','liveness','loudness','mode','speechiness','tempo','time_signature','valence','year']]\n",
    "top_ten_prediction['top_ten_hit']= (top_ten_prediction.peakPos < 11).astype(int)"
   ]
  },
  {
   "cell_type": "code",
   "execution_count": 7,
   "metadata": {
    "collapsed": false
   },
   "outputs": [
    {
     "data": {
      "text/html": [
       "<div>\n",
       "<table border=\"1\" class=\"dataframe\">\n",
       "  <thead>\n",
       "    <tr style=\"text-align: right;\">\n",
       "      <th></th>\n",
       "      <th>top_ten_hit</th>\n",
       "      <th>peakPos</th>\n",
       "      <th>acousticness</th>\n",
       "      <th>danceability</th>\n",
       "      <th>duration_ms</th>\n",
       "      <th>energy</th>\n",
       "      <th>instrumentalness</th>\n",
       "      <th>key</th>\n",
       "      <th>liveness</th>\n",
       "      <th>loudness</th>\n",
       "      <th>mode</th>\n",
       "      <th>speechiness</th>\n",
       "      <th>tempo</th>\n",
       "      <th>time_signature</th>\n",
       "      <th>valence</th>\n",
       "      <th>year</th>\n",
       "    </tr>\n",
       "  </thead>\n",
       "  <tbody>\n",
       "    <tr>\n",
       "      <th>0</th>\n",
       "      <td>0</td>\n",
       "      <td>53</td>\n",
       "      <td>3e-01</td>\n",
       "      <td>6e-01</td>\n",
       "      <td>219176</td>\n",
       "      <td>6e-01</td>\n",
       "      <td>4e-02</td>\n",
       "      <td>5</td>\n",
       "      <td>2e-01</td>\n",
       "      <td>-9</td>\n",
       "      <td>7e-01</td>\n",
       "      <td>7e-02</td>\n",
       "      <td>12</td>\n",
       "      <td>4</td>\n",
       "      <td>6e-01</td>\n",
       "      <td>1985</td>\n",
       "    </tr>\n",
       "    <tr>\n",
       "      <th>1</th>\n",
       "      <td>1</td>\n",
       "      <td>5</td>\n",
       "      <td>3e-01</td>\n",
       "      <td>6e-01</td>\n",
       "      <td>225437</td>\n",
       "      <td>6e-01</td>\n",
       "      <td>4e-02</td>\n",
       "      <td>5</td>\n",
       "      <td>2e-01</td>\n",
       "      <td>-9</td>\n",
       "      <td>7e-01</td>\n",
       "      <td>6e-02</td>\n",
       "      <td>12</td>\n",
       "      <td>4</td>\n",
       "      <td>6e-01</td>\n",
       "      <td>1983</td>\n",
       "    </tr>\n",
       "  </tbody>\n",
       "</table>\n",
       "</div>"
      ],
      "text/plain": [
       "   top_ten_hit  peakPos  acousticness  danceability  duration_ms  energy  \\\n",
       "0            0       53         3e-01         6e-01       219176   6e-01   \n",
       "1            1        5         3e-01         6e-01       225437   6e-01   \n",
       "\n",
       "   instrumentalness  key  liveness  loudness   mode  speechiness  tempo  \\\n",
       "0             4e-02    5     2e-01        -9  7e-01        7e-02     12   \n",
       "1             4e-02    5     2e-01        -9  7e-01        6e-02     12   \n",
       "\n",
       "   time_signature  valence  year  \n",
       "0               4    6e-01  1985  \n",
       "1               4    6e-01  1983  "
      ]
     },
     "execution_count": 7,
     "metadata": {},
     "output_type": "execute_result"
    }
   ],
   "source": [
    "top_ten_prediction.groupby(['top_ten_hit']).mean().reset_index()"
   ]
  },
  {
   "cell_type": "markdown",
   "metadata": {},
   "source": [
    "From this initial investigation it seems like there is very little difference between the audio metadata features between songs making the Top Ten and songs that do not. However, from our previous observations of the averages over time we know that for certain years the averages between top ten hits and songs in the bottom ninety can differ significantly."
   ]
  },
  {
   "cell_type": "code",
   "execution_count": 8,
   "metadata": {
    "collapsed": false
   },
   "outputs": [
    {
     "data": {
      "text/html": [
       "<div>\n",
       "<table border=\"1\" class=\"dataframe\">\n",
       "  <thead>\n",
       "    <tr style=\"text-align: right;\">\n",
       "      <th></th>\n",
       "      <th>year</th>\n",
       "      <th>top_ten_hit</th>\n",
       "      <th>peakPos</th>\n",
       "      <th>acousticness</th>\n",
       "      <th>danceability</th>\n",
       "      <th>duration_ms</th>\n",
       "      <th>energy</th>\n",
       "      <th>instrumentalness</th>\n",
       "      <th>key</th>\n",
       "      <th>liveness</th>\n",
       "      <th>loudness</th>\n",
       "      <th>mode</th>\n",
       "      <th>speechiness</th>\n",
       "      <th>tempo</th>\n",
       "      <th>time_signature</th>\n",
       "      <th>valence</th>\n",
       "    </tr>\n",
       "  </thead>\n",
       "  <tbody>\n",
       "    <tr>\n",
       "      <th>0</th>\n",
       "      <td>1958</td>\n",
       "      <td>0</td>\n",
       "      <td>52</td>\n",
       "      <td>7e-01</td>\n",
       "      <td>5e-01</td>\n",
       "      <td>147195</td>\n",
       "      <td>5e-01</td>\n",
       "      <td>7e-02</td>\n",
       "      <td>5</td>\n",
       "      <td>2e-01</td>\n",
       "      <td>-11</td>\n",
       "      <td>8e-01</td>\n",
       "      <td>5e-02</td>\n",
       "      <td>117</td>\n",
       "      <td>4</td>\n",
       "      <td>7e-01</td>\n",
       "    </tr>\n",
       "    <tr>\n",
       "      <th>1</th>\n",
       "      <td>1958</td>\n",
       "      <td>1</td>\n",
       "      <td>5</td>\n",
       "      <td>6e-01</td>\n",
       "      <td>6e-01</td>\n",
       "      <td>149220</td>\n",
       "      <td>5e-01</td>\n",
       "      <td>9e-02</td>\n",
       "      <td>5</td>\n",
       "      <td>2e-01</td>\n",
       "      <td>-10</td>\n",
       "      <td>9e-01</td>\n",
       "      <td>6e-02</td>\n",
       "      <td>119</td>\n",
       "      <td>4</td>\n",
       "      <td>7e-01</td>\n",
       "    </tr>\n",
       "    <tr>\n",
       "      <th>2</th>\n",
       "      <td>1959</td>\n",
       "      <td>0</td>\n",
       "      <td>54</td>\n",
       "      <td>7e-01</td>\n",
       "      <td>5e-01</td>\n",
       "      <td>149766</td>\n",
       "      <td>5e-01</td>\n",
       "      <td>9e-02</td>\n",
       "      <td>5</td>\n",
       "      <td>2e-01</td>\n",
       "      <td>-11</td>\n",
       "      <td>9e-01</td>\n",
       "      <td>5e-02</td>\n",
       "      <td>114</td>\n",
       "      <td>4</td>\n",
       "      <td>7e-01</td>\n",
       "    </tr>\n",
       "    <tr>\n",
       "      <th>3</th>\n",
       "      <td>1959</td>\n",
       "      <td>1</td>\n",
       "      <td>5</td>\n",
       "      <td>6e-01</td>\n",
       "      <td>6e-01</td>\n",
       "      <td>149480</td>\n",
       "      <td>5e-01</td>\n",
       "      <td>6e-02</td>\n",
       "      <td>5</td>\n",
       "      <td>2e-01</td>\n",
       "      <td>-11</td>\n",
       "      <td>8e-01</td>\n",
       "      <td>5e-02</td>\n",
       "      <td>121</td>\n",
       "      <td>4</td>\n",
       "      <td>7e-01</td>\n",
       "    </tr>\n",
       "    <tr>\n",
       "      <th>4</th>\n",
       "      <td>1960</td>\n",
       "      <td>0</td>\n",
       "      <td>53</td>\n",
       "      <td>7e-01</td>\n",
       "      <td>5e-01</td>\n",
       "      <td>151907</td>\n",
       "      <td>5e-01</td>\n",
       "      <td>6e-02</td>\n",
       "      <td>5</td>\n",
       "      <td>2e-01</td>\n",
       "      <td>-11</td>\n",
       "      <td>9e-01</td>\n",
       "      <td>5e-02</td>\n",
       "      <td>118</td>\n",
       "      <td>4</td>\n",
       "      <td>7e-01</td>\n",
       "    </tr>\n",
       "    <tr>\n",
       "      <th>5</th>\n",
       "      <td>1960</td>\n",
       "      <td>1</td>\n",
       "      <td>5</td>\n",
       "      <td>7e-01</td>\n",
       "      <td>5e-01</td>\n",
       "      <td>160218</td>\n",
       "      <td>4e-01</td>\n",
       "      <td>9e-02</td>\n",
       "      <td>5</td>\n",
       "      <td>2e-01</td>\n",
       "      <td>-11</td>\n",
       "      <td>8e-01</td>\n",
       "      <td>4e-02</td>\n",
       "      <td>119</td>\n",
       "      <td>4</td>\n",
       "      <td>7e-01</td>\n",
       "    </tr>\n",
       "    <tr>\n",
       "      <th>6</th>\n",
       "      <td>1961</td>\n",
       "      <td>0</td>\n",
       "      <td>53</td>\n",
       "      <td>7e-01</td>\n",
       "      <td>5e-01</td>\n",
       "      <td>154480</td>\n",
       "      <td>5e-01</td>\n",
       "      <td>7e-02</td>\n",
       "      <td>5</td>\n",
       "      <td>2e-01</td>\n",
       "      <td>-11</td>\n",
       "      <td>9e-01</td>\n",
       "      <td>6e-02</td>\n",
       "      <td>120</td>\n",
       "      <td>4</td>\n",
       "      <td>7e-01</td>\n",
       "    </tr>\n",
       "    <tr>\n",
       "      <th>7</th>\n",
       "      <td>1961</td>\n",
       "      <td>1</td>\n",
       "      <td>5</td>\n",
       "      <td>6e-01</td>\n",
       "      <td>6e-01</td>\n",
       "      <td>153698</td>\n",
       "      <td>4e-01</td>\n",
       "      <td>8e-02</td>\n",
       "      <td>5</td>\n",
       "      <td>2e-01</td>\n",
       "      <td>-12</td>\n",
       "      <td>9e-01</td>\n",
       "      <td>5e-02</td>\n",
       "      <td>122</td>\n",
       "      <td>4</td>\n",
       "      <td>7e-01</td>\n",
       "    </tr>\n",
       "    <tr>\n",
       "      <th>8</th>\n",
       "      <td>1962</td>\n",
       "      <td>0</td>\n",
       "      <td>57</td>\n",
       "      <td>6e-01</td>\n",
       "      <td>5e-01</td>\n",
       "      <td>158169</td>\n",
       "      <td>5e-01</td>\n",
       "      <td>7e-02</td>\n",
       "      <td>5</td>\n",
       "      <td>2e-01</td>\n",
       "      <td>-11</td>\n",
       "      <td>9e-01</td>\n",
       "      <td>6e-02</td>\n",
       "      <td>118</td>\n",
       "      <td>4</td>\n",
       "      <td>7e-01</td>\n",
       "    </tr>\n",
       "    <tr>\n",
       "      <th>9</th>\n",
       "      <td>1962</td>\n",
       "      <td>1</td>\n",
       "      <td>5</td>\n",
       "      <td>6e-01</td>\n",
       "      <td>6e-01</td>\n",
       "      <td>158012</td>\n",
       "      <td>5e-01</td>\n",
       "      <td>7e-02</td>\n",
       "      <td>6</td>\n",
       "      <td>2e-01</td>\n",
       "      <td>-10</td>\n",
       "      <td>8e-01</td>\n",
       "      <td>6e-02</td>\n",
       "      <td>119</td>\n",
       "      <td>4</td>\n",
       "      <td>7e-01</td>\n",
       "    </tr>\n",
       "    <tr>\n",
       "      <th>10</th>\n",
       "      <td>1963</td>\n",
       "      <td>0</td>\n",
       "      <td>54</td>\n",
       "      <td>6e-01</td>\n",
       "      <td>5e-01</td>\n",
       "      <td>156532</td>\n",
       "      <td>5e-01</td>\n",
       "      <td>4e-02</td>\n",
       "      <td>5</td>\n",
       "      <td>3e-01</td>\n",
       "      <td>-10</td>\n",
       "      <td>8e-01</td>\n",
       "      <td>5e-02</td>\n",
       "      <td>120</td>\n",
       "      <td>4</td>\n",
       "      <td>7e-01</td>\n",
       "    </tr>\n",
       "    <tr>\n",
       "      <th>11</th>\n",
       "      <td>1963</td>\n",
       "      <td>1</td>\n",
       "      <td>5</td>\n",
       "      <td>5e-01</td>\n",
       "      <td>6e-01</td>\n",
       "      <td>153978</td>\n",
       "      <td>5e-01</td>\n",
       "      <td>6e-02</td>\n",
       "      <td>5</td>\n",
       "      <td>2e-01</td>\n",
       "      <td>-11</td>\n",
       "      <td>9e-01</td>\n",
       "      <td>6e-02</td>\n",
       "      <td>117</td>\n",
       "      <td>4</td>\n",
       "      <td>7e-01</td>\n",
       "    </tr>\n",
       "    <tr>\n",
       "      <th>12</th>\n",
       "      <td>1964</td>\n",
       "      <td>0</td>\n",
       "      <td>54</td>\n",
       "      <td>5e-01</td>\n",
       "      <td>5e-01</td>\n",
       "      <td>156864</td>\n",
       "      <td>5e-01</td>\n",
       "      <td>5e-02</td>\n",
       "      <td>5</td>\n",
       "      <td>2e-01</td>\n",
       "      <td>-10</td>\n",
       "      <td>9e-01</td>\n",
       "      <td>5e-02</td>\n",
       "      <td>120</td>\n",
       "      <td>4</td>\n",
       "      <td>7e-01</td>\n",
       "    </tr>\n",
       "    <tr>\n",
       "      <th>13</th>\n",
       "      <td>1964</td>\n",
       "      <td>1</td>\n",
       "      <td>5</td>\n",
       "      <td>5e-01</td>\n",
       "      <td>5e-01</td>\n",
       "      <td>156423</td>\n",
       "      <td>6e-01</td>\n",
       "      <td>4e-02</td>\n",
       "      <td>5</td>\n",
       "      <td>2e-01</td>\n",
       "      <td>-9</td>\n",
       "      <td>8e-01</td>\n",
       "      <td>5e-02</td>\n",
       "      <td>127</td>\n",
       "      <td>4</td>\n",
       "      <td>7e-01</td>\n",
       "    </tr>\n",
       "    <tr>\n",
       "      <th>14</th>\n",
       "      <td>1965</td>\n",
       "      <td>0</td>\n",
       "      <td>53</td>\n",
       "      <td>5e-01</td>\n",
       "      <td>5e-01</td>\n",
       "      <td>162589</td>\n",
       "      <td>5e-01</td>\n",
       "      <td>4e-02</td>\n",
       "      <td>5</td>\n",
       "      <td>2e-01</td>\n",
       "      <td>-10</td>\n",
       "      <td>9e-01</td>\n",
       "      <td>5e-02</td>\n",
       "      <td>120</td>\n",
       "      <td>4</td>\n",
       "      <td>6e-01</td>\n",
       "    </tr>\n",
       "    <tr>\n",
       "      <th>15</th>\n",
       "      <td>1965</td>\n",
       "      <td>1</td>\n",
       "      <td>5</td>\n",
       "      <td>4e-01</td>\n",
       "      <td>5e-01</td>\n",
       "      <td>163006</td>\n",
       "      <td>6e-01</td>\n",
       "      <td>5e-02</td>\n",
       "      <td>5</td>\n",
       "      <td>2e-01</td>\n",
       "      <td>-9</td>\n",
       "      <td>8e-01</td>\n",
       "      <td>5e-02</td>\n",
       "      <td>123</td>\n",
       "      <td>4</td>\n",
       "      <td>7e-01</td>\n",
       "    </tr>\n",
       "    <tr>\n",
       "      <th>16</th>\n",
       "      <td>1966</td>\n",
       "      <td>0</td>\n",
       "      <td>53</td>\n",
       "      <td>5e-01</td>\n",
       "      <td>5e-01</td>\n",
       "      <td>164364</td>\n",
       "      <td>5e-01</td>\n",
       "      <td>5e-02</td>\n",
       "      <td>5</td>\n",
       "      <td>2e-01</td>\n",
       "      <td>-10</td>\n",
       "      <td>8e-01</td>\n",
       "      <td>5e-02</td>\n",
       "      <td>120</td>\n",
       "      <td>4</td>\n",
       "      <td>7e-01</td>\n",
       "    </tr>\n",
       "    <tr>\n",
       "      <th>17</th>\n",
       "      <td>1966</td>\n",
       "      <td>1</td>\n",
       "      <td>5</td>\n",
       "      <td>4e-01</td>\n",
       "      <td>6e-01</td>\n",
       "      <td>168973</td>\n",
       "      <td>6e-01</td>\n",
       "      <td>2e-02</td>\n",
       "      <td>5</td>\n",
       "      <td>2e-01</td>\n",
       "      <td>-10</td>\n",
       "      <td>8e-01</td>\n",
       "      <td>5e-02</td>\n",
       "      <td>122</td>\n",
       "      <td>4</td>\n",
       "      <td>7e-01</td>\n",
       "    </tr>\n",
       "    <tr>\n",
       "      <th>18</th>\n",
       "      <td>1967</td>\n",
       "      <td>0</td>\n",
       "      <td>54</td>\n",
       "      <td>5e-01</td>\n",
       "      <td>5e-01</td>\n",
       "      <td>171980</td>\n",
       "      <td>5e-01</td>\n",
       "      <td>4e-02</td>\n",
       "      <td>5</td>\n",
       "      <td>2e-01</td>\n",
       "      <td>-10</td>\n",
       "      <td>8e-01</td>\n",
       "      <td>5e-02</td>\n",
       "      <td>120</td>\n",
       "      <td>4</td>\n",
       "      <td>6e-01</td>\n",
       "    </tr>\n",
       "    <tr>\n",
       "      <th>19</th>\n",
       "      <td>1967</td>\n",
       "      <td>1</td>\n",
       "      <td>5</td>\n",
       "      <td>4e-01</td>\n",
       "      <td>6e-01</td>\n",
       "      <td>177866</td>\n",
       "      <td>6e-01</td>\n",
       "      <td>3e-02</td>\n",
       "      <td>5</td>\n",
       "      <td>2e-01</td>\n",
       "      <td>-10</td>\n",
       "      <td>9e-01</td>\n",
       "      <td>5e-02</td>\n",
       "      <td>116</td>\n",
       "      <td>4</td>\n",
       "      <td>7e-01</td>\n",
       "    </tr>\n",
       "    <tr>\n",
       "      <th>20</th>\n",
       "      <td>1968</td>\n",
       "      <td>0</td>\n",
       "      <td>55</td>\n",
       "      <td>4e-01</td>\n",
       "      <td>5e-01</td>\n",
       "      <td>178237</td>\n",
       "      <td>5e-01</td>\n",
       "      <td>6e-02</td>\n",
       "      <td>5</td>\n",
       "      <td>2e-01</td>\n",
       "      <td>-11</td>\n",
       "      <td>8e-01</td>\n",
       "      <td>5e-02</td>\n",
       "      <td>119</td>\n",
       "      <td>4</td>\n",
       "      <td>6e-01</td>\n",
       "    </tr>\n",
       "    <tr>\n",
       "      <th>21</th>\n",
       "      <td>1968</td>\n",
       "      <td>1</td>\n",
       "      <td>5</td>\n",
       "      <td>4e-01</td>\n",
       "      <td>5e-01</td>\n",
       "      <td>189185</td>\n",
       "      <td>5e-01</td>\n",
       "      <td>9e-02</td>\n",
       "      <td>5</td>\n",
       "      <td>2e-01</td>\n",
       "      <td>-10</td>\n",
       "      <td>8e-01</td>\n",
       "      <td>5e-02</td>\n",
       "      <td>117</td>\n",
       "      <td>4</td>\n",
       "      <td>6e-01</td>\n",
       "    </tr>\n",
       "    <tr>\n",
       "      <th>22</th>\n",
       "      <td>1969</td>\n",
       "      <td>0</td>\n",
       "      <td>55</td>\n",
       "      <td>4e-01</td>\n",
       "      <td>5e-01</td>\n",
       "      <td>191935</td>\n",
       "      <td>5e-01</td>\n",
       "      <td>6e-02</td>\n",
       "      <td>5</td>\n",
       "      <td>2e-01</td>\n",
       "      <td>-11</td>\n",
       "      <td>8e-01</td>\n",
       "      <td>5e-02</td>\n",
       "      <td>120</td>\n",
       "      <td>4</td>\n",
       "      <td>6e-01</td>\n",
       "    </tr>\n",
       "    <tr>\n",
       "      <th>23</th>\n",
       "      <td>1969</td>\n",
       "      <td>1</td>\n",
       "      <td>5</td>\n",
       "      <td>3e-01</td>\n",
       "      <td>5e-01</td>\n",
       "      <td>199890</td>\n",
       "      <td>5e-01</td>\n",
       "      <td>5e-02</td>\n",
       "      <td>5</td>\n",
       "      <td>2e-01</td>\n",
       "      <td>-10</td>\n",
       "      <td>8e-01</td>\n",
       "      <td>5e-02</td>\n",
       "      <td>120</td>\n",
       "      <td>4</td>\n",
       "      <td>7e-01</td>\n",
       "    </tr>\n",
       "    <tr>\n",
       "      <th>24</th>\n",
       "      <td>1970</td>\n",
       "      <td>0</td>\n",
       "      <td>55</td>\n",
       "      <td>4e-01</td>\n",
       "      <td>5e-01</td>\n",
       "      <td>204701</td>\n",
       "      <td>6e-01</td>\n",
       "      <td>4e-02</td>\n",
       "      <td>5</td>\n",
       "      <td>2e-01</td>\n",
       "      <td>-11</td>\n",
       "      <td>8e-01</td>\n",
       "      <td>5e-02</td>\n",
       "      <td>118</td>\n",
       "      <td>4</td>\n",
       "      <td>6e-01</td>\n",
       "    </tr>\n",
       "    <tr>\n",
       "      <th>25</th>\n",
       "      <td>1970</td>\n",
       "      <td>1</td>\n",
       "      <td>5</td>\n",
       "      <td>4e-01</td>\n",
       "      <td>6e-01</td>\n",
       "      <td>210391</td>\n",
       "      <td>6e-01</td>\n",
       "      <td>4e-02</td>\n",
       "      <td>5</td>\n",
       "      <td>2e-01</td>\n",
       "      <td>-10</td>\n",
       "      <td>8e-01</td>\n",
       "      <td>5e-02</td>\n",
       "      <td>119</td>\n",
       "      <td>4</td>\n",
       "      <td>7e-01</td>\n",
       "    </tr>\n",
       "    <tr>\n",
       "      <th>26</th>\n",
       "      <td>1971</td>\n",
       "      <td>0</td>\n",
       "      <td>57</td>\n",
       "      <td>4e-01</td>\n",
       "      <td>5e-01</td>\n",
       "      <td>215040</td>\n",
       "      <td>6e-01</td>\n",
       "      <td>6e-02</td>\n",
       "      <td>5</td>\n",
       "      <td>2e-01</td>\n",
       "      <td>-10</td>\n",
       "      <td>8e-01</td>\n",
       "      <td>5e-02</td>\n",
       "      <td>119</td>\n",
       "      <td>4</td>\n",
       "      <td>7e-01</td>\n",
       "    </tr>\n",
       "    <tr>\n",
       "      <th>27</th>\n",
       "      <td>1971</td>\n",
       "      <td>1</td>\n",
       "      <td>5</td>\n",
       "      <td>4e-01</td>\n",
       "      <td>6e-01</td>\n",
       "      <td>209763</td>\n",
       "      <td>6e-01</td>\n",
       "      <td>5e-02</td>\n",
       "      <td>4</td>\n",
       "      <td>2e-01</td>\n",
       "      <td>-11</td>\n",
       "      <td>8e-01</td>\n",
       "      <td>6e-02</td>\n",
       "      <td>115</td>\n",
       "      <td>4</td>\n",
       "      <td>7e-01</td>\n",
       "    </tr>\n",
       "    <tr>\n",
       "      <th>28</th>\n",
       "      <td>1972</td>\n",
       "      <td>0</td>\n",
       "      <td>54</td>\n",
       "      <td>4e-01</td>\n",
       "      <td>5e-01</td>\n",
       "      <td>221728</td>\n",
       "      <td>6e-01</td>\n",
       "      <td>5e-02</td>\n",
       "      <td>5</td>\n",
       "      <td>2e-01</td>\n",
       "      <td>-11</td>\n",
       "      <td>8e-01</td>\n",
       "      <td>6e-02</td>\n",
       "      <td>120</td>\n",
       "      <td>4</td>\n",
       "      <td>6e-01</td>\n",
       "    </tr>\n",
       "    <tr>\n",
       "      <th>29</th>\n",
       "      <td>1972</td>\n",
       "      <td>1</td>\n",
       "      <td>5</td>\n",
       "      <td>4e-01</td>\n",
       "      <td>6e-01</td>\n",
       "      <td>214238</td>\n",
       "      <td>6e-01</td>\n",
       "      <td>8e-02</td>\n",
       "      <td>5</td>\n",
       "      <td>2e-01</td>\n",
       "      <td>-10</td>\n",
       "      <td>8e-01</td>\n",
       "      <td>5e-02</td>\n",
       "      <td>121</td>\n",
       "      <td>4</td>\n",
       "      <td>7e-01</td>\n",
       "    </tr>\n",
       "    <tr>\n",
       "      <th>...</th>\n",
       "      <td>...</td>\n",
       "      <td>...</td>\n",
       "      <td>...</td>\n",
       "      <td>...</td>\n",
       "      <td>...</td>\n",
       "      <td>...</td>\n",
       "      <td>...</td>\n",
       "      <td>...</td>\n",
       "      <td>...</td>\n",
       "      <td>...</td>\n",
       "      <td>...</td>\n",
       "      <td>...</td>\n",
       "      <td>...</td>\n",
       "      <td>...</td>\n",
       "      <td>...</td>\n",
       "      <td>...</td>\n",
       "    </tr>\n",
       "    <tr>\n",
       "      <th>89</th>\n",
       "      <td>2002</td>\n",
       "      <td>1</td>\n",
       "      <td>5</td>\n",
       "      <td>2e-01</td>\n",
       "      <td>7e-01</td>\n",
       "      <td>244015</td>\n",
       "      <td>7e-01</td>\n",
       "      <td>3e-02</td>\n",
       "      <td>5</td>\n",
       "      <td>2e-01</td>\n",
       "      <td>-6</td>\n",
       "      <td>5e-01</td>\n",
       "      <td>1e-01</td>\n",
       "      <td>116</td>\n",
       "      <td>4</td>\n",
       "      <td>6e-01</td>\n",
       "    </tr>\n",
       "    <tr>\n",
       "      <th>90</th>\n",
       "      <td>2003</td>\n",
       "      <td>0</td>\n",
       "      <td>51</td>\n",
       "      <td>2e-01</td>\n",
       "      <td>6e-01</td>\n",
       "      <td>241577</td>\n",
       "      <td>7e-01</td>\n",
       "      <td>3e-02</td>\n",
       "      <td>5</td>\n",
       "      <td>2e-01</td>\n",
       "      <td>-6</td>\n",
       "      <td>7e-01</td>\n",
       "      <td>1e-01</td>\n",
       "      <td>117</td>\n",
       "      <td>4</td>\n",
       "      <td>6e-01</td>\n",
       "    </tr>\n",
       "    <tr>\n",
       "      <th>91</th>\n",
       "      <td>2003</td>\n",
       "      <td>1</td>\n",
       "      <td>5</td>\n",
       "      <td>2e-01</td>\n",
       "      <td>7e-01</td>\n",
       "      <td>257948</td>\n",
       "      <td>7e-01</td>\n",
       "      <td>2e-02</td>\n",
       "      <td>6</td>\n",
       "      <td>2e-01</td>\n",
       "      <td>-6</td>\n",
       "      <td>6e-01</td>\n",
       "      <td>2e-01</td>\n",
       "      <td>114</td>\n",
       "      <td>4</td>\n",
       "      <td>6e-01</td>\n",
       "    </tr>\n",
       "    <tr>\n",
       "      <th>92</th>\n",
       "      <td>2004</td>\n",
       "      <td>0</td>\n",
       "      <td>50</td>\n",
       "      <td>2e-01</td>\n",
       "      <td>6e-01</td>\n",
       "      <td>235946</td>\n",
       "      <td>7e-01</td>\n",
       "      <td>1e-02</td>\n",
       "      <td>5</td>\n",
       "      <td>2e-01</td>\n",
       "      <td>-6</td>\n",
       "      <td>7e-01</td>\n",
       "      <td>1e-01</td>\n",
       "      <td>120</td>\n",
       "      <td>4</td>\n",
       "      <td>6e-01</td>\n",
       "    </tr>\n",
       "    <tr>\n",
       "      <th>93</th>\n",
       "      <td>2004</td>\n",
       "      <td>1</td>\n",
       "      <td>5</td>\n",
       "      <td>1e-01</td>\n",
       "      <td>7e-01</td>\n",
       "      <td>249228</td>\n",
       "      <td>7e-01</td>\n",
       "      <td>4e-03</td>\n",
       "      <td>6</td>\n",
       "      <td>2e-01</td>\n",
       "      <td>-6</td>\n",
       "      <td>6e-01</td>\n",
       "      <td>1e-01</td>\n",
       "      <td>120</td>\n",
       "      <td>4</td>\n",
       "      <td>6e-01</td>\n",
       "    </tr>\n",
       "    <tr>\n",
       "      <th>94</th>\n",
       "      <td>2005</td>\n",
       "      <td>0</td>\n",
       "      <td>55</td>\n",
       "      <td>2e-01</td>\n",
       "      <td>6e-01</td>\n",
       "      <td>236538</td>\n",
       "      <td>7e-01</td>\n",
       "      <td>1e-02</td>\n",
       "      <td>5</td>\n",
       "      <td>2e-01</td>\n",
       "      <td>-6</td>\n",
       "      <td>7e-01</td>\n",
       "      <td>1e-01</td>\n",
       "      <td>122</td>\n",
       "      <td>4</td>\n",
       "      <td>5e-01</td>\n",
       "    </tr>\n",
       "    <tr>\n",
       "      <th>95</th>\n",
       "      <td>2005</td>\n",
       "      <td>1</td>\n",
       "      <td>5</td>\n",
       "      <td>1e-01</td>\n",
       "      <td>7e-01</td>\n",
       "      <td>234050</td>\n",
       "      <td>7e-01</td>\n",
       "      <td>5e-03</td>\n",
       "      <td>5</td>\n",
       "      <td>2e-01</td>\n",
       "      <td>-6</td>\n",
       "      <td>6e-01</td>\n",
       "      <td>2e-01</td>\n",
       "      <td>116</td>\n",
       "      <td>4</td>\n",
       "      <td>5e-01</td>\n",
       "    </tr>\n",
       "    <tr>\n",
       "      <th>96</th>\n",
       "      <td>2006</td>\n",
       "      <td>0</td>\n",
       "      <td>56</td>\n",
       "      <td>1e-01</td>\n",
       "      <td>6e-01</td>\n",
       "      <td>229974</td>\n",
       "      <td>7e-01</td>\n",
       "      <td>7e-03</td>\n",
       "      <td>5</td>\n",
       "      <td>2e-01</td>\n",
       "      <td>-5</td>\n",
       "      <td>7e-01</td>\n",
       "      <td>1e-01</td>\n",
       "      <td>123</td>\n",
       "      <td>4</td>\n",
       "      <td>6e-01</td>\n",
       "    </tr>\n",
       "    <tr>\n",
       "      <th>97</th>\n",
       "      <td>2006</td>\n",
       "      <td>1</td>\n",
       "      <td>5</td>\n",
       "      <td>1e-01</td>\n",
       "      <td>7e-01</td>\n",
       "      <td>237934</td>\n",
       "      <td>7e-01</td>\n",
       "      <td>1e-03</td>\n",
       "      <td>5</td>\n",
       "      <td>2e-01</td>\n",
       "      <td>-6</td>\n",
       "      <td>6e-01</td>\n",
       "      <td>1e-01</td>\n",
       "      <td>120</td>\n",
       "      <td>4</td>\n",
       "      <td>6e-01</td>\n",
       "    </tr>\n",
       "    <tr>\n",
       "      <th>98</th>\n",
       "      <td>2007</td>\n",
       "      <td>0</td>\n",
       "      <td>53</td>\n",
       "      <td>2e-01</td>\n",
       "      <td>6e-01</td>\n",
       "      <td>231876</td>\n",
       "      <td>7e-01</td>\n",
       "      <td>1e-02</td>\n",
       "      <td>5</td>\n",
       "      <td>2e-01</td>\n",
       "      <td>-6</td>\n",
       "      <td>7e-01</td>\n",
       "      <td>9e-02</td>\n",
       "      <td>124</td>\n",
       "      <td>4</td>\n",
       "      <td>5e-01</td>\n",
       "    </tr>\n",
       "    <tr>\n",
       "      <th>99</th>\n",
       "      <td>2007</td>\n",
       "      <td>1</td>\n",
       "      <td>5</td>\n",
       "      <td>1e-01</td>\n",
       "      <td>7e-01</td>\n",
       "      <td>244961</td>\n",
       "      <td>7e-01</td>\n",
       "      <td>1e-02</td>\n",
       "      <td>5</td>\n",
       "      <td>2e-01</td>\n",
       "      <td>-5</td>\n",
       "      <td>7e-01</td>\n",
       "      <td>1e-01</td>\n",
       "      <td>118</td>\n",
       "      <td>4</td>\n",
       "      <td>6e-01</td>\n",
       "    </tr>\n",
       "    <tr>\n",
       "      <th>100</th>\n",
       "      <td>2008</td>\n",
       "      <td>0</td>\n",
       "      <td>55</td>\n",
       "      <td>1e-01</td>\n",
       "      <td>6e-01</td>\n",
       "      <td>236212</td>\n",
       "      <td>7e-01</td>\n",
       "      <td>1e-02</td>\n",
       "      <td>5</td>\n",
       "      <td>2e-01</td>\n",
       "      <td>-6</td>\n",
       "      <td>8e-01</td>\n",
       "      <td>9e-02</td>\n",
       "      <td>125</td>\n",
       "      <td>4</td>\n",
       "      <td>5e-01</td>\n",
       "    </tr>\n",
       "    <tr>\n",
       "      <th>101</th>\n",
       "      <td>2008</td>\n",
       "      <td>1</td>\n",
       "      <td>5</td>\n",
       "      <td>9e-02</td>\n",
       "      <td>6e-01</td>\n",
       "      <td>237108</td>\n",
       "      <td>7e-01</td>\n",
       "      <td>8e-03</td>\n",
       "      <td>5</td>\n",
       "      <td>2e-01</td>\n",
       "      <td>-6</td>\n",
       "      <td>6e-01</td>\n",
       "      <td>1e-01</td>\n",
       "      <td>126</td>\n",
       "      <td>4</td>\n",
       "      <td>5e-01</td>\n",
       "    </tr>\n",
       "    <tr>\n",
       "      <th>102</th>\n",
       "      <td>2009</td>\n",
       "      <td>0</td>\n",
       "      <td>56</td>\n",
       "      <td>2e-01</td>\n",
       "      <td>6e-01</td>\n",
       "      <td>227085</td>\n",
       "      <td>7e-01</td>\n",
       "      <td>5e-03</td>\n",
       "      <td>6</td>\n",
       "      <td>2e-01</td>\n",
       "      <td>-5</td>\n",
       "      <td>7e-01</td>\n",
       "      <td>8e-02</td>\n",
       "      <td>126</td>\n",
       "      <td>4</td>\n",
       "      <td>5e-01</td>\n",
       "    </tr>\n",
       "    <tr>\n",
       "      <th>103</th>\n",
       "      <td>2009</td>\n",
       "      <td>1</td>\n",
       "      <td>5</td>\n",
       "      <td>9e-02</td>\n",
       "      <td>7e-01</td>\n",
       "      <td>238200</td>\n",
       "      <td>7e-01</td>\n",
       "      <td>8e-05</td>\n",
       "      <td>6</td>\n",
       "      <td>2e-01</td>\n",
       "      <td>-5</td>\n",
       "      <td>6e-01</td>\n",
       "      <td>9e-02</td>\n",
       "      <td>122</td>\n",
       "      <td>4</td>\n",
       "      <td>6e-01</td>\n",
       "    </tr>\n",
       "    <tr>\n",
       "      <th>104</th>\n",
       "      <td>2010</td>\n",
       "      <td>0</td>\n",
       "      <td>55</td>\n",
       "      <td>2e-01</td>\n",
       "      <td>6e-01</td>\n",
       "      <td>232715</td>\n",
       "      <td>7e-01</td>\n",
       "      <td>1e-02</td>\n",
       "      <td>5</td>\n",
       "      <td>2e-01</td>\n",
       "      <td>-6</td>\n",
       "      <td>7e-01</td>\n",
       "      <td>9e-02</td>\n",
       "      <td>125</td>\n",
       "      <td>4</td>\n",
       "      <td>5e-01</td>\n",
       "    </tr>\n",
       "    <tr>\n",
       "      <th>105</th>\n",
       "      <td>2010</td>\n",
       "      <td>1</td>\n",
       "      <td>4</td>\n",
       "      <td>9e-02</td>\n",
       "      <td>7e-01</td>\n",
       "      <td>229956</td>\n",
       "      <td>8e-01</td>\n",
       "      <td>1e-04</td>\n",
       "      <td>6</td>\n",
       "      <td>2e-01</td>\n",
       "      <td>-5</td>\n",
       "      <td>6e-01</td>\n",
       "      <td>1e-01</td>\n",
       "      <td>124</td>\n",
       "      <td>4</td>\n",
       "      <td>6e-01</td>\n",
       "    </tr>\n",
       "    <tr>\n",
       "      <th>106</th>\n",
       "      <td>2011</td>\n",
       "      <td>0</td>\n",
       "      <td>58</td>\n",
       "      <td>2e-01</td>\n",
       "      <td>6e-01</td>\n",
       "      <td>225312</td>\n",
       "      <td>7e-01</td>\n",
       "      <td>1e-02</td>\n",
       "      <td>6</td>\n",
       "      <td>2e-01</td>\n",
       "      <td>-5</td>\n",
       "      <td>7e-01</td>\n",
       "      <td>9e-02</td>\n",
       "      <td>126</td>\n",
       "      <td>4</td>\n",
       "      <td>5e-01</td>\n",
       "    </tr>\n",
       "    <tr>\n",
       "      <th>107</th>\n",
       "      <td>2011</td>\n",
       "      <td>1</td>\n",
       "      <td>5</td>\n",
       "      <td>1e-01</td>\n",
       "      <td>6e-01</td>\n",
       "      <td>238830</td>\n",
       "      <td>7e-01</td>\n",
       "      <td>1e-02</td>\n",
       "      <td>5</td>\n",
       "      <td>2e-01</td>\n",
       "      <td>-5</td>\n",
       "      <td>6e-01</td>\n",
       "      <td>1e-01</td>\n",
       "      <td>127</td>\n",
       "      <td>4</td>\n",
       "      <td>5e-01</td>\n",
       "    </tr>\n",
       "    <tr>\n",
       "      <th>108</th>\n",
       "      <td>2012</td>\n",
       "      <td>0</td>\n",
       "      <td>58</td>\n",
       "      <td>1e-01</td>\n",
       "      <td>6e-01</td>\n",
       "      <td>234003</td>\n",
       "      <td>7e-01</td>\n",
       "      <td>1e-02</td>\n",
       "      <td>5</td>\n",
       "      <td>2e-01</td>\n",
       "      <td>-5</td>\n",
       "      <td>7e-01</td>\n",
       "      <td>1e-01</td>\n",
       "      <td>124</td>\n",
       "      <td>4</td>\n",
       "      <td>5e-01</td>\n",
       "    </tr>\n",
       "    <tr>\n",
       "      <th>109</th>\n",
       "      <td>2012</td>\n",
       "      <td>1</td>\n",
       "      <td>5</td>\n",
       "      <td>1e-01</td>\n",
       "      <td>6e-01</td>\n",
       "      <td>221794</td>\n",
       "      <td>7e-01</td>\n",
       "      <td>1e-04</td>\n",
       "      <td>5</td>\n",
       "      <td>2e-01</td>\n",
       "      <td>-5</td>\n",
       "      <td>6e-01</td>\n",
       "      <td>7e-02</td>\n",
       "      <td>123</td>\n",
       "      <td>4</td>\n",
       "      <td>6e-01</td>\n",
       "    </tr>\n",
       "    <tr>\n",
       "      <th>110</th>\n",
       "      <td>2013</td>\n",
       "      <td>0</td>\n",
       "      <td>56</td>\n",
       "      <td>2e-01</td>\n",
       "      <td>6e-01</td>\n",
       "      <td>238279</td>\n",
       "      <td>7e-01</td>\n",
       "      <td>1e-02</td>\n",
       "      <td>5</td>\n",
       "      <td>2e-01</td>\n",
       "      <td>-6</td>\n",
       "      <td>7e-01</td>\n",
       "      <td>1e-01</td>\n",
       "      <td>127</td>\n",
       "      <td>4</td>\n",
       "      <td>5e-01</td>\n",
       "    </tr>\n",
       "    <tr>\n",
       "      <th>111</th>\n",
       "      <td>2013</td>\n",
       "      <td>1</td>\n",
       "      <td>4</td>\n",
       "      <td>2e-01</td>\n",
       "      <td>6e-01</td>\n",
       "      <td>238437</td>\n",
       "      <td>7e-01</td>\n",
       "      <td>2e-04</td>\n",
       "      <td>5</td>\n",
       "      <td>2e-01</td>\n",
       "      <td>-6</td>\n",
       "      <td>6e-01</td>\n",
       "      <td>8e-02</td>\n",
       "      <td>119</td>\n",
       "      <td>4</td>\n",
       "      <td>5e-01</td>\n",
       "    </tr>\n",
       "    <tr>\n",
       "      <th>112</th>\n",
       "      <td>2014</td>\n",
       "      <td>0</td>\n",
       "      <td>55</td>\n",
       "      <td>2e-01</td>\n",
       "      <td>6e-01</td>\n",
       "      <td>225865</td>\n",
       "      <td>7e-01</td>\n",
       "      <td>1e-02</td>\n",
       "      <td>5</td>\n",
       "      <td>2e-01</td>\n",
       "      <td>-6</td>\n",
       "      <td>7e-01</td>\n",
       "      <td>9e-02</td>\n",
       "      <td>126</td>\n",
       "      <td>4</td>\n",
       "      <td>5e-01</td>\n",
       "    </tr>\n",
       "    <tr>\n",
       "      <th>113</th>\n",
       "      <td>2014</td>\n",
       "      <td>1</td>\n",
       "      <td>5</td>\n",
       "      <td>2e-01</td>\n",
       "      <td>7e-01</td>\n",
       "      <td>234011</td>\n",
       "      <td>7e-01</td>\n",
       "      <td>5e-03</td>\n",
       "      <td>4</td>\n",
       "      <td>2e-01</td>\n",
       "      <td>-6</td>\n",
       "      <td>6e-01</td>\n",
       "      <td>9e-02</td>\n",
       "      <td>119</td>\n",
       "      <td>4</td>\n",
       "      <td>5e-01</td>\n",
       "    </tr>\n",
       "    <tr>\n",
       "      <th>114</th>\n",
       "      <td>2015</td>\n",
       "      <td>0</td>\n",
       "      <td>61</td>\n",
       "      <td>2e-01</td>\n",
       "      <td>6e-01</td>\n",
       "      <td>222782</td>\n",
       "      <td>7e-01</td>\n",
       "      <td>9e-03</td>\n",
       "      <td>5</td>\n",
       "      <td>2e-01</td>\n",
       "      <td>-6</td>\n",
       "      <td>6e-01</td>\n",
       "      <td>1e-01</td>\n",
       "      <td>121</td>\n",
       "      <td>4</td>\n",
       "      <td>5e-01</td>\n",
       "    </tr>\n",
       "    <tr>\n",
       "      <th>115</th>\n",
       "      <td>2015</td>\n",
       "      <td>1</td>\n",
       "      <td>5</td>\n",
       "      <td>2e-01</td>\n",
       "      <td>7e-01</td>\n",
       "      <td>215113</td>\n",
       "      <td>6e-01</td>\n",
       "      <td>4e-02</td>\n",
       "      <td>5</td>\n",
       "      <td>2e-01</td>\n",
       "      <td>-6</td>\n",
       "      <td>6e-01</td>\n",
       "      <td>9e-02</td>\n",
       "      <td>124</td>\n",
       "      <td>4</td>\n",
       "      <td>5e-01</td>\n",
       "    </tr>\n",
       "    <tr>\n",
       "      <th>116</th>\n",
       "      <td>2016</td>\n",
       "      <td>0</td>\n",
       "      <td>57</td>\n",
       "      <td>2e-01</td>\n",
       "      <td>6e-01</td>\n",
       "      <td>222080</td>\n",
       "      <td>6e-01</td>\n",
       "      <td>6e-03</td>\n",
       "      <td>5</td>\n",
       "      <td>2e-01</td>\n",
       "      <td>-6</td>\n",
       "      <td>6e-01</td>\n",
       "      <td>1e-01</td>\n",
       "      <td>120</td>\n",
       "      <td>4</td>\n",
       "      <td>4e-01</td>\n",
       "    </tr>\n",
       "    <tr>\n",
       "      <th>117</th>\n",
       "      <td>2016</td>\n",
       "      <td>1</td>\n",
       "      <td>5</td>\n",
       "      <td>1e-01</td>\n",
       "      <td>7e-01</td>\n",
       "      <td>220050</td>\n",
       "      <td>6e-01</td>\n",
       "      <td>4e-03</td>\n",
       "      <td>6</td>\n",
       "      <td>2e-01</td>\n",
       "      <td>-6</td>\n",
       "      <td>7e-01</td>\n",
       "      <td>1e-01</td>\n",
       "      <td>120</td>\n",
       "      <td>4</td>\n",
       "      <td>5e-01</td>\n",
       "    </tr>\n",
       "    <tr>\n",
       "      <th>118</th>\n",
       "      <td>2017</td>\n",
       "      <td>0</td>\n",
       "      <td>62</td>\n",
       "      <td>3e-01</td>\n",
       "      <td>6e-01</td>\n",
       "      <td>202121</td>\n",
       "      <td>6e-01</td>\n",
       "      <td>6e-06</td>\n",
       "      <td>5</td>\n",
       "      <td>1e-01</td>\n",
       "      <td>-9</td>\n",
       "      <td>8e-01</td>\n",
       "      <td>9e-02</td>\n",
       "      <td>136</td>\n",
       "      <td>4</td>\n",
       "      <td>6e-01</td>\n",
       "    </tr>\n",
       "  </tbody>\n",
       "</table>\n",
       "<p>119 rows × 16 columns</p>\n",
       "</div>"
      ],
      "text/plain": [
       "     year  top_ten_hit  peakPos  acousticness  danceability  duration_ms  \\\n",
       "0    1958            0       52         7e-01         5e-01       147195   \n",
       "1    1958            1        5         6e-01         6e-01       149220   \n",
       "2    1959            0       54         7e-01         5e-01       149766   \n",
       "3    1959            1        5         6e-01         6e-01       149480   \n",
       "4    1960            0       53         7e-01         5e-01       151907   \n",
       "5    1960            1        5         7e-01         5e-01       160218   \n",
       "6    1961            0       53         7e-01         5e-01       154480   \n",
       "7    1961            1        5         6e-01         6e-01       153698   \n",
       "8    1962            0       57         6e-01         5e-01       158169   \n",
       "9    1962            1        5         6e-01         6e-01       158012   \n",
       "10   1963            0       54         6e-01         5e-01       156532   \n",
       "11   1963            1        5         5e-01         6e-01       153978   \n",
       "12   1964            0       54         5e-01         5e-01       156864   \n",
       "13   1964            1        5         5e-01         5e-01       156423   \n",
       "14   1965            0       53         5e-01         5e-01       162589   \n",
       "15   1965            1        5         4e-01         5e-01       163006   \n",
       "16   1966            0       53         5e-01         5e-01       164364   \n",
       "17   1966            1        5         4e-01         6e-01       168973   \n",
       "18   1967            0       54         5e-01         5e-01       171980   \n",
       "19   1967            1        5         4e-01         6e-01       177866   \n",
       "20   1968            0       55         4e-01         5e-01       178237   \n",
       "21   1968            1        5         4e-01         5e-01       189185   \n",
       "22   1969            0       55         4e-01         5e-01       191935   \n",
       "23   1969            1        5         3e-01         5e-01       199890   \n",
       "24   1970            0       55         4e-01         5e-01       204701   \n",
       "25   1970            1        5         4e-01         6e-01       210391   \n",
       "26   1971            0       57         4e-01         5e-01       215040   \n",
       "27   1971            1        5         4e-01         6e-01       209763   \n",
       "28   1972            0       54         4e-01         5e-01       221728   \n",
       "29   1972            1        5         4e-01         6e-01       214238   \n",
       "..    ...          ...      ...           ...           ...          ...   \n",
       "89   2002            1        5         2e-01         7e-01       244015   \n",
       "90   2003            0       51         2e-01         6e-01       241577   \n",
       "91   2003            1        5         2e-01         7e-01       257948   \n",
       "92   2004            0       50         2e-01         6e-01       235946   \n",
       "93   2004            1        5         1e-01         7e-01       249228   \n",
       "94   2005            0       55         2e-01         6e-01       236538   \n",
       "95   2005            1        5         1e-01         7e-01       234050   \n",
       "96   2006            0       56         1e-01         6e-01       229974   \n",
       "97   2006            1        5         1e-01         7e-01       237934   \n",
       "98   2007            0       53         2e-01         6e-01       231876   \n",
       "99   2007            1        5         1e-01         7e-01       244961   \n",
       "100  2008            0       55         1e-01         6e-01       236212   \n",
       "101  2008            1        5         9e-02         6e-01       237108   \n",
       "102  2009            0       56         2e-01         6e-01       227085   \n",
       "103  2009            1        5         9e-02         7e-01       238200   \n",
       "104  2010            0       55         2e-01         6e-01       232715   \n",
       "105  2010            1        4         9e-02         7e-01       229956   \n",
       "106  2011            0       58         2e-01         6e-01       225312   \n",
       "107  2011            1        5         1e-01         6e-01       238830   \n",
       "108  2012            0       58         1e-01         6e-01       234003   \n",
       "109  2012            1        5         1e-01         6e-01       221794   \n",
       "110  2013            0       56         2e-01         6e-01       238279   \n",
       "111  2013            1        4         2e-01         6e-01       238437   \n",
       "112  2014            0       55         2e-01         6e-01       225865   \n",
       "113  2014            1        5         2e-01         7e-01       234011   \n",
       "114  2015            0       61         2e-01         6e-01       222782   \n",
       "115  2015            1        5         2e-01         7e-01       215113   \n",
       "116  2016            0       57         2e-01         6e-01       222080   \n",
       "117  2016            1        5         1e-01         7e-01       220050   \n",
       "118  2017            0       62         3e-01         6e-01       202121   \n",
       "\n",
       "     energy  instrumentalness  key  liveness  loudness   mode  speechiness  \\\n",
       "0     5e-01             7e-02    5     2e-01       -11  8e-01        5e-02   \n",
       "1     5e-01             9e-02    5     2e-01       -10  9e-01        6e-02   \n",
       "2     5e-01             9e-02    5     2e-01       -11  9e-01        5e-02   \n",
       "3     5e-01             6e-02    5     2e-01       -11  8e-01        5e-02   \n",
       "4     5e-01             6e-02    5     2e-01       -11  9e-01        5e-02   \n",
       "5     4e-01             9e-02    5     2e-01       -11  8e-01        4e-02   \n",
       "6     5e-01             7e-02    5     2e-01       -11  9e-01        6e-02   \n",
       "7     4e-01             8e-02    5     2e-01       -12  9e-01        5e-02   \n",
       "8     5e-01             7e-02    5     2e-01       -11  9e-01        6e-02   \n",
       "9     5e-01             7e-02    6     2e-01       -10  8e-01        6e-02   \n",
       "10    5e-01             4e-02    5     3e-01       -10  8e-01        5e-02   \n",
       "11    5e-01             6e-02    5     2e-01       -11  9e-01        6e-02   \n",
       "12    5e-01             5e-02    5     2e-01       -10  9e-01        5e-02   \n",
       "13    6e-01             4e-02    5     2e-01        -9  8e-01        5e-02   \n",
       "14    5e-01             4e-02    5     2e-01       -10  9e-01        5e-02   \n",
       "15    6e-01             5e-02    5     2e-01        -9  8e-01        5e-02   \n",
       "16    5e-01             5e-02    5     2e-01       -10  8e-01        5e-02   \n",
       "17    6e-01             2e-02    5     2e-01       -10  8e-01        5e-02   \n",
       "18    5e-01             4e-02    5     2e-01       -10  8e-01        5e-02   \n",
       "19    6e-01             3e-02    5     2e-01       -10  9e-01        5e-02   \n",
       "20    5e-01             6e-02    5     2e-01       -11  8e-01        5e-02   \n",
       "21    5e-01             9e-02    5     2e-01       -10  8e-01        5e-02   \n",
       "22    5e-01             6e-02    5     2e-01       -11  8e-01        5e-02   \n",
       "23    5e-01             5e-02    5     2e-01       -10  8e-01        5e-02   \n",
       "24    6e-01             4e-02    5     2e-01       -11  8e-01        5e-02   \n",
       "25    6e-01             4e-02    5     2e-01       -10  8e-01        5e-02   \n",
       "26    6e-01             6e-02    5     2e-01       -10  8e-01        5e-02   \n",
       "27    6e-01             5e-02    4     2e-01       -11  8e-01        6e-02   \n",
       "28    6e-01             5e-02    5     2e-01       -11  8e-01        6e-02   \n",
       "29    6e-01             8e-02    5     2e-01       -10  8e-01        5e-02   \n",
       "..      ...               ...  ...       ...       ...    ...          ...   \n",
       "89    7e-01             3e-02    5     2e-01        -6  5e-01        1e-01   \n",
       "90    7e-01             3e-02    5     2e-01        -6  7e-01        1e-01   \n",
       "91    7e-01             2e-02    6     2e-01        -6  6e-01        2e-01   \n",
       "92    7e-01             1e-02    5     2e-01        -6  7e-01        1e-01   \n",
       "93    7e-01             4e-03    6     2e-01        -6  6e-01        1e-01   \n",
       "94    7e-01             1e-02    5     2e-01        -6  7e-01        1e-01   \n",
       "95    7e-01             5e-03    5     2e-01        -6  6e-01        2e-01   \n",
       "96    7e-01             7e-03    5     2e-01        -5  7e-01        1e-01   \n",
       "97    7e-01             1e-03    5     2e-01        -6  6e-01        1e-01   \n",
       "98    7e-01             1e-02    5     2e-01        -6  7e-01        9e-02   \n",
       "99    7e-01             1e-02    5     2e-01        -5  7e-01        1e-01   \n",
       "100   7e-01             1e-02    5     2e-01        -6  8e-01        9e-02   \n",
       "101   7e-01             8e-03    5     2e-01        -6  6e-01        1e-01   \n",
       "102   7e-01             5e-03    6     2e-01        -5  7e-01        8e-02   \n",
       "103   7e-01             8e-05    6     2e-01        -5  6e-01        9e-02   \n",
       "104   7e-01             1e-02    5     2e-01        -6  7e-01        9e-02   \n",
       "105   8e-01             1e-04    6     2e-01        -5  6e-01        1e-01   \n",
       "106   7e-01             1e-02    6     2e-01        -5  7e-01        9e-02   \n",
       "107   7e-01             1e-02    5     2e-01        -5  6e-01        1e-01   \n",
       "108   7e-01             1e-02    5     2e-01        -5  7e-01        1e-01   \n",
       "109   7e-01             1e-04    5     2e-01        -5  6e-01        7e-02   \n",
       "110   7e-01             1e-02    5     2e-01        -6  7e-01        1e-01   \n",
       "111   7e-01             2e-04    5     2e-01        -6  6e-01        8e-02   \n",
       "112   7e-01             1e-02    5     2e-01        -6  7e-01        9e-02   \n",
       "113   7e-01             5e-03    4     2e-01        -6  6e-01        9e-02   \n",
       "114   7e-01             9e-03    5     2e-01        -6  6e-01        1e-01   \n",
       "115   6e-01             4e-02    5     2e-01        -6  6e-01        9e-02   \n",
       "116   6e-01             6e-03    5     2e-01        -6  6e-01        1e-01   \n",
       "117   6e-01             4e-03    6     2e-01        -6  7e-01        1e-01   \n",
       "118   6e-01             6e-06    5     1e-01        -9  8e-01        9e-02   \n",
       "\n",
       "     tempo  time_signature  valence  \n",
       "0      117               4    7e-01  \n",
       "1      119               4    7e-01  \n",
       "2      114               4    7e-01  \n",
       "3      121               4    7e-01  \n",
       "4      118               4    7e-01  \n",
       "5      119               4    7e-01  \n",
       "6      120               4    7e-01  \n",
       "7      122               4    7e-01  \n",
       "8      118               4    7e-01  \n",
       "9      119               4    7e-01  \n",
       "10     120               4    7e-01  \n",
       "11     117               4    7e-01  \n",
       "12     120               4    7e-01  \n",
       "13     127               4    7e-01  \n",
       "14     120               4    6e-01  \n",
       "15     123               4    7e-01  \n",
       "16     120               4    7e-01  \n",
       "17     122               4    7e-01  \n",
       "18     120               4    6e-01  \n",
       "19     116               4    7e-01  \n",
       "20     119               4    6e-01  \n",
       "21     117               4    6e-01  \n",
       "22     120               4    6e-01  \n",
       "23     120               4    7e-01  \n",
       "24     118               4    6e-01  \n",
       "25     119               4    7e-01  \n",
       "26     119               4    7e-01  \n",
       "27     115               4    7e-01  \n",
       "28     120               4    6e-01  \n",
       "29     121               4    7e-01  \n",
       "..     ...             ...      ...  \n",
       "89     116               4    6e-01  \n",
       "90     117               4    6e-01  \n",
       "91     114               4    6e-01  \n",
       "92     120               4    6e-01  \n",
       "93     120               4    6e-01  \n",
       "94     122               4    5e-01  \n",
       "95     116               4    5e-01  \n",
       "96     123               4    6e-01  \n",
       "97     120               4    6e-01  \n",
       "98     124               4    5e-01  \n",
       "99     118               4    6e-01  \n",
       "100    125               4    5e-01  \n",
       "101    126               4    5e-01  \n",
       "102    126               4    5e-01  \n",
       "103    122               4    6e-01  \n",
       "104    125               4    5e-01  \n",
       "105    124               4    6e-01  \n",
       "106    126               4    5e-01  \n",
       "107    127               4    5e-01  \n",
       "108    124               4    5e-01  \n",
       "109    123               4    6e-01  \n",
       "110    127               4    5e-01  \n",
       "111    119               4    5e-01  \n",
       "112    126               4    5e-01  \n",
       "113    119               4    5e-01  \n",
       "114    121               4    5e-01  \n",
       "115    124               4    5e-01  \n",
       "116    120               4    4e-01  \n",
       "117    120               4    5e-01  \n",
       "118    136               4    6e-01  \n",
       "\n",
       "[119 rows x 16 columns]"
      ]
     },
     "execution_count": 8,
     "metadata": {},
     "output_type": "execute_result"
    }
   ],
   "source": [
    "top_ten_prediction.groupby(['year','top_ten_hit']).mean().reset_index()"
   ]
  },
  {
   "cell_type": "markdown",
   "metadata": {},
   "source": [
    "# Data Visualization"
   ]
  },
  {
   "cell_type": "markdown",
   "metadata": {},
   "source": [
    "The key variable is an integer between zero and eleven and time signature is an integer between 2 and 5. These are not on a numerical scale so we introduce dummy indicator variables to distinguish between the cases when using linear regression."
   ]
  },
  {
   "cell_type": "code",
   "execution_count": 9,
   "metadata": {
    "collapsed": true
   },
   "outputs": [],
   "source": [
    "# create dummy variables using get_dummies, then exclude the first dummy column\n",
    "key_dummies = pd.get_dummies(top_ten_prediction.key, prefix='key').iloc[:, 1:]\n",
    "time_dummies = pd.get_dummies(top_ten_prediction.time_signature, prefix='time').iloc[:, 1:]\n",
    "# concatenate the dummy variable columns onto the original DataFrame (axis=0 means rows, axis=1 means columns)\n",
    "top_ten_no_na_dum = pd.concat([top_ten_prediction, key_dummies,time_dummies], axis=1)"
   ]
  },
  {
   "cell_type": "markdown",
   "metadata": {},
   "source": [
    "We check the histograms to see how they are distributed."
   ]
  },
  {
   "cell_type": "code",
   "execution_count": 10,
   "metadata": {
    "collapsed": false
   },
   "outputs": [
    {
     "data": {
      "image/png": "[encoded data removed]",
      "text/plain": [
       "<matplotlib.figure.Figure at 0x1669be97d68>"
      ]
     },
     "metadata": {},
     "output_type": "display_data"
    }
   ],
   "source": [
    "# Univariate Histograms\n",
    "top_ten_no_na_dum.hist(figsize=(13, 13))\n",
    "plt.show()"
   ]
  },
  {
   "cell_type": "markdown",
   "metadata": {},
   "source": [
    "We've already discussed these distributions in the data story. We also perform a box and whiskers plot."
   ]
  },
  {
   "cell_type": "code",
   "execution_count": 11,
   "metadata": {
    "collapsed": false
   },
   "outputs": [
    {
     "data": {
      "image/png": "[encoded data removed]",
      "text/plain": [
       "<matplotlib.figure.Figure at 0x166ff87e470>"
      ]
     },
     "metadata": {},
     "output_type": "display_data"
    }
   ],
   "source": [
    "top_ten_no_na_dum.plot(kind='box', subplots=True,layout=(6,5), figsize=(12, 12), sharex=False, sharey=False)\n",
    "plt.show()"
   ]
  },
  {
   "cell_type": "markdown",
   "metadata": {},
   "source": [
    "From this we see there are a few outliers for the duration variable. We also look at the correlation matrices for the variables."
   ]
  },
  {
   "cell_type": "code",
   "execution_count": 12,
   "metadata": {
    "collapsed": false
   },
   "outputs": [
    {
     "data": {
      "image/png": "[encoded data removed]",
      "text/plain": [
       "<matplotlib.figure.Figure at 0x166903c5208>"
      ]
     },
     "metadata": {},
     "output_type": "display_data"
    }
   ],
   "source": [
    "correlations = top_ten_no_na_dum.corr()\n",
    "# plot correlation matrix\n",
    "fig = plt.figure(figsize=(12, 12))\n",
    "names=linear_feature_cols = ['acousticness','danceability','duration_ms','energy','instrumentalness','key','liveness','loudness','mode','speechiness','tempo','time_signature','valence','key_1.0','key_2.0','key_3.0','key_4.0','key_5.0','key_7.0','key_8.0','key_9.0','key_10.0','key_11.0','time_3.0','time_4.0','time_5.0']\n",
    "ax = fig.add_subplot(111)\n",
    "cax = ax.matshow(correlations, vmin=-1, vmax=1)\n",
    "fig.colorbar(cax)\n",
    "ticks = np.arange(0,28,1)\n",
    "ax.set_xticks(ticks)\n",
    "ax.set_yticks(ticks)\n",
    "ax.set_xticklabels(names,rotation=70)\n",
    "ax.set_yticklabels(names)\n",
    "plt.show()"
   ]
  },
  {
   "cell_type": "code",
   "execution_count": 14,
   "metadata": {
    "collapsed": false
   },
   "outputs": [
    {
     "data": {
      "image/png": "[encoded data removed]",
      "text/plain": [
       "<matplotlib.figure.Figure at 0x16690ac7eb8>"
      ]
     },
     "metadata": {},
     "output_type": "display_data"
    }
   ],
   "source": [
    "corr = top_ten_no_na_dum.corr()\n",
    "sns.heatmap(corr, \n",
    "            xticklabels=corr.columns.values,\n",
    "            yticklabels=corr.columns.values)\n",
    "plt.show()"
   ]
  },
  {
   "cell_type": "markdown",
   "metadata": {},
   "source": [
    "From this we see a high positive correlation between energy and loudness and high negative correlation between acousticness and both loudness and energy. "
   ]
  },
  {
   "cell_type": "markdown",
   "metadata": {},
   "source": [
    "# Machine Learning Modelling Phase"
   ]
  },
  {
   "cell_type": "code",
   "execution_count": 51,
   "metadata": {
    "collapsed": false
   },
   "outputs": [],
   "source": [
    "# Machine Learning Imports\n",
    "from sklearn.model_selection import train_test_split\n",
    "from sklearn.grid_search import GridSearchCV\n",
    "from sklearn.metrics import classification_report\n",
    "from sklearn.metrics import confusion_matrix\n",
    "from sklearn.metrics import accuracy_score\n",
    "from sklearn.metrics import roc_auc_score\n",
    "from sklearn.metrics import r2_score"
   ]
  },
  {
   "cell_type": "markdown",
   "metadata": {},
   "source": [
    "# Classificaiton Algorithms\n",
    "We first create an algorithm using GridSearch to optimize the parameters in the cross-validation stage. We will initially use 5-fold cross-validation. "
   ]
  },
  {
   "cell_type": "code",
   "execution_count": 16,
   "metadata": {
    "collapsed": true
   },
   "outputs": [],
   "source": [
    "# Given a set of hyperparameters and training data we use Grid Search to find the best choice of hyperparameters\n",
    "def cv_optimize(clf, parameters, Xtrain, ytrain, n_folds=5):\n",
    "    gs = GridSearchCV(clf, param_grid=parameters, cv=n_folds)\n",
    "    gs.fit(Xtrain, ytrain)\n",
    "    print(\"BEST PARAMS\", gs.best_params_)\n",
    "    best = gs.best_estimator_\n",
    "    return best"
   ]
  },
  {
   "cell_type": "markdown",
   "metadata": {},
   "source": [
    "We write the following classification algorithm that we can use with multiple machine learning models given a dataset, target variable and hyperparameters."
   ]
  },
  {
   "cell_type": "code",
   "execution_count": 17,
   "metadata": {
    "collapsed": true
   },
   "outputs": [],
   "source": [
    "# we use a 80-20 Train-Test split by default and do not standardize the audiodata metadata features\n",
    "# We set the seed to 7 to obtain consistent results\n",
    "def do_classify(clf, parameters, indf, featurenames, targetname, target1val, standardize=False, train_size=0.8,seed = 7):\n",
    "    #To create the 'X' dataset we first standardize by the mean and standard deviation is standardize is set to True\n",
    "    subdf=indf[featurenames]\n",
    "    if standardize:\n",
    "        subdfstd=(subdf - subdf.mean())/subdf.std()\n",
    "    else:\n",
    "        subdfstd=subdf\n",
    "    #Create the 'X' and 'y' datasets\n",
    "    X=subdfstd.values\n",
    "    y=(indf[targetname].values==target1val)*1\n",
    "    #Split X and y into training and test data.\n",
    "    Xtrain, Xtest, ytrain, ytest = train_test_split(X, y, train_size=train_size,random_state=seed)\n",
    "    #Now implement GridSearchCV for the cross validation steop \n",
    "    clf = cv_optimize(clf, parameters, Xtrain, ytrain)\n",
    "    #Use the classifier to fit the training data\n",
    "    clf=clf.fit(Xtrain, ytrain)\n",
    "    training_accuracy = clf.score(Xtrain, ytrain)\n",
    "    test_accuracy = clf.score(Xtest, ytest)\n",
    "    print(\"Accuracy on training data: {:0.5f}\".format(training_accuracy))\n",
    "    print(\"Accuracy on test data:     {:0.5f}\".format(test_accuracy))\n",
    "    return clf, Xtrain, ytrain, Xtest, ytest"
   ]
  },
  {
   "cell_type": "markdown",
   "metadata": {},
   "source": [
    "Since our question is primarily a binary classification problem, Linear Regression is not a recommended model to use so we begin with Logistic Regression."
   ]
  },
  {
   "cell_type": "code",
   "execution_count": 18,
   "metadata": {
    "collapsed": false
   },
   "outputs": [],
   "source": [
    "linear_feature_cols= ['acousticness','danceability','duration_ms','energy','instrumentalness','liveness','loudness','speechiness','tempo','valence','year']"
   ]
  },
  {
   "cell_type": "markdown",
   "metadata": {
    "collapsed": false
   },
   "source": [
    "# Logistic Regression"
   ]
  },
  {
   "cell_type": "code",
   "execution_count": 19,
   "metadata": {
    "collapsed": false
   },
   "outputs": [
    {
     "name": "stdout",
     "output_type": "stream",
     "text": [
      "BEST PARAMS {'C': 0.001}\n",
      "Accuracy on training data: 0.80648\n",
      "Accuracy on test data:     0.80275\n"
     ]
    }
   ],
   "source": [
    "from sklearn.linear_model import LogisticRegression\n",
    "params = {\"C\": [0.001, 0.1, 1, 10, 100]}\n",
    "clf_log, Xtrain_log, ytrain_log, Xtest_log, ytest_log  = do_classify(LogisticRegression(), \n",
    "                                                           params, \n",
    "                                                           top_ten_no_na_dum, linear_feature_cols, 'top_ten_hit',1)"
   ]
  },
  {
   "cell_type": "code",
   "execution_count": 21,
   "metadata": {
    "collapsed": false
   },
   "outputs": [
    {
     "data": {
      "text/plain": [
       "0.19346648612051456"
      ]
     },
     "execution_count": 21,
     "metadata": {},
     "output_type": "execute_result"
    }
   ],
   "source": [
    "ytrain_log.mean()"
   ]
  },
  {
   "cell_type": "markdown",
   "metadata": {},
   "source": [
    "19% of songs reach the Top Ten so we can obtain 81% accuracy by just guessing no all the time. Thus our logistic model does not improve upon guessing at all."
   ]
  },
  {
   "cell_type": "code",
   "execution_count": 22,
   "metadata": {
    "collapsed": false
   },
   "outputs": [
    {
     "data": {
      "text/plain": [
       "array([[ -2.98048847e-07,  -3.58027701e-08,   1.42734492e-06,\n",
       "         -2.89871219e-07,  -6.72755961e-08,  -2.08841511e-07,\n",
       "          4.49492425e-06,  -6.95457428e-08,  -5.77115466e-05,\n",
       "         -1.88202755e-07,  -8.76220772e-04]])"
      ]
     },
     "execution_count": 22,
     "metadata": {},
     "output_type": "execute_result"
    }
   ],
   "source": [
    "# pair the feature names with the coefficients\n",
    "clf_log.coef_"
   ]
  },
  {
   "cell_type": "code",
   "execution_count": 23,
   "metadata": {
    "collapsed": false
   },
   "outputs": [
    {
     "name": "stdout",
     "output_type": "stream",
     "text": [
      "[[3557    0]\n",
      " [ 874    0]]\n",
      "             precision    recall  f1-score   support\n",
      "\n",
      "          0       0.80      1.00      0.89      3557\n",
      "          1       0.00      0.00      0.00       874\n",
      "\n",
      "avg / total       0.64      0.80      0.71      4431\n",
      "\n"
     ]
    },
    {
     "name": "stderr",
     "output_type": "stream",
     "text": [
      "C:\\Users\\MSI_USER\\Anaconda3\\lib\\site-packages\\sklearn\\metrics\\classification.py:1113: UndefinedMetricWarning: Precision and F-score are ill-defined and being set to 0.0 in labels with no predicted samples.\n",
      "  'precision', 'predicted', average, warn_for)\n"
     ]
    }
   ],
   "source": [
    "test_prediction_log=clf_log.predict(Xtest_log)\n",
    "print(confusion_matrix(ytest_log,test_prediction_log))\n",
    "print(classification_report(ytest_log,test_prediction_log))"
   ]
  },
  {
   "cell_type": "markdown",
   "metadata": {
    "collapsed": false
   },
   "source": [
    "** As we expect since predicting that every track will not reach the top ten will be correct 81% of the time, the logistic model uses this as its prediction model. **"
   ]
  },
  {
   "cell_type": "markdown",
   "metadata": {
    "collapsed": true
   },
   "source": [
    "# Ridge Regression"
   ]
  },
  {
   "cell_type": "code",
   "execution_count": 24,
   "metadata": {
    "collapsed": false
   },
   "outputs": [
    {
     "name": "stdout",
     "output_type": "stream",
     "text": [
      "BEST PARAMS {'alpha': 1}\n",
      "Accuracy on training data: 0.01466\n",
      "Accuracy on test data:     0.01380\n",
      "r^2 on test data : 0.013798\n"
     ]
    }
   ],
   "source": [
    "from sklearn.linear_model import Ridge\n",
    "params = {'alpha':[0.1,1,10]}\n",
    "clf_ridge, Xtrain_ridge, ytrain_ridge, Xtest_ridge, ytest_ridge  = do_classify(Ridge(), \n",
    "                                                           params, \n",
    "                                                           top_ten_no_na_dum, linear_feature_cols, 'top_ten_hit',1)\n",
    "test_prediction_ridge=clf_ridge.predict(Xtest_ridge)\n",
    "r2_score_ridge = r2_score( ytest_ridge, test_prediction_ridge)\n",
    "print(\"r^2 on test data : %f\" % r2_score_ridge)"
   ]
  },
  {
   "cell_type": "code",
   "execution_count": 28,
   "metadata": {
    "collapsed": false
   },
   "outputs": [],
   "source": [
    "#print(confusion_matrix(ytest_ridge,test_prediction_ridge))\n",
    "#print(classification_report(ytest_ridge,test_prediction_ridge))"
   ]
  },
  {
   "cell_type": "markdown",
   "metadata": {
    "collapsed": true
   },
   "source": [
    "Here Ridge regression is a type of linear regression and not a very suitable model for binary classification problems."
   ]
  },
  {
   "cell_type": "markdown",
   "metadata": {
    "collapsed": true
   },
   "source": [
    "# Lasso Regression Model"
   ]
  },
  {
   "cell_type": "code",
   "execution_count": 23,
   "metadata": {
    "collapsed": false
   },
   "outputs": [
    {
     "name": "stdout",
     "output_type": "stream",
     "text": [
      "BEST PARAMS {'alpha': 0.001}\n",
      "Accuracy on training data: 0.00831\n",
      "Accuracy on test data:     0.00342\n",
      "r^2 on test data : 0.003417\n"
     ]
    }
   ],
   "source": [
    "from sklearn.linear_model import Lasso\n",
    "params ={\"alpha\":[1, 0.1,0.01,0.001]}\n",
    "clf_lasso, Xtrain_lasso, ytrain_lasso, Xtest_lasso, ytest_lasso  = do_classify(Lasso(), \n",
    "                                                           params, \n",
    "                                                           top_ten_no_na_dum, linear_feature_cols, 'top_ten_hit',1)\n",
    "y_pred_lasso = clf_lasso.fit(Xtrain_lasso, ytrain_lasso).predict(Xtest_lasso)\n",
    "r2_score_lasso = r2_score( ytest_lasso, y_pred_lasso)\n",
    "print(\"r^2 on test data : %f\" % r2_score_lasso)"
   ]
  },
  {
   "cell_type": "markdown",
   "metadata": {
    "collapsed": false
   },
   "source": [
    "# Elastic Net Regression"
   ]
  },
  {
   "cell_type": "code",
   "execution_count": 24,
   "metadata": {
    "collapsed": false
   },
   "outputs": [
    {
     "name": "stdout",
     "output_type": "stream",
     "text": [
      "BEST PARAMS {'alpha': 0.001, 'l1_ratio': 0.2}\n",
      "Accuracy on training data: 0.01076\n",
      "Accuracy on test data:     0.00503\n",
      "r^2 on test data : 0.005027\n"
     ]
    },
    {
     "data": {
      "image/png": "[encoded data removed]",
      "text/plain": [
       "<matplotlib.figure.Figure at 0x2bd56c8b550>"
      ]
     },
     "metadata": {},
     "output_type": "display_data"
    }
   ],
   "source": [
    "from sklearn.linear_model import ElasticNet\n",
    "params ={\"alpha\":[1,0.1,0.01,0.001],\n",
    "        'l1_ratio':[0.1,0.2,0.4]}\n",
    "clf_enet, Xtrain_enet, ytrain_enet, Xtest_enet, ytest_enet  = do_classify(ElasticNet(), \n",
    "                                                           params, \n",
    "                                                           top_ten_no_na_dum, linear_feature_cols, 'top_ten_hit',1)\n",
    "y_pred_enet = clf_enet.fit(Xtrain_enet, ytrain_enet).predict(Xtest_enet)\n",
    "r2_score_enet = r2_score(ytest_enet, y_pred_enet)\n",
    "\n",
    "print(\"r^2 on test data : %f\" % r2_score_enet)\n",
    "\n",
    "plt.plot(clf_enet.coef_, color='lightgreen', linewidth=2,\n",
    "         label='Elastic net coefficients')\n",
    "plt.plot(clf_lasso.coef_, color='gold', linewidth=2,\n",
    "         label='Lasso coefficients')\n",
    "n_samples, n_features = 50, 200\n",
    "X = np.random.randn(n_samples, n_features)\n",
    "coef = 3 * np.random.randn(n_features)\n",
    "inds = np.arange(n_features)\n",
    "np.random.shuffle(inds)\n",
    "coef[inds[10:]] = 0 \n",
    "plt.plot(coef, '--', color='navy', label='original coefficients')\n",
    "plt.legend(loc='best')\n",
    "plt.title(\"Lasso R^2: %f, Elastic Net R^2: %f\"\n",
    "          % (r2_score_lasso, r2_score_enet))\n",
    "plt.show()"
   ]
  },
  {
   "cell_type": "markdown",
   "metadata": {
    "collapsed": false
   },
   "source": [
    "** Lasso Regression and Elastic Net Regression are similary do not produce accurate models. **"
   ]
  },
  {
   "cell_type": "markdown",
   "metadata": {},
   "source": [
    "# Decision Tree"
   ]
  },
  {
   "cell_type": "code",
   "execution_count": 30,
   "metadata": {
    "collapsed": false,
    "scrolled": false
   },
   "outputs": [
    {
     "name": "stdout",
     "output_type": "stream",
     "text": [
      "BEST PARAMS {'criterion': 'gini', 'max_depth': 3, 'max_features': 3, 'min_samples_leaf': 3, 'min_samples_split': 10}\n",
      "Accuracy on training data: 0.80653\n",
      "Accuracy on test data:     0.80275\n"
     ]
    }
   ],
   "source": [
    "from sklearn.tree import DecisionTreeClassifier\n",
    "feature_cols = ['acousticness','danceability','duration_ms','energy','instrumentalness','key','liveness','loudness','mode','speechiness','tempo','time_signature','valence','year']\n",
    "params ={'criterion': [\"gini\",\"entropy\"],\n",
    " 'max_depth': [1,3, 10],\n",
    " 'max_features': [1, 3, 10],\n",
    " 'min_samples_leaf': [ 3,10],\n",
    " 'min_samples_split': [3,10]}\n",
    "clf_dtree, Xtrain_dtree, ytrain_dtree, Xtest_dtree, ytest_dtree  = do_classify(DecisionTreeClassifier(), \n",
    "                                                           params, \n",
    "                                                           top_ten_prediction, feature_cols, 'top_ten_hit',1)"
   ]
  },
  {
   "cell_type": "code",
   "execution_count": 31,
   "metadata": {
    "collapsed": false
   },
   "outputs": [
    {
     "name": "stdout",
     "output_type": "stream",
     "text": [
      "[[3557    0]\n",
      " [ 874    0]]\n",
      "             precision    recall  f1-score   support\n",
      "\n",
      "          0       0.80      1.00      0.89      3557\n",
      "          1       0.00      0.00      0.00       874\n",
      "\n",
      "avg / total       0.64      0.80      0.71      4431\n",
      "\n"
     ]
    },
    {
     "name": "stderr",
     "output_type": "stream",
     "text": [
      "C:\\Users\\MSI_USER\\Anaconda3\\lib\\site-packages\\sklearn\\metrics\\classification.py:1113: UndefinedMetricWarning: Precision and F-score are ill-defined and being set to 0.0 in labels with no predicted samples.\n",
      "  'precision', 'predicted', average, warn_for)\n"
     ]
    }
   ],
   "source": [
    "test_prediction_dtree=clf_dtree.predict(Xtest_dtree)\n",
    "print(confusion_matrix(ytest_dtree,test_prediction_dtree))\n",
    "print(classification_report(ytest_dtree,test_prediction_dtree))"
   ]
  },
  {
   "cell_type": "markdown",
   "metadata": {
    "collapsed": true
   },
   "source": [
    "** Here the Decision Tree model does not improve on the trivial accuracy as we can see from the confusion matrix. **"
   ]
  },
  {
   "cell_type": "markdown",
   "metadata": {},
   "source": [
    "# Random Forest"
   ]
  },
  {
   "cell_type": "code",
   "execution_count": 32,
   "metadata": {
    "collapsed": false
   },
   "outputs": [
    {
     "name": "stdout",
     "output_type": "stream",
     "text": [
      "BEST PARAMS {'n_estimators': 1000}\n",
      "Accuracy on training data: 0.99746\n",
      "Accuracy on test data:     0.80253\n"
     ]
    }
   ],
   "source": [
    "from sklearn.ensemble import RandomForestClassifier\n",
    "params={'n_estimators':[500,1000]}\n",
    "clf_rf, Xtrain_rf, ytrain_rf, Xtest_rf, ytest_rf  = do_classify(RandomForestClassifier(), \n",
    "                                                           params, \n",
    "                                                           top_ten_prediction, feature_cols, 'top_ten_hit',1)"
   ]
  },
  {
   "cell_type": "code",
   "execution_count": 37,
   "metadata": {
    "collapsed": false
   },
   "outputs": [
    {
     "name": "stdout",
     "output_type": "stream",
     "text": [
      "[[3539   18]\n",
      " [ 857   17]]\n",
      "             precision    recall  f1-score   support\n",
      "\n",
      "          0       0.81      0.99      0.89      3557\n",
      "          1       0.49      0.02      0.04       874\n",
      "\n",
      "avg / total       0.74      0.80      0.72      4431\n",
      "\n"
     ]
    }
   ],
   "source": [
    "test_prediction_rf=clf_rf.predict(Xtest_rf)\n",
    "print(confusion_matrix(ytest_rf,test_prediction_rf))\n",
    "print(classification_report(ytest_rf,test_prediction_rf))"
   ]
  },
  {
   "cell_type": "code",
   "execution_count": 33,
   "metadata": {
    "collapsed": false
   },
   "outputs": [
    {
     "data": {
      "text/plain": [
       "0.19346648612051456"
      ]
     },
     "execution_count": 33,
     "metadata": {},
     "output_type": "execute_result"
    }
   ],
   "source": [
    "ytrain_rf.mean()"
   ]
  },
  {
   "cell_type": "markdown",
   "metadata": {
    "collapsed": true
   },
   "source": [
    "** We finally obtain a model different that the trivial one for prediction although we do not see any improvement in the accuracy. **"
   ]
  },
  {
   "cell_type": "markdown",
   "metadata": {},
   "source": [
    "# Support Vector Classification"
   ]
  },
  {
   "cell_type": "code",
   "execution_count": 35,
   "metadata": {
    "collapsed": false
   },
   "outputs": [
    {
     "name": "stdout",
     "output_type": "stream",
     "text": [
      "BEST PARAMS {'C': 1, 'cache_size': 200, 'degree': 3, 'gamma': 'auto', 'kernel': 'rbf', 'max_iter': -1, 'tol': 0.001}\n",
      "Accuracy on training data: 0.99599\n",
      "Accuracy on test data:     0.80253\n"
     ]
    }
   ],
   "source": [
    "from sklearn.svm import SVC\n",
    "params ={'C':[1],\n",
    " 'cache_size':[200],\n",
    " 'degree':[3],\n",
    " 'gamma':['auto'], \n",
    " 'kernel':['rbf'],\n",
    " 'max_iter':[-1],\n",
    " 'tol':[0.001]}\n",
    "clf_svc, Xtrain_svc, ytrain_svc, Xtest_svc, ytest_svc  = do_classify(SVC(), \n",
    "                                                           params, \n",
    "                                                           top_ten_prediction, feature_cols, 'top_ten_hit',1)"
   ]
  },
  {
   "cell_type": "code",
   "execution_count": 36,
   "metadata": {
    "collapsed": false
   },
   "outputs": [
    {
     "name": "stdout",
     "output_type": "stream",
     "text": [
      "[[3542   15]\n",
      " [ 860   14]]\n",
      "             precision    recall  f1-score   support\n",
      "\n",
      "          0       0.80      1.00      0.89      3557\n",
      "          1       0.48      0.02      0.03       874\n",
      "\n",
      "avg / total       0.74      0.80      0.72      4431\n",
      "\n"
     ]
    }
   ],
   "source": [
    "test_prediction_svc=clf_svc.predict(Xtest_svc)\n",
    "print(confusion_matrix(ytest_svc,test_prediction_svc))\n",
    "print(classification_report(ytest_svc,test_prediction_svc))"
   ]
  },
  {
   "cell_type": "markdown",
   "metadata": {
    "collapsed": true
   },
   "source": [
    "** Support Vector classification also does not improve upon the trivial prediction. **"
   ]
  },
  {
   "cell_type": "code",
   "execution_count": null,
   "metadata": {
    "collapsed": true
   },
   "outputs": [],
   "source": []
  },
  {
   "cell_type": "code",
   "execution_count": null,
   "metadata": {
    "collapsed": false
   },
   "outputs": [],
   "source": []
  },
  {
   "cell_type": "markdown",
   "metadata": {
    "collapsed": true
   },
   "source": [
    "# KNN "
   ]
  },
  {
   "cell_type": "code",
   "execution_count": 38,
   "metadata": {
    "collapsed": false
   },
   "outputs": [
    {
     "name": "stdout",
     "output_type": "stream",
     "text": [
      "BEST PARAMS {}\n",
      "Accuracy on training data: 0.81979\n",
      "Accuracy on test data:     0.76484\n",
      "[[3334  223]\n",
      " [ 819   55]]\n",
      "             precision    recall  f1-score   support\n",
      "\n",
      "          0       0.80      0.94      0.86      3557\n",
      "          1       0.20      0.06      0.10       874\n",
      "\n",
      "avg / total       0.68      0.76      0.71      4431\n",
      "\n"
     ]
    }
   ],
   "source": [
    "from sklearn.neighbors import KNeighborsClassifier\n",
    "params ={}\n",
    "clf_knn, Xtrain_knn, ytrain_knn, Xtest_knn, ytest_knn  = do_classify(KNeighborsClassifier(), \n",
    "                                                           params, \n",
    "                                                           top_ten_prediction, feature_cols, 'top_ten_hit',1)\n",
    "test_prediction_knn=clf_knn.predict(Xtest_knn)\n",
    "print(confusion_matrix(ytest_knn,test_prediction_knn))\n",
    "print(classification_report(ytest_knn,test_prediction_knn))"
   ]
  },
  {
   "cell_type": "markdown",
   "metadata": {
    "collapsed": true
   },
   "source": [
    "** Here K-Nearest Neighbors gives a less accurate model than the trivial one. **"
   ]
  },
  {
   "cell_type": "code",
   "execution_count": null,
   "metadata": {
    "collapsed": false
   },
   "outputs": [],
   "source": []
  },
  {
   "cell_type": "code",
   "execution_count": null,
   "metadata": {
    "collapsed": true
   },
   "outputs": [],
   "source": []
  },
  {
   "cell_type": "code",
   "execution_count": null,
   "metadata": {
    "collapsed": true
   },
   "outputs": [],
   "source": []
  },
  {
   "cell_type": "markdown",
   "metadata": {
    "collapsed": true
   },
   "source": [
    "# Neural Network"
   ]
  },
  {
   "cell_type": "code",
   "execution_count": 39,
   "metadata": {
    "collapsed": false
   },
   "outputs": [],
   "source": [
    "from sklearn.preprocessing import StandardScaler\n",
    "X=top_ten_prediction[feature_cols].values\n",
    "y=top_ten_prediction['top_ten_hit'].values\n",
    "Xtrain_nn, Xtest_nn, ytrain_nn, ytest_nn  = train_test_split(X, y, train_size=0.8,random_state=6)                                                          \n",
    "scaler = StandardScaler()\n",
    "# Fit only to the training data\n",
    "scaler.fit(Xtrain_nn)\n",
    "X_train_nn = scaler.transform(Xtrain_nn)\n",
    "X_test_nn = scaler.transform(Xtest_nn)"
   ]
  },
  {
   "cell_type": "markdown",
   "metadata": {},
   "source": [
    "Next we create an instance of the model, there are a lot of parameters you can choose to define and customize here, we will only define the hidden_layer_sizes. For this parameter you pass in a tuple consisting of the number of neurons you want at each layer, where the nth entry in the tuple represents the number of neurons in the nth layer of the MLP model. There are many ways to choose these numbers, but for simplicity we will choose 3 layers with the same number of neurons as there are features in our data set"
   ]
  },
  {
   "cell_type": "code",
   "execution_count": 42,
   "metadata": {
    "collapsed": false
   },
   "outputs": [
    {
     "name": "stdout",
     "output_type": "stream",
     "text": [
      "Accuracy on training data: 0.80563\n",
      "Accuracy on test data:     0.80952\n",
      "[[3581   13]\n",
      " [ 831    6]]\n",
      "             precision    recall  f1-score   support\n",
      "\n",
      "          0       0.81      1.00      0.89      3594\n",
      "          1       0.32      0.01      0.01       837\n",
      "\n",
      "avg / total       0.72      0.81      0.73      4431\n",
      "\n"
     ]
    }
   ],
   "source": [
    "from sklearn.neural_network import MLPClassifier\n",
    "mlp = MLPClassifier(hidden_layer_sizes=(16,16,16))\n",
    "mlp.fit(X_train_nn,ytrain_nn)\n",
    "training_accuracy = mlp.score(X_train_nn, ytrain_nn)\n",
    "test_accuracy = mlp.score(X_test_nn, ytest_nn)\n",
    "print(\"Accuracy on training data: {:0.5f}\".format(training_accuracy))\n",
    "print(\"Accuracy on test data:     {:0.5f}\".format(test_accuracy))\n",
    "predictions = mlp.predict(X_test_nn)\n",
    "print(confusion_matrix(ytest_nn,predictions))\n",
    "print(classification_report(ytest_nn,predictions))"
   ]
  },
  {
   "cell_type": "code",
   "execution_count": 43,
   "metadata": {
    "collapsed": false
   },
   "outputs": [
    {
     "data": {
      "text/plain": [
       "0.19555405100428797"
      ]
     },
     "execution_count": 43,
     "metadata": {},
     "output_type": "execute_result"
    }
   ],
   "source": [
    "ytrain_nn.mean()"
   ]
  },
  {
   "cell_type": "markdown",
   "metadata": {
    "collapsed": false
   },
   "source": [
    "Here we obtain a very slight improve on the trivial model. "
   ]
  },
  {
   "cell_type": "code",
   "execution_count": null,
   "metadata": {
    "collapsed": true
   },
   "outputs": [],
   "source": []
  },
  {
   "cell_type": "markdown",
   "metadata": {
    "collapsed": true
   },
   "source": [
    "# GBM Tree"
   ]
  },
  {
   "cell_type": "code",
   "execution_count": 44,
   "metadata": {
    "collapsed": true
   },
   "outputs": [],
   "source": [
    "#Import libraries:\n",
    "from sklearn.ensemble import GradientBoostingClassifier  #GBM algorithm\n",
    "from matplotlib.pylab import rcParams\n",
    "rcParams['figure.figsize'] = 12, 4\n",
    "\n",
    "X = top_ten_no_na_dum[linear_feature_cols]\n",
    "y = top_ten_no_na_dum['top_ten_hit']"
   ]
  },
  {
   "cell_type": "markdown",
   "metadata": {},
   "source": [
    "Keeping all this in mind, we can take the following approach:\n",
    "\n",
    "    Choose a relatively high learning rate. Generally the default value of 0.1 works but somewhere between 0.05 to 0.2 should work for different problems\n",
    "    Determine the optimum number of trees for this learning rate. This should range around 40-70. Remember to choose a value on which your system can work fairly fast. This is because it will be used for testing various scenarios and determining the tree parameters.\n",
    "    Tune tree-specific parameters for decided learning rate and number of trees. Note that we can choose different parameters to define a tree and I’ll take up an example here.\n",
    "    Lower the learning rate and increase the estimators proportionally to get more robust models.\n",
    "\n",
    " \n",
    "Fix learning rate and number of estimators for tuning tree-based parameters\n",
    "\n",
    "In order to decide on boosting parameters, we need to set some initial values of other parameters. Lets take the following values:\n",
    "\n",
    "    min_samples_split = 500 : This should be ~0.5-1% of total values. Since this is imbalanced class problem, we’ll take a small value from the range.\n",
    "    min_samples_leaf = 50 : Can be selected based on intuition. This is just used for preventing overfitting and again a small value because of imbalanced classes.\n",
    "    max_depth = 8 : Should be chosen (5-8) based on the number of observations and predictors. This has 87K rows and 49 columns so lets take 8 here.\n",
    "    max_features = ‘sqrt’ : Its a general thumb-rule to start with square root.\n",
    "    subsample = 0.8 : This is a commonly used used start value\n",
    "\n",
    "Please note that all the above are just initial estimates and will be tuned later. Lets take the default learning rate of 0.1 here and check the optimum number of trees for that. For this purpose, we can do a grid search and test out values from 20 to 80 in steps of 10."
   ]
  },
  {
   "cell_type": "code",
   "execution_count": 49,
   "metadata": {
    "collapsed": false
   },
   "outputs": [],
   "source": [
    "from sklearn.model_selection import cross_val_score\n",
    "def modelfit(alg, dtrain, predictors, performCV=True, printFeatureImportance=True, cv_folds=5):\n",
    "    #Fit the algorithm on the data\n",
    "    alg.fit(dtrain[predictors], dtrain['top_ten_hit'])\n",
    "        \n",
    "    #Predict training set:\n",
    "    dtrain_predictions = alg.predict(dtrain[predictors])\n",
    "    dtrain_predprob = alg.predict_proba(dtrain[predictors])[:,1]\n",
    "    \n",
    "    #Perform cross-validation:\n",
    "    if performCV:\n",
    "        cv_score = cross_val_score(alg, dtrain[predictors], dtrain['top_ten_hit'], cv=cv_folds, scoring='roc_auc')\n",
    "    \n",
    "    #Print model report:\n",
    "    print (\"\\nModel Report\")\n",
    "    print (\"Accuracy : %.4g\" % accuracy_score(dtrain['top_ten_hit'].values, dtrain_predictions))\n",
    "    print (\"AUC Score (Train): %f\" % roc_auc_score(dtrain['top_ten_hit'], dtrain_predprob))\n",
    "    \n",
    "    if performCV:\n",
    "        print(\"CV Score : Mean - %.7g | Std - %.7g | Min - %.7g | Max - %.7g\" % (np.mean(cv_score),np.std(cv_score),np.min(cv_score),np.max(cv_score)))\n",
    "        \n",
    "    #Print Feature Importance:\n",
    "    if printFeatureImportance:\n",
    "        feat_imp = pd.Series(alg.feature_importances_, predictors).sort_values(ascending=False)\n",
    "        feat_imp.plot(kind='bar', title='Feature Importances')\n",
    "        plt.ylabel('Feature Importance Score')"
   ]
  },
  {
   "cell_type": "code",
   "execution_count": 52,
   "metadata": {
    "collapsed": false
   },
   "outputs": [
    {
     "name": "stdout",
     "output_type": "stream",
     "text": [
      "\n",
      "Model Report\n",
      "Accuracy : 0.8065\n",
      "AUC Score (Train): 0.695030\n",
      "CV Score : Mean - 0.6192844 | Std - 0.01253479 | Min - 0.60371 | Max - 0.6345057\n"
     ]
    }
   ],
   "source": [
    "#Choose all predictors except target & IDcols\n",
    "predictors = linear_feature_cols\n",
    "gbm0 = GradientBoostingClassifier(random_state=10)\n",
    "modelfit(gbm0, top_ten_no_na_dum, predictors)"
   ]
  },
  {
   "cell_type": "code",
   "execution_count": 53,
   "metadata": {
    "collapsed": false
   },
   "outputs": [
    {
     "data": {
      "text/plain": [
       "GridSearchCV(cv=5, error_score='raise',\n",
       "       estimator=GradientBoostingClassifier(criterion='friedman_mse', init=None,\n",
       "              learning_rate=0.1, loss='deviance', max_depth=8,\n",
       "              max_features='sqrt', max_leaf_nodes=None,\n",
       "              min_impurity_split=1e-07, min_samples_leaf=50,\n",
       "              min_samples_split=500, min_weight_fraction_leaf=0.0,\n",
       "              n_estimators=100, presort='auto', random_state=10,\n",
       "              subsample=0.8, verbose=0, warm_start=False),\n",
       "       fit_params={}, iid=False, n_jobs=4,\n",
       "       param_grid={'n_estimators': [20, 81, 10]}, pre_dispatch='2*n_jobs',\n",
       "       refit=True, scoring='roc_auc', verbose=0)"
      ]
     },
     "execution_count": 53,
     "metadata": {},
     "output_type": "execute_result"
    }
   ],
   "source": [
    "#Choose all predictors except target & IDcols\n",
    "param_test1 = {'n_estimators':[20,81,10]}\n",
    "gsearch1 = GridSearchCV(estimator = GradientBoostingClassifier(learning_rate=0.1, min_samples_split=500,min_samples_leaf=50,max_depth=8,max_features='sqrt',subsample=0.8,random_state=10), \n",
    "param_grid = param_test1, scoring='roc_auc',n_jobs=4,iid=False, cv=5)\n",
    "gsearch1.fit(X,y)"
   ]
  },
  {
   "cell_type": "code",
   "execution_count": 54,
   "metadata": {
    "collapsed": false
   },
   "outputs": [
    {
     "data": {
      "text/plain": [
       "([mean: 0.61830, std: 0.00668, params: {'n_estimators': 20},\n",
       "  mean: 0.61881, std: 0.00667, params: {'n_estimators': 81},\n",
       "  mean: 0.61000, std: 0.00556, params: {'n_estimators': 10}],\n",
       " {'n_estimators': 81},\n",
       " 0.6188145700169599)"
      ]
     },
     "execution_count": 54,
     "metadata": {},
     "output_type": "execute_result"
    }
   ],
   "source": [
    "gsearch1.grid_scores_, gsearch1.best_params_, gsearch1.best_score_"
   ]
  },
  {
   "cell_type": "markdown",
   "metadata": {
    "collapsed": true
   },
   "source": [
    "** This model also does not improve much on the trivial prediction. **"
   ]
  },
  {
   "cell_type": "code",
   "execution_count": null,
   "metadata": {
    "collapsed": true
   },
   "outputs": [],
   "source": []
  },
  {
   "cell_type": "code",
   "execution_count": null,
   "metadata": {
    "collapsed": false
   },
   "outputs": [],
   "source": []
  },
  {
   "cell_type": "code",
   "execution_count": null,
   "metadata": {
    "collapsed": false
   },
   "outputs": [],
   "source": []
  },
  {
   "cell_type": "code",
   "execution_count": null,
   "metadata": {
    "collapsed": true
   },
   "outputs": [],
   "source": []
  },
  {
   "cell_type": "code",
   "execution_count": null,
   "metadata": {
    "collapsed": true
   },
   "outputs": [],
   "source": []
  },
  {
   "cell_type": "code",
   "execution_count": null,
   "metadata": {
    "collapsed": true
   },
   "outputs": [],
   "source": []
  },
  {
   "cell_type": "markdown",
   "metadata": {},
   "source": [
    "# MARS: Multiadaptive Regressive Splines"
   ]
  },
  {
   "cell_type": "code",
   "execution_count": null,
   "metadata": {
    "collapsed": true
   },
   "outputs": [],
   "source": []
  },
  {
   "cell_type": "markdown",
   "metadata": {
    "collapsed": true
   },
   "source": [
    "## Outlier Detection"
   ]
  },
  {
   "cell_type": "code",
   "execution_count": null,
   "metadata": {
    "collapsed": true
   },
   "outputs": [],
   "source": []
  },
  {
   "cell_type": "code",
   "execution_count": null,
   "metadata": {
    "collapsed": true
   },
   "outputs": [],
   "source": []
  },
  {
   "cell_type": "code",
   "execution_count": null,
   "metadata": {
    "collapsed": true
   },
   "outputs": [],
   "source": []
  },
  {
   "cell_type": "markdown",
   "metadata": {
    "collapsed": true
   },
   "source": [
    "## VIF Variance Inflation factor"
   ]
  },
  {
   "cell_type": "code",
   "execution_count": null,
   "metadata": {
    "collapsed": true
   },
   "outputs": [],
   "source": []
  },
  {
   "cell_type": "code",
   "execution_count": null,
   "metadata": {
    "collapsed": true
   },
   "outputs": [],
   "source": []
  },
  {
   "cell_type": "code",
   "execution_count": null,
   "metadata": {
    "collapsed": true
   },
   "outputs": [],
   "source": []
  },
  {
   "cell_type": "code",
   "execution_count": null,
   "metadata": {
    "collapsed": true
   },
   "outputs": [],
   "source": []
  },
  {
   "cell_type": "code",
   "execution_count": null,
   "metadata": {
    "collapsed": true
   },
   "outputs": [],
   "source": []
  },
  {
   "cell_type": "code",
   "execution_count": null,
   "metadata": {
    "collapsed": true
   },
   "outputs": [],
   "source": []
  },
  {
   "cell_type": "code",
   "execution_count": null,
   "metadata": {
    "collapsed": true
   },
   "outputs": [],
   "source": []
  },
  {
   "cell_type": "code",
   "execution_count": null,
   "metadata": {
    "collapsed": true
   },
   "outputs": [],
   "source": []
  }
 ],
 "metadata": {
  "kernelspec": {
   "display_name": "Python 3",
   "language": "python",
   "name": "python3"
  },
  "language_info": {
   "codemirror_mode": {
    "name": "ipython",
    "version": 3
   },
   "file_extension": ".py",
   "mimetype": "text/x-python",
   "name": "python",
   "nbconvert_exporter": "python",
   "pygments_lexer": "ipython3",
   "version": "3.6.0"
  }
 },
 "nbformat": 4,
 "nbformat_minor": 2
}
