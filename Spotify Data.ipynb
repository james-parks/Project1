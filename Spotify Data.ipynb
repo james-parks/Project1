{
 "cells": [
  {
   "cell_type": "code",
   "execution_count": 1,
   "metadata": {
    "collapsed": true
   },
   "outputs": [],
   "source": [
    "#Usual Imports\n",
    "import os\n",
    "import sys\n",
    "import time\n",
    "import datetime\n",
    "import re\n",
    "import numpy as np\n",
    "import pandas as pd\n",
    "import matplotlib.pyplot as plt\n",
    "import seaborn as sns\n",
    "# Imports for web scraping Spotify data\n",
    "from bs4 import BeautifulSoup\n",
    "import urllib\n",
    "import requests\n",
    "from __future__ import print_function    # (at top of module)\n",
    "from spotipy.oauth2 import SpotifyClientCredentials\n",
    "import spotipy\n",
    "from time import sleep\n",
    "from collections import Counter"
   ]
  },
  {
   "cell_type": "code",
   "execution_count": 2,
   "metadata": {
    "collapsed": true
   },
   "outputs": [],
   "source": [
    "# Initialize Spotipy API credentials\n",
    "client_credentials_manager = SpotifyClientCredentials()\n",
    "sp = spotipy.Spotify(client_credentials_manager=client_credentials_manager)\n",
    "sp.trace=False"
   ]
  },
  {
   "cell_type": "code",
   "execution_count": 31,
   "metadata": {
    "collapsed": false
   },
   "outputs": [],
   "source": [
    "# Read in billboard top 100 data from 1955-2015\n",
    "billboard_data=pd.read_csv(\"all_billboard_data.txt\", sep=\"|\", encoding='latin1')\n",
    "#Arrange Billboard data by tracks for Spotify web scraping \n",
    "billboard_tracks = billboard_data.groupby([\"title\",\"artist\"]).size().reset_index()"
   ]
  },
  {
   "cell_type": "code",
   "execution_count": 4,
   "metadata": {
    "collapsed": false
   },
   "outputs": [
    {
     "data": {
      "text/plain": [
       "34605"
      ]
     },
     "execution_count": 4,
     "metadata": {},
     "output_type": "execute_result"
    }
   ],
   "source": [
    "# We have 34605 unique songs in our dataset\n",
    "len(billboard_tracks)"
   ]
  },
  {
   "cell_type": "code",
   "execution_count": 8,
   "metadata": {
    "collapsed": true
   },
   "outputs": [],
   "source": [
    "# Initialize an empty data frame for the Spotify data\n",
    "track_meta_columns=[\"danceability\",\"energy\",\"key\",\"loudness\",\"mode\",\"speechiness\",\"acousticness\",\"instrumentalness\",\"liveness\",\"valence\",\"tempo\",\"type\",\"id\",\"uri\",\"track_href\",\"analysis_url\",\"duration_ms\",\"time_signature\"]\n",
    "artist_data = pd.DataFrame(columns=[\"artist\",\"track\"])\n",
    "track_data = pd.DataFrame(columns=track_meta_columns)\n",
    "spotify_data=pd.concat([artist_data, track_data], axis=1)\n",
    "artist_index=0\n",
    "track_index=0"
   ]
  },
  {
   "cell_type": "code",
   "execution_count": 6,
   "metadata": {
    "collapsed": false
   },
   "outputs": [
    {
     "name": "stdout",
     "output_type": "stream",
     "text": [
      "retrying ...0secs\n",
      "retrying ...0secs\n",
      "retrying ...0secs\n",
      "retrying ...0secs\n",
      "retrying ...0secs\n",
      "retrying ...0secs\n",
      "retrying ...0secs\n",
      "retrying ...0secs\n",
      "features retrieved in 113.41 seconds\n"
     ]
    }
   ],
   "source": [
    "# Obtaining Data Step\n",
    "spotify_data=pd.concat([artist_data, track_data], axis=1)\n",
    "lower_limit =0\n",
    "upper_limit =150\n",
    "spot_table = 'spotify' +str(lower_limit)+\"-\"+ str(upper_limit)+'.csv'\n",
    "start = time.time()\n",
    "# Cycle through the rows in the billboard_tracks dataframe.\n",
    "# Search for the artist and title for each one through Spotify's API\n",
    "# Add the metadata for the track to the dataset\n",
    "for row in range(lower_limit,upper_limit):\n",
    "    artist_data = pd.DataFrame(columns=[\"artist\",\"track\"])\n",
    "    track_data = pd.DataFrame(columns=track_meta_columns)\n",
    "    artist_name = billboard_tracks.iloc[row,1]\n",
    "    track_name = billboard_tracks.iloc[row,0]\n",
    "    lookup = artist_name + \" \" + track_name\n",
    "    try:\n",
    "        results = sp.search(q=lookup, limit=3)\n",
    "    except urllib.request.HTTPError as eone:\n",
    "        pass\n",
    "    tids = []\n",
    "    artist_index=0\n",
    "    for i, t in enumerate(results['tracks']['items']):\n",
    "        to_add =pd.DataFrame( {\"artist\":t['artists'][0]['name'], \"track\":t['name']},index=[artist_index])\n",
    "        artist_data=pd.concat([artist_data,to_add])\n",
    "        tids.append(t['uri'])\n",
    "        artist_index+=1\n",
    "    try:    \n",
    "        features = sp.audio_features(tids)\n",
    "    except urllib.request.HTTPError as etwo:\n",
    "        pass    \n",
    "    track_index=0\n",
    "    for feature in features:\n",
    "        tracks = pd.DataFrame(feature, index=[track_index])\n",
    "        track_data=pd.concat([track_data,tracks])\n",
    "        track_index+=1\n",
    "    all_data = pd.concat([artist_data, track_data], axis=1)\n",
    "    spotify_data=pd.concat([spotify_data,all_data])\n",
    "# Spotify has rate limiting for their API so we must delay time between requests\n",
    "    if row%50==0 and row!=lower_limit and row!=upper_limit:\n",
    "        sleep(25)\n",
    "delta = time.time() - start\n",
    "print (\"features retrieved in %.2f seconds\" % (delta,))\n",
    "# Output the data to a csv file\n",
    "# Note that due to the length of time required we will create several csv files\n",
    "spotify_data.to_csv(spot_table)"
   ]
  },
  {
   "cell_type": "code",
   "execution_count": null,
   "metadata": {
    "collapsed": true
   },
   "outputs": [],
   "source": [
    "# Cleaning and Wrangling step\n",
    "# Begin to join all the csv files together, some may require adding in an additional empty row.\n",
    "spot_one = pd.read_csv('spotify0-50.csv',  encoding='latin1')\n",
    "spot_two = pd.read_csv('spotify50-100.csv',  encoding='latin1')\n",
    "spotify_all = pd.concat([spot_one,spot_two])\n",
    "spot_new = pd.read_csv('spotify100-200.csv',  encoding='latin1')\n",
    "spotify_all = pd.concat([spotify_all,spot_new])\n",
    "spotify_empty = spot_small[87:88]\n",
    "spotify_all = pd.concat([spotify_all,spotify_empty])\n",
    "# spotify_all.to_csv(\"spotify_big\")"
   ]
  },
  {
   "cell_type": "code",
   "execution_count": 28,
   "metadata": {
    "collapsed": false
   },
   "outputs": [
    {
     "data": {
      "text/plain": [
       "34607"
      ]
     },
     "execution_count": 28,
     "metadata": {},
     "output_type": "execute_result"
    }
   ],
   "source": [
    "# Read in Large Spotify dataset\n",
    "big_spotify = pd.read_csv('spotify_big.csv',  encoding='latin1')\n",
    "# We will match the billboard_track data and the spotify data one-to-one\n",
    "# We only require one result per track\n",
    "spotify_merge = big_spotify[big_spotify[\"Unnamed: 0.1\"]==0]\n",
    "# Subset interesting columns\n",
    "spotify_merge =spotify_merge[[\"acousticness\",\"artist\",\"danceability\",\"duration_ms\",\"energy\",\"key\",\"loudness\",\"mode\",\"track\",\"instrumentalness\",\"liveness\",\"valence\",\"tempo\",\"time_signature\"]]\n",
    "# Rename artist column\n",
    "spotify_merge=spotify_merge.rename(columns = {'artist':'spotify_artist'})\n",
    "spotify_merge=spotify_merge.reset_index()\n",
    "len(spotify_merge)"
   ]
  },
  {
   "cell_type": "code",
   "execution_count": 33,
   "metadata": {
    "collapsed": false
   },
   "outputs": [],
   "source": [
    "# Drop two extra rows\n",
    "spotify_merge=spotify_merge.drop(spotify_merge.index[[101,201]]).reset_index()\n",
    "# Merge data with the billboard_data\n",
    "merged_data=pd.concat([billboard_tracks, spotify_merge], axis=1)\n",
    "# Join data to billboard_list\n",
    "all_data=pd.merge(billboard_data,merged_data,how='left', on=['artist', 'title'])"
   ]
  },
  {
   "cell_type": "code",
   "execution_count": 37,
   "metadata": {
    "collapsed": false
   },
   "outputs": [],
   "source": [
    "spotify_merge.to_csv(\"spotify_scraped.csv\")"
   ]
  },
  {
   "cell_type": "code",
   "execution_count": 43,
   "metadata": {
    "collapsed": false
   },
   "outputs": [
    {
     "data": {
      "text/plain": [
       "0.7400086692674469"
      ]
     },
     "execution_count": 43,
     "metadata": {},
     "output_type": "execute_result"
    }
   ],
   "source": [
    "# Initial succes rate\n",
    "len(spotify_merge[spotify_merge.spotify_artist.notnull()])/len(spotify_merge)"
   ]
  },
  {
   "cell_type": "code",
   "execution_count": 14,
   "metadata": {
    "collapsed": false
   },
   "outputs": [
    {
     "name": "stderr",
     "output_type": "stream",
     "text": [
      "C:\\Users\\MSI_USER\\Anaconda3\\lib\\site-packages\\IPython\\core\\interactiveshell.py:2717: DtypeWarning: Columns (18,19,20,21,22,23,24,25,26,27,28,29) have mixed types. Specify dtype option on import or set low_memory=False.\n",
      "  interactivity=interactivity, compiler=compiler, result=result)\n"
     ]
    }
   ],
   "source": [
    "#Read in datasets from Decibels & Decimals\n",
    "billboard_data = pd.read_csv(\"all_charts.csv\")\n",
    "spotify_data = pd.read_csv(\"audio_features.csv\")"
   ]
  },
  {
   "cell_type": "code",
   "execution_count": 16,
   "metadata": {
    "collapsed": false
   },
   "outputs": [
    {
     "name": "stdout",
     "output_type": "stream",
     "text": [
      "<class 'pandas.core.frame.DataFrame'>\n",
      "RangeIndex: 304643 entries, 0 to 304642\n",
      "Data columns (total 30 columns):\n",
      "Unnamed: 0     304643 non-null int64\n",
      "chartDate      304643 non-null object\n",
      "title          304643 non-null object\n",
      "artist         304643 non-null object\n",
      "peakPos        304643 non-null int64\n",
      "lastPos        304643 non-null int64\n",
      "weeks          304643 non-null int64\n",
      "rank           304643 non-null int64\n",
      "change         304643 non-null object\n",
      "spotifyID      258820 non-null object\n",
      "spotifyLink    258820 non-null object\n",
      "videoLink      109357 non-null object\n",
      "artist_list    258820 non-null object\n",
      "track_name     258668 non-null object\n",
      "art_0          258668 non-null object\n",
      "art_1          27213 non-null object\n",
      "art_2          5337 non-null object\n",
      "art_3          1472 non-null object\n",
      "art_4          353 non-null object\n",
      "art_5          93 non-null object\n",
      "art_6          34 non-null object\n",
      "art_7          14 non-null object\n",
      "art_8          11 non-null object\n",
      "art_9          11 non-null object\n",
      "art_10         11 non-null object\n",
      "art_11         11 non-null object\n",
      "art_12         11 non-null object\n",
      "art_13         4 non-null object\n",
      "art_14         4 non-null object\n",
      "art_15         4 non-null object\n",
      "dtypes: int64(5), object(25)\n",
      "memory usage: 69.7+ MB\n",
      "<class 'pandas.core.frame.DataFrame'>\n",
      "RangeIndex: 21611 entries, 0 to 21610\n",
      "Data columns (total 19 columns):\n",
      "Unnamed: 0          21611 non-null int64\n",
      "acousticness        21611 non-null float64\n",
      "analysis_url        21611 non-null object\n",
      "danceability        21610 non-null float64\n",
      "duration_ms         21611 non-null float64\n",
      "energy              21611 non-null float64\n",
      "id                  21611 non-null object\n",
      "instrumentalness    21611 non-null float64\n",
      "key                 21611 non-null float64\n",
      "liveness            21611 non-null float64\n",
      "loudness            21611 non-null float64\n",
      "mode                21611 non-null float64\n",
      "speechiness         21610 non-null float64\n",
      "tempo               21611 non-null float64\n",
      "time_signature      21609 non-null float64\n",
      "track_href          21611 non-null object\n",
      "type                21611 non-null object\n",
      "uri                 21611 non-null object\n",
      "valence             21610 non-null float64\n",
      "dtypes: float64(13), int64(1), object(5)\n",
      "memory usage: 3.1+ MB\n"
     ]
    }
   ],
   "source": [
    "billboard_data.info()\n",
    "spotify_data.info()"
   ]
  },
  {
   "cell_type": "code",
   "execution_count": 20,
   "metadata": {
    "collapsed": false
   },
   "outputs": [],
   "source": [
    "# For this project we only need the chartDate, title, artist, peakPos, lastPos, weeks, rank, change and \n",
    "# spotifyLink columns from billboard_data and the acousticness, danceability, duration_ms, energy, id,\n",
    "# instrumentalness, key, liveness, loudness, mode, speechiness, tempo, time_signature and valence columns\n",
    "# from the spotify_data\n",
    "billboard_sub = billboard_data[[\"chartDate\",\"title\",\"artist\",\"peakPos\",\"lastPos\",\"weeks\",\"rank\",\"change\",\"spotifyID\"]]\n",
    "spotify_sub = spotify_data[[\"acousticness\", \"danceability\", \"duration_ms\", \"energy\", \"id\",\"instrumentalness\", \"key\", \"liveness\", \"loudness\", \"mode\", \"speechiness\", \"tempo\", \"time_signature\",\"valence\"]]"
   ]
  },
  {
   "cell_type": "code",
   "execution_count": 25,
   "metadata": {
    "collapsed": false
   },
   "outputs": [],
   "source": [
    "# We merged the datasets from Decibels & Decimals together and create a new csv file\n",
    "merged_data=pd.merge(billboard_sub,spotify_sub, how=\"outer\",left_on=\"spotifyID\",right_on=\"id\")\n",
    "merged_data.to_csv(\"all_spotify_data.csv\")"
   ]
  },
  {
   "cell_type": "code",
   "execution_count": 2,
   "metadata": {
    "collapsed": false
   },
   "outputs": [],
   "source": [
    "# Read in the merged datasets from Decibels & Decimals and create a subset of individual tracks \n",
    "new_big_data=pd.read_csv(\"all_spotify_data.csv\",encoding='latin1')"
   ]
  },
  {
   "cell_type": "code",
   "execution_count": 46,
   "metadata": {
    "collapsed": false
   },
   "outputs": [
    {
     "data": {
      "text/plain": [
       "27588"
      ]
     },
     "execution_count": 46,
     "metadata": {},
     "output_type": "execute_result"
    }
   ],
   "source": [
    "search_data=new_big_data.groupby([\"title\",\"artist\"]).size().reset_index()\n",
    "len(search_data)"
   ]
  },
  {
   "cell_type": "code",
   "execution_count": 40,
   "metadata": {
    "collapsed": false
   },
   "outputs": [
    {
     "data": {
      "text/plain": [
       "78.33478323908946"
      ]
     },
     "execution_count": 40,
     "metadata": {},
     "output_type": "execute_result"
    }
   ],
   "source": [
    "# We have Spotify Data for 78.33% of the tracks in the Billboard Top 100.\n",
    "len(spotify_data)/len(search_data)*100"
   ]
  },
  {
   "cell_type": "code",
   "execution_count": 34,
   "metadata": {
    "collapsed": false
   },
   "outputs": [
    {
     "name": "stdout",
     "output_type": "stream",
     "text": [
      "features retrieved in 0.00 seconds\n"
     ]
    }
   ],
   "source": [
    "lyrics_data = pd.DataFrame()\n",
    "lower_limit =0\n",
    "upper_limit =27588\n",
    "lyrics_table = 'lyrics-' +str(lower_limit)+\"-\"+ str(upper_limit)+'.csv'\n",
    "start = time.time()\n",
    "# We use the same procedure as before to obtain the lyrics data for the songs.\n",
    "# We cycle through the rows in the search_data dataframe.\n",
    "# We search for the lyric data for each track and add the lyrics to the lyrics_data dataframe.\n",
    "for row in range(lower_limit,upper_limit):\n",
    "    artist_raw = search_data.iloc[row,1]\n",
    "    artist_noand=artist_raw.replace(\" &\",\"\").replace(\". \",\"-\").replace(\"Ã©\",\"e\").replace(\"$\", \"s\")\n",
    "    artist_array = re.split(r'.Featuring+', artist_noand) # Consider only the first listed artist\n",
    "    track_raw=search_data.iloc[row,0]\n",
    "    # Replace extended latin characters\n",
    "    track_name=track_raw.replace(\"Ã\\x83Â¶\",\"oe\").replace(\"Ã©\",\"e\").replace(\"ÃÂ©\",\"e\").replace(\"ÃÂ³\",'o')\n",
    "    track_name=track_name.replace(\"ÃÂ¡\",\"a\").replace(\"ÃÂ±\",\"n\").replace(\"Ã\\x83â\\x80\\x9c\",\"o\").replace(\"ÃÂ¿DÃÂ²\",\"do\").replace(\"ÃÂ\",\"a\")\n",
    "    track_name=re.sub(r'\\&\\s', '', track_name).replace(\"$\", \"s\").replace(\"#\",\"\") # Replace certain characters\n",
    "    track_name=re.sub(r'S\\*\\*t', 'Shit',track_name) # Replace profanity\n",
    "    track_name=re.sub(r'\\(|\\)|\\'|\\|\\.|\\\"|\\,', '',track_name).lower() # Remove special characters\n",
    "    # We now try to scrape five different lyrics sites using predictable urls based on the artist and track names.\n",
    "    artist_first_letter=artist_array[0][0]\n",
    "    # The formatting for lyricsmode.com \n",
    "    artist_mode = re.sub(r'\\s|\\.|-', '_',artist_array[0]).replace(\",\",\"\").lower()\n",
    "    track_mode = re.sub(r'\\s', '_',track_name)\n",
    "    # The track formatting for songlyrics.com and metrolyrics.com is the same.\n",
    "    # The artist formatting is different if the band starts with \"The \".\n",
    "    artist_song = re.sub(r'\\s|\\.', '-',artist_array[0]).replace(\",\",\"\").lower()\n",
    "    track_songmetro = re.sub(r'\\s', '-',track_name)\n",
    "    track_az = re.sub(r'\\s', '',track_name)  # The track formatting for azlyrics.com\n",
    "    artist_mmatch = re.sub(r'.And', '',artist_array[0]) # The artist formatting for musixmatch.com\n",
    "    artist_mmatch = re.sub(r'\\s|\\.', '-',artist_mmatch).replace(\",\",\"\").lower()\n",
    "    # The urls for bands that start with \"The \" are formatted differently.\n",
    "    if artist_array[0].startswith(\"The \"):\n",
    "        the_array = re.split(r'The ',artist_array[0])\n",
    "        artist_az = re.sub(r'\\'|\\s|\\.|-|\\,', '',the_array[1]).lower()\n",
    "        artist_metro = re.sub(r'\\.', '-',the_array[1]).replace(\",\",\"\").replace(\" \",\"-\").lower()\n",
    "    else:\n",
    "        artist_az = re.sub(r'\\'|\\s|\\.|-|\\,', '',artist_array[0]).lower()\n",
    "        artist_metro=artist_song\n",
    "    # Metro lyrics is inconsistent on whether it keeps \"The \" in the url so we have two possibilities.    \n",
    "    url_metro_one = 'http://www.metrolyrics.com/'+track_songmetro+'-lyrics-'+artist_metro+'.html'\n",
    "    url_metro_two = 'http://www.metrolyrics.com/'+track_songmetro+'-lyrics-'+artist_song+'.html'\n",
    "    url_songlyrics = 'http://www.songlyrics.com/'+artist_song+'/'+track_songmetro+'-lyrics/'\n",
    "    url_mode= 'http://www.lyricsmode.com/lyrics/'+artist_first_letter+'/'+artist_mode+'/'+track_mode+'.html'\n",
    "    url_music_match = 'https://www.musixmatch.com/lyrics/' + artist_mmatch + '/' + track_songmetro\n",
    "    url_azlyrics=\"http://www.azlyrics.com/lyrics/\"+artist_az+\"/\"+track_az+\".html\"\n",
    "    URLS=[url_metro_one,url_metro_two,url_songlyrics,url_mode, url_azlyrics, url_music_match]\n",
    "    lyriclocations = ['lyrics-body-text', 'lyrics-body-text','songLyricsDiv','lyrics_text',\"azlyrics\",'mmatch']\n",
    "    choice =\"\"\n",
    "    for u in range(0,len(URLS)):\n",
    "        #We now cycle through each possbile url until we get a match.\n",
    "        # We then scrape the lyric text from the website using beautiful soup.\n",
    "        lyrics_request = urllib.request.Request(URLS[u],headers={'User-Agent': 'Mozilla/5.0 (Windows NT 10.0; WOW64; rv:52.0) Gecko/20100101 Firefox/52.0'})\n",
    "        try:\n",
    "            lyrics_web = urllib.request.urlopen(lyrics_request)\n",
    "            lyrics_code = lyrics_web.read()\n",
    "            soup = BeautifulSoup(lyrics_code, 'html.parser')\n",
    "            if u==4:\n",
    "                lyrics_array = soup.find_all(\"div\", class_=\"\")\n",
    "            elif u == 5:\n",
    "                lyrics_array = soup.find_all(class_=\"mxm-lyrics__content\")\n",
    "            else:\n",
    "                lyrics_array = soup.find_all(id=lyriclocations[u])\n",
    "            lyrics_text=\"\"\n",
    "            for lyrics in lyrics_array:\n",
    "                lyrics_text += lyrics.get_text()\n",
    "            # Some websites exist with no lyrics where the text is \"\\r\\n \", \"\\r\\r\\n \", \"\\r\\r\\r\\n \", or \"\\r\\r\\r\\r\\n \" or \"\\n\".\n",
    "            if lyrics_text != \"\" and lyrics_text != \"\\r\\n \" and lyrics_text != \"\\n\" and lyrics_text != \"\\r\\r\\n \" and lyrics_text != \"\\r\\r\\r\\n \" and lyrics_text != \"\\r\\r\\r\\r\\n \":\n",
    "                choice=u\n",
    "                break\n",
    "        except urllib.request.HTTPError as e:\n",
    "            lyrics_text=\"\"\n",
    "            pass        \n",
    "    add_frame = {\"artist\":artist_raw, \"track\": track_raw, \"lyrics\":lyrics_text, \"source\":choice}\n",
    "    lyrics_data = lyrics_data.append(add_frame,ignore_index=True)\n",
    "    # In order to not overwhelm the websites we have a delay of 45 seconds every 50 requests.\n",
    "    if row%50==0 and row!=lower_limit and row!=upper_limit:\n",
    "        sleep(45)\n",
    "delta = time.time() - start\n",
    "print (\"features retrieved in %.2f seconds\" % (delta,))\n",
    "lyrics_data.to_csv(lyrics_table)"
   ]
  },
  {
   "cell_type": "code",
   "execution_count": 30,
   "metadata": {
    "collapsed": true
   },
   "outputs": [],
   "source": [
    "# Cleaning and Wrangling step\n",
    "# Begin to join all the csv files together, some may require adding in an additional empty row.\n",
    "lyrics_all=pd.DataFrame()\n",
    "lyrics_one = pd.read_csv('lyrics-0-100.csv',  encoding='latin1')\n",
    "lyrics_two = pd.read_csv('lyrics-100-1000.csv',  encoding='latin1')\n",
    "lyrics_all = pd.concat([lyrics_one,lyrics_two])\n",
    "lyrics_new = pd.read_csv('lyrics-1000-1096.csv',  encoding='latin1')\n",
    "lyrics_all = pd.concat([lyrics_all,lyrics_new])"
   ]
  },
  {
   "cell_type": "code",
   "execution_count": null,
   "metadata": {
    "collapsed": false
   },
   "outputs": [],
   "source": [
    "lyrics_new=pd.read_csv('lyrics-27587-27588.csv',encoding='latin1')\n",
    "lyrics_all = pd.concat([lyrics_all,lyrics_new])"
   ]
  },
  {
   "cell_type": "code",
   "execution_count": null,
   "metadata": {
    "collapsed": false
   },
   "outputs": [],
   "source": [
    "lyrics_merge=lyrics_all[[\"artist\",\"lyrics\",\"source\",\"track\"]].reset_index()\n",
    "lyrics_merge.to_csv('all_lyrics.csv')"
   ]
  },
  {
   "cell_type": "code",
   "execution_count": 8,
   "metadata": {
    "collapsed": false
   },
   "outputs": [],
   "source": [
    "billboard_lyrics = pd.read_csv(\"all_lyrics.csv\",encoding='latin1')"
   ]
  },
  {
   "cell_type": "code",
   "execution_count": 3,
   "metadata": {
    "collapsed": false
   },
   "outputs": [],
   "source": [
    "lyrics_sub=billboard_lyrics[[\"artist\",\"lyrics\",\"source\",\"track\"]]"
   ]
  },
  {
   "cell_type": "code",
   "execution_count": 5,
   "metadata": {
    "collapsed": false
   },
   "outputs": [
    {
     "data": {
      "text/plain": [
       "82.6047556908801"
      ]
     },
     "execution_count": 5,
     "metadata": {},
     "output_type": "execute_result"
    }
   ],
   "source": [
    "# We have Lyrics Data for 82.60% of the tracks in the Billboard Top 100.\n",
    "len(lyrics_sub[lyrics_sub.lyrics.notnull()])/len(lyrics_sub)*100"
   ]
  },
  {
   "cell_type": "code",
   "execution_count": 6,
   "metadata": {
    "collapsed": false
   },
   "outputs": [
    {
     "name": "stdout",
     "output_type": "stream",
     "text": [
      "<class 'pandas.core.frame.DataFrame'>\n",
      "RangeIndex: 27588 entries, 0 to 27587\n",
      "Data columns (total 4 columns):\n",
      "artist    27588 non-null object\n",
      "lyrics    22789 non-null object\n",
      "source    22789 non-null float64\n",
      "track     27588 non-null object\n",
      "dtypes: float64(1), object(3)\n",
      "memory usage: 862.2+ KB\n"
     ]
    }
   ],
   "source": [
    "lyrics_sub.info()"
   ]
  },
  {
   "cell_type": "code",
   "execution_count": 20,
   "metadata": {
    "collapsed": false
   },
   "outputs": [
    {
     "data": {
      "text/html": [
       "<div>\n",
       "<table border=\"1\" class=\"dataframe\">\n",
       "  <thead>\n",
       "    <tr style=\"text-align: right;\">\n",
       "      <th></th>\n",
       "      <th>lyrics count</th>\n",
       "      <th>source</th>\n",
       "    </tr>\n",
       "  </thead>\n",
       "  <tbody>\n",
       "    <tr>\n",
       "      <th>0</th>\n",
       "      <td>14527.0</td>\n",
       "      <td>metrolyrics.com</td>\n",
       "    </tr>\n",
       "    <tr>\n",
       "      <th>1</th>\n",
       "      <td>6594.0</td>\n",
       "      <td>songlyrics.com</td>\n",
       "    </tr>\n",
       "    <tr>\n",
       "      <th>2</th>\n",
       "      <td>1650.0</td>\n",
       "      <td>lyricsmode.com</td>\n",
       "    </tr>\n",
       "    <tr>\n",
       "      <th>3</th>\n",
       "      <td>6.0</td>\n",
       "      <td>azlyrics.com</td>\n",
       "    </tr>\n",
       "    <tr>\n",
       "      <th>4</th>\n",
       "      <td>12.0</td>\n",
       "      <td>musixmatch.com</td>\n",
       "    </tr>\n",
       "  </tbody>\n",
       "</table>\n",
       "</div>"
      ],
      "text/plain": [
       "   lyrics count           source\n",
       "0       14527.0  metrolyrics.com\n",
       "1        6594.0   songlyrics.com\n",
       "2        1650.0   lyricsmode.com\n",
       "3           6.0     azlyrics.com\n",
       "4          12.0   musixmatch.com"
      ]
     },
     "execution_count": 20,
     "metadata": {},
     "output_type": "execute_result"
    }
   ],
   "source": [
    "source_data=pd.DataFrame()\n",
    "lyrics_count = len(lyrics_sub[lyrics_sub.source ==0])+len(lyrics_sub[lyrics_sub.source==1])\n",
    "source_data = source_data.append({\"source\":\"metrolyrics.com\",\"lyrics count\":lyrics_count},ignore_index=True)\n",
    "lyrics_sources = [\"songlyrics.com\",\"lyricsmode.com\",\"azlyrics.com\",\"musixmatch.com\"] \n",
    "for u in range(0,len(lyrics_sources)):\n",
    "    lyrics_count = len(lyrics_sub[lyrics_sub.source ==u+2])\n",
    "    source_data = source_data.append({\"source\":lyrics_sources[u],\"lyrics count\":lyrics_count},ignore_index=True)\n",
    "source_data"
   ]
  },
  {
   "cell_type": "code",
   "execution_count": 5,
   "metadata": {
    "collapsed": false
   },
   "outputs": [
    {
     "name": "stdout",
     "output_type": "stream",
     "text": [
      "<class 'pandas.core.frame.DataFrame'>\n",
      "RangeIndex: 304643 entries, 0 to 304642\n",
      "Data columns (total 24 columns):\n",
      "Unnamed: 0          304643 non-null int64\n",
      "chartDate           304643 non-null object\n",
      "title               304643 non-null object\n",
      "artist              304643 non-null object\n",
      "peakPos             304643 non-null int64\n",
      "lastPos             304643 non-null int64\n",
      "weeks               304643 non-null int64\n",
      "rank                304643 non-null int64\n",
      "change              304643 non-null object\n",
      "spotifyID           258820 non-null object\n",
      "acousticness        258820 non-null float64\n",
      "danceability        258808 non-null float64\n",
      "duration_ms         258820 non-null float64\n",
      "energy              258820 non-null float64\n",
      "id                  258820 non-null object\n",
      "instrumentalness    258820 non-null float64\n",
      "key                 258820 non-null float64\n",
      "liveness            258820 non-null float64\n",
      "loudness            258820 non-null float64\n",
      "mode                258820 non-null float64\n",
      "speechiness         258808 non-null float64\n",
      "tempo               258820 non-null float64\n",
      "time_signature      258781 non-null float64\n",
      "valence             258808 non-null float64\n",
      "dtypes: float64(13), int64(5), object(6)\n",
      "memory usage: 55.8+ MB\n"
     ]
    }
   ],
   "source": [
    "new_big_data.info()"
   ]
  },
  {
   "cell_type": "code",
   "execution_count": 6,
   "metadata": {
    "collapsed": false
   },
   "outputs": [],
   "source": [
    "audio_features=new_big_data[[\"title\",\"artist\",\"chartDate\",\"peakPos\",\"lastPos\",\"weeks\",\"rank\",\"change\",\"acousticness\",\"danceability\",\"duration_ms\",\"energy\",\"instrumentalness\",\"key\",\"liveness\",\"loudness\", \"mode\",\"speechiness\",\"tempo\",\"time_signature\",\"valence\"]]"
   ]
  },
  {
   "cell_type": "code",
   "execution_count": 7,
   "metadata": {
    "collapsed": false
   },
   "outputs": [
    {
     "data": {
      "text/html": [
       "<div>\n",
       "<table border=\"1\" class=\"dataframe\">\n",
       "  <thead>\n",
       "    <tr style=\"text-align: right;\">\n",
       "      <th></th>\n",
       "      <th>peakPos</th>\n",
       "      <th>lastPos</th>\n",
       "      <th>weeks</th>\n",
       "      <th>rank</th>\n",
       "      <th>acousticness</th>\n",
       "      <th>danceability</th>\n",
       "      <th>duration_ms</th>\n",
       "      <th>energy</th>\n",
       "      <th>instrumentalness</th>\n",
       "      <th>key</th>\n",
       "      <th>liveness</th>\n",
       "      <th>loudness</th>\n",
       "      <th>mode</th>\n",
       "      <th>speechiness</th>\n",
       "      <th>tempo</th>\n",
       "      <th>time_signature</th>\n",
       "      <th>valence</th>\n",
       "    </tr>\n",
       "  </thead>\n",
       "  <tbody>\n",
       "    <tr>\n",
       "      <th>count</th>\n",
       "      <td>304643.000000</td>\n",
       "      <td>304643.000000</td>\n",
       "      <td>304643.000000</td>\n",
       "      <td>304643.000000</td>\n",
       "      <td>258820.000000</td>\n",
       "      <td>258808.000000</td>\n",
       "      <td>2.588200e+05</td>\n",
       "      <td>258820.000000</td>\n",
       "      <td>258820.000000</td>\n",
       "      <td>258820.000000</td>\n",
       "      <td>258820.000000</td>\n",
       "      <td>258820.000000</td>\n",
       "      <td>258820.000000</td>\n",
       "      <td>258808.000000</td>\n",
       "      <td>258820.000000</td>\n",
       "      <td>258781.000000</td>\n",
       "      <td>258808.000000</td>\n",
       "    </tr>\n",
       "    <tr>\n",
       "      <th>mean</th>\n",
       "      <td>30.760100</td>\n",
       "      <td>43.232797</td>\n",
       "      <td>13.902463</td>\n",
       "      <td>50.503392</td>\n",
       "      <td>0.270276</td>\n",
       "      <td>0.605626</td>\n",
       "      <td>2.286347e+05</td>\n",
       "      <td>0.632491</td>\n",
       "      <td>0.034109</td>\n",
       "      <td>5.224256</td>\n",
       "      <td>0.192357</td>\n",
       "      <td>-8.366804</td>\n",
       "      <td>0.729318</td>\n",
       "      <td>0.069378</td>\n",
       "      <td>120.303540</td>\n",
       "      <td>3.940718</td>\n",
       "      <td>0.604654</td>\n",
       "    </tr>\n",
       "    <tr>\n",
       "      <th>std</th>\n",
       "      <td>26.145309</td>\n",
       "      <td>30.145844</td>\n",
       "      <td>8.151371</td>\n",
       "      <td>28.866553</td>\n",
       "      <td>0.272556</td>\n",
       "      <td>0.151662</td>\n",
       "      <td>6.246360e+04</td>\n",
       "      <td>0.198102</td>\n",
       "      <td>0.139918</td>\n",
       "      <td>3.551212</td>\n",
       "      <td>0.164467</td>\n",
       "      <td>3.553880</td>\n",
       "      <td>0.444313</td>\n",
       "      <td>0.074781</td>\n",
       "      <td>28.090947</td>\n",
       "      <td>0.297135</td>\n",
       "      <td>0.236085</td>\n",
       "    </tr>\n",
       "    <tr>\n",
       "      <th>min</th>\n",
       "      <td>1.000000</td>\n",
       "      <td>0.000000</td>\n",
       "      <td>0.000000</td>\n",
       "      <td>1.000000</td>\n",
       "      <td>0.000001</td>\n",
       "      <td>0.078200</td>\n",
       "      <td>3.706700e+04</td>\n",
       "      <td>0.016700</td>\n",
       "      <td>0.000000</td>\n",
       "      <td>0.000000</td>\n",
       "      <td>0.013600</td>\n",
       "      <td>-29.110000</td>\n",
       "      <td>0.000000</td>\n",
       "      <td>0.021600</td>\n",
       "      <td>0.000000</td>\n",
       "      <td>1.000000</td>\n",
       "      <td>0.033500</td>\n",
       "    </tr>\n",
       "    <tr>\n",
       "      <th>25%</th>\n",
       "      <td>8.000000</td>\n",
       "      <td>16.000000</td>\n",
       "      <td>8.000000</td>\n",
       "      <td>26.000000</td>\n",
       "      <td>0.039800</td>\n",
       "      <td>0.505000</td>\n",
       "      <td>1.878670e+05</td>\n",
       "      <td>0.490000</td>\n",
       "      <td>0.000000</td>\n",
       "      <td>2.000000</td>\n",
       "      <td>0.089300</td>\n",
       "      <td>-10.623000</td>\n",
       "      <td>0.000000</td>\n",
       "      <td>0.032000</td>\n",
       "      <td>99.233000</td>\n",
       "      <td>4.000000</td>\n",
       "      <td>0.422000</td>\n",
       "    </tr>\n",
       "    <tr>\n",
       "      <th>50%</th>\n",
       "      <td>24.000000</td>\n",
       "      <td>42.000000</td>\n",
       "      <td>13.000000</td>\n",
       "      <td>51.000000</td>\n",
       "      <td>0.165000</td>\n",
       "      <td>0.616000</td>\n",
       "      <td>2.256670e+05</td>\n",
       "      <td>0.653000</td>\n",
       "      <td>0.000005</td>\n",
       "      <td>5.000000</td>\n",
       "      <td>0.130000</td>\n",
       "      <td>-7.822000</td>\n",
       "      <td>1.000000</td>\n",
       "      <td>0.040900</td>\n",
       "      <td>118.854000</td>\n",
       "      <td>4.000000</td>\n",
       "      <td>0.626000</td>\n",
       "    </tr>\n",
       "    <tr>\n",
       "      <th>75%</th>\n",
       "      <td>50.000000</td>\n",
       "      <td>69.000000</td>\n",
       "      <td>19.000000</td>\n",
       "      <td>76.000000</td>\n",
       "      <td>0.454000</td>\n",
       "      <td>0.712000</td>\n",
       "      <td>2.600670e+05</td>\n",
       "      <td>0.792000</td>\n",
       "      <td>0.000505</td>\n",
       "      <td>8.000000</td>\n",
       "      <td>0.249000</td>\n",
       "      <td>-5.636000</td>\n",
       "      <td>1.000000</td>\n",
       "      <td>0.065700</td>\n",
       "      <td>135.958000</td>\n",
       "      <td>4.000000</td>\n",
       "      <td>0.802000</td>\n",
       "    </tr>\n",
       "    <tr>\n",
       "      <th>max</th>\n",
       "      <td>100.000000</td>\n",
       "      <td>110.000000</td>\n",
       "      <td>87.000000</td>\n",
       "      <td>100.000000</td>\n",
       "      <td>0.995000</td>\n",
       "      <td>0.986000</td>\n",
       "      <td>1.367093e+06</td>\n",
       "      <td>0.998000</td>\n",
       "      <td>0.989000</td>\n",
       "      <td>11.000000</td>\n",
       "      <td>0.993000</td>\n",
       "      <td>2.291000</td>\n",
       "      <td>1.000000</td>\n",
       "      <td>0.898000</td>\n",
       "      <td>217.682000</td>\n",
       "      <td>5.000000</td>\n",
       "      <td>0.990000</td>\n",
       "    </tr>\n",
       "  </tbody>\n",
       "</table>\n",
       "</div>"
      ],
      "text/plain": [
       "             peakPos        lastPos          weeks           rank  \\\n",
       "count  304643.000000  304643.000000  304643.000000  304643.000000   \n",
       "mean       30.760100      43.232797      13.902463      50.503392   \n",
       "std        26.145309      30.145844       8.151371      28.866553   \n",
       "min         1.000000       0.000000       0.000000       1.000000   \n",
       "25%         8.000000      16.000000       8.000000      26.000000   \n",
       "50%        24.000000      42.000000      13.000000      51.000000   \n",
       "75%        50.000000      69.000000      19.000000      76.000000   \n",
       "max       100.000000     110.000000      87.000000     100.000000   \n",
       "\n",
       "        acousticness   danceability   duration_ms         energy  \\\n",
       "count  258820.000000  258808.000000  2.588200e+05  258820.000000   \n",
       "mean        0.270276       0.605626  2.286347e+05       0.632491   \n",
       "std         0.272556       0.151662  6.246360e+04       0.198102   \n",
       "min         0.000001       0.078200  3.706700e+04       0.016700   \n",
       "25%         0.039800       0.505000  1.878670e+05       0.490000   \n",
       "50%         0.165000       0.616000  2.256670e+05       0.653000   \n",
       "75%         0.454000       0.712000  2.600670e+05       0.792000   \n",
       "max         0.995000       0.986000  1.367093e+06       0.998000   \n",
       "\n",
       "       instrumentalness            key       liveness       loudness  \\\n",
       "count     258820.000000  258820.000000  258820.000000  258820.000000   \n",
       "mean           0.034109       5.224256       0.192357      -8.366804   \n",
       "std            0.139918       3.551212       0.164467       3.553880   \n",
       "min            0.000000       0.000000       0.013600     -29.110000   \n",
       "25%            0.000000       2.000000       0.089300     -10.623000   \n",
       "50%            0.000005       5.000000       0.130000      -7.822000   \n",
       "75%            0.000505       8.000000       0.249000      -5.636000   \n",
       "max            0.989000      11.000000       0.993000       2.291000   \n",
       "\n",
       "                mode    speechiness          tempo  time_signature  \\\n",
       "count  258820.000000  258808.000000  258820.000000   258781.000000   \n",
       "mean        0.729318       0.069378     120.303540        3.940718   \n",
       "std         0.444313       0.074781      28.090947        0.297135   \n",
       "min         0.000000       0.021600       0.000000        1.000000   \n",
       "25%         0.000000       0.032000      99.233000        4.000000   \n",
       "50%         1.000000       0.040900     118.854000        4.000000   \n",
       "75%         1.000000       0.065700     135.958000        4.000000   \n",
       "max         1.000000       0.898000     217.682000        5.000000   \n",
       "\n",
       "             valence  \n",
       "count  258808.000000  \n",
       "mean        0.604654  \n",
       "std         0.236085  \n",
       "min         0.033500  \n",
       "25%         0.422000  \n",
       "50%         0.626000  \n",
       "75%         0.802000  \n",
       "max         0.990000  "
      ]
     },
     "execution_count": 7,
     "metadata": {},
     "output_type": "execute_result"
    }
   ],
   "source": [
    "audio_features.describe()"
   ]
  },
  {
   "cell_type": "code",
   "execution_count": 12,
   "metadata": {
    "collapsed": false
   },
   "outputs": [],
   "source": []
  },
  {
   "cell_type": "code",
   "execution_count": null,
   "metadata": {
    "collapsed": false
   },
   "outputs": [],
   "source": []
  },
  {
   "cell_type": "code",
   "execution_count": null,
   "metadata": {
    "collapsed": false
   },
   "outputs": [],
   "source": []
  },
  {
   "cell_type": "code",
   "execution_count": null,
   "metadata": {
    "collapsed": false
   },
   "outputs": [],
   "source": []
  },
  {
   "cell_type": "code",
   "execution_count": null,
   "metadata": {
    "collapsed": false
   },
   "outputs": [],
   "source": []
  },
  {
   "cell_type": "code",
   "execution_count": null,
   "metadata": {
    "collapsed": false
   },
   "outputs": [],
   "source": []
  },
  {
   "cell_type": "code",
   "execution_count": null,
   "metadata": {
    "collapsed": false
   },
   "outputs": [],
   "source": []
  },
  {
   "cell_type": "code",
   "execution_count": null,
   "metadata": {
    "collapsed": false
   },
   "outputs": [],
   "source": []
  },
  {
   "cell_type": "code",
   "execution_count": null,
   "metadata": {
    "collapsed": false
   },
   "outputs": [],
   "source": []
  },
  {
   "cell_type": "code",
   "execution_count": null,
   "metadata": {
    "collapsed": false
   },
   "outputs": [],
   "source": []
  },
  {
   "cell_type": "code",
   "execution_count": null,
   "metadata": {
    "collapsed": false
   },
   "outputs": [],
   "source": []
  },
  {
   "cell_type": "code",
   "execution_count": null,
   "metadata": {
    "collapsed": false
   },
   "outputs": [],
   "source": []
  },
  {
   "cell_type": "code",
   "execution_count": null,
   "metadata": {
    "collapsed": false
   },
   "outputs": [],
   "source": []
  },
  {
   "cell_type": "code",
   "execution_count": null,
   "metadata": {
    "collapsed": true
   },
   "outputs": [],
   "source": []
  },
  {
   "cell_type": "code",
   "execution_count": null,
   "metadata": {
    "collapsed": false
   },
   "outputs": [],
   "source": []
  },
  {
   "cell_type": "code",
   "execution_count": 94,
   "metadata": {
    "collapsed": true
   },
   "outputs": [],
   "source": [
    "#### Remember to remove \"We do not have the lyrics yet\" from lyrics column and starts with CHORUS"
   ]
  },
  {
   "cell_type": "code",
   "execution_count": null,
   "metadata": {
    "collapsed": false
   },
   "outputs": [],
   "source": [
    "# Analysis"
   ]
  },
  {
   "cell_type": "code",
   "execution_count": null,
   "metadata": {
    "collapsed": true
   },
   "outputs": [],
   "source": [
    "How does one go about creating a data story? You have some pointers from the material you've just gone through, but they’re probably a bit on the abstract side when you’re just getting started. Also, storytelling is an art, so you have to get your imagination going. Here are some pointers to get those creative juices flowing. In the following sections we will work step-by-step to create your first Data Story\n",
    "\n",
    "        Get going by asking the following questions and looking for the answers with some code and plots:\n",
    "\n",
    "            Can you count something interesting?\n",
    "\n",
    "            Can you find some trends (high, low, increase, decrease, anomalies)?\n",
    "\n",
    "            Can you make a bar plot or a histogram?\n",
    "\n",
    "            Can you compare two related quantities?\n",
    "\n",
    "            Can you make a scatterplot?\n",
    "\n",
    "            Can you make a time-series plot?\n",
    "\n",
    "        Having made these plots, what are some insights you get from them? Do you see any correlations? Is there a hypothesis you would like to investigate further? What other questions do they lead you to ask?\n",
    "\n",
    "        By now you’ve asked a bunch of questions, and found some neat insights. Is there an interesting narrative, a way of presenting the insights using text and plots from the above, that tells a compelling story? As you work out this story, what are some other trends/relationships you think will make it more complete?\n",
    "\n",
    "Submission Requirements: Submit links to a Github repository containing a Jupyter notebook. The notebook should contain:\n",
    "\n",
    "    The questions you asked\n",
    "    The trends you investigated\n",
    "    The resulting visualizations and conclusions.\n",
    "\n",
    "In case the data set is too large to commit to Github, please include a link to the data set inside the Jupyter notebook."
   ]
  },
  {
   "cell_type": "code",
   "execution_count": 40,
   "metadata": {
    "collapsed": false
   },
   "outputs": [],
   "source": []
  },
  {
   "cell_type": "code",
   "execution_count": 11,
   "metadata": {
    "collapsed": false
   },
   "outputs": [],
   "source": [
    "#https://dreference.blogspot.com/2016/09/positive-ve-words-and-adjectives-list.html\n",
    "posi=pd.read_csv(\"posi.txt\")\n",
    "plist=list(posi.values.flatten())\n",
    "plist = [x.lower() for x in plist]\n",
    "plist.append('abiding')\n",
    "negi=pd.read_csv(\"neg.txt\")\n",
    "nlist=list(negi.values.flatten())\n",
    "nlist = [x.lower() for x in nlist]\n",
    "nlist.append('abandoned')"
   ]
  },
  {
   "cell_type": "code",
   "execution_count": 9,
   "metadata": {
    "collapsed": false
   },
   "outputs": [],
   "source": [
    "#Find the common words\n",
    "lyrics_list=billboard_lyrics[billboard_lyrics.lyrics.notnull()].reset_index()\n",
    "lower_limit =0\n",
    "upper_limit =len(lyrics_list)\n",
    "common_words = pd.DataFrame()\n",
    "rgx = re.compile(\"(\\w[\\w']*\\w|\\w)\")\n",
    "for row in range(lower_limit,upper_limit):\n",
    "    song_lyrics=lyrics_list.get_value(row,\"lyrics\")\n",
    "    words = rgx.findall(song_lyrics)\n",
    "    word_list = [word.lower() for word in words] \n",
    "    word_counts = Counter(word_list)\n",
    "    add_frame = {\"artist\":lyrics_list.get_value(row,\"artist\"), \"track\":lyrics_list.get_value(row,\"track\"), \"lyrics\":song_lyrics,\"common words\":word_counts.most_common()}\n",
    "    common_words = common_words.append(add_frame,ignore_index=True)"
   ]
  },
  {
   "cell_type": "code",
   "execution_count": 12,
   "metadata": {
    "collapsed": false
   },
   "outputs": [],
   "source": [
    "#Create Sentiment lyrical feature\n",
    "emo_data=pd.DataFrame()\n",
    "for row in range(0,len(common_words)):\n",
    "    the_word_count=common_words.get_value(row,\"common words\")\n",
    "    positivity=0\n",
    "    total_words=0\n",
    "    for word in the_word_count:\n",
    "        total_words+=word[1]\n",
    "        if word[0] in plist:\n",
    "            positivity += word[1]\n",
    "        elif word[0] in nlist:\n",
    "             positivity -=word[1]\n",
    "    add_frame = {\"artist\":common_words.get_value(row,\"artist\"), \"track\":common_words.get_value(row,\"track\"), \"lyrics\":common_words.get_value(row,\"lyrics\"),\"positivity\":positivity/total_words, 'common_words':common_words.get_value(row,\"common words\")}\n",
    "    emo_data = emo_data.append(add_frame,ignore_index=True)"
   ]
  },
  {
   "cell_type": "code",
   "execution_count": 13,
   "metadata": {
    "collapsed": false
   },
   "outputs": [],
   "source": [
    "emo_data.to_csv(\"sentiment_data.csv\")"
   ]
  },
  {
   "cell_type": "code",
   "execution_count": 2,
   "metadata": {
    "collapsed": false
   },
   "outputs": [],
   "source": [
    "emo_data = pd.read_csv(\"sentiment_data.csv\", encoding='latin1')"
   ]
  },
  {
   "cell_type": "code",
   "execution_count": 15,
   "metadata": {
    "collapsed": false
   },
   "outputs": [
    {
     "data": {
      "text/html": [
       "<div>\n",
       "<table border=\"1\" class=\"dataframe\">\n",
       "  <thead>\n",
       "    <tr style=\"text-align: right;\">\n",
       "      <th></th>\n",
       "      <th>artist</th>\n",
       "      <th>common_words</th>\n",
       "      <th>lyrics</th>\n",
       "      <th>positivity</th>\n",
       "      <th>track</th>\n",
       "    </tr>\n",
       "  </thead>\n",
       "  <tbody>\n",
       "    <tr>\n",
       "      <th>834</th>\n",
       "      <td>Jon Bellion</td>\n",
       "      <td>[(low, 84), (lie, 17), (i, 11), (that, 11), (t...</td>\n",
       "      <td>\\r\\r\\r\\r\\nI, was the knight in shining armor i...</td>\n",
       "      <td>-0.292683</td>\n",
       "      <td>All Time Low</td>\n",
       "    </tr>\n",
       "    <tr>\n",
       "      <th>3546</th>\n",
       "      <td>Kiss</td>\n",
       "      <td>[(crazy, 48), (are, 16), (these, 7), (nights, ...</td>\n",
       "      <td>\\r\\r\\r\\r\\nPeople try to take my soul away, but...</td>\n",
       "      <td>-0.200935</td>\n",
       "      <td>Crazy Crazy Nights</td>\n",
       "    </tr>\n",
       "    <tr>\n",
       "      <th>10960</th>\n",
       "      <td>Dazz Band</td>\n",
       "      <td>[(down, 11), (let, 9), (it, 9), (all, 9), (blo...</td>\n",
       "      <td>\\r\\r\\r\\r\\nLet it all blow. Heave-ho heave-ho l...</td>\n",
       "      <td>-0.196429</td>\n",
       "      <td>Let It All Blow</td>\n",
       "    </tr>\n",
       "    <tr>\n",
       "      <th>19859</th>\n",
       "      <td>Color Me Badd</td>\n",
       "      <td>[(so, 49), (bad, 48), (time, 39), (chance, 38)...</td>\n",
       "      <td>(Time)\\r\\r\\r\\r\\n(Chance)\\r\\r\\r\\r\\n(Time)\\r\\r\\r...</td>\n",
       "      <td>-0.192683</td>\n",
       "      <td>Time And Chance</td>\n",
       "    </tr>\n",
       "    <tr>\n",
       "      <th>5649</th>\n",
       "      <td>Dee Dee Warwick</td>\n",
       "      <td>[(crazy, 22), (foolish, 20), (she, 10), (my, 1...</td>\n",
       "      <td>Foolish.Foolish... Foolish... Foolish... Foooo...</td>\n",
       "      <td>-0.188889</td>\n",
       "      <td>Foolish Fool</td>\n",
       "    </tr>\n",
       "    <tr>\n",
       "      <th>15811</th>\n",
       "      <td>Barbara Mason</td>\n",
       "      <td>[(sad, 32), (you, 19), (girl, 15), (over, 13),...</td>\n",
       "      <td>Sad, sad, girl (sad girl)\\r\\r\\r\\r\\n\\r\\r\\r\\r\\nI...</td>\n",
       "      <td>-0.183432</td>\n",
       "      <td>Sad, Sad Girl</td>\n",
       "    </tr>\n",
       "    <tr>\n",
       "      <th>4802</th>\n",
       "      <td>Sean Kingston</td>\n",
       "      <td>[(dumb, 90), (you, 23), (b, 20), (wh, 15), (i,...</td>\n",
       "      <td>\\r\\r\\r\\r\\nGirl you make me dumb, dumb, dumb, d...</td>\n",
       "      <td>-0.177500</td>\n",
       "      <td>Dumb Love</td>\n",
       "    </tr>\n",
       "    <tr>\n",
       "      <th>1704</th>\n",
       "      <td>Sean Kingston Featuring Chris Brown &amp; Wiz Khalifa</td>\n",
       "      <td>[(beat, 125), (it, 43), (you, 22), (me, 20), (...</td>\n",
       "      <td>\\r\\r\\r\\r\\nHe ain't fly though, he don't even d...</td>\n",
       "      <td>-0.174520</td>\n",
       "      <td>Beat It</td>\n",
       "    </tr>\n",
       "    <tr>\n",
       "      <th>14518</th>\n",
       "      <td>The Doors</td>\n",
       "      <td>[(you're, 18), (when, 16), (strange, 11), (are...</td>\n",
       "      <td>\\r\\r\\r\\r\\nPeople are strange when you're a str...</td>\n",
       "      <td>-0.168317</td>\n",
       "      <td>People Are Strange</td>\n",
       "    </tr>\n",
       "    <tr>\n",
       "      <th>13889</th>\n",
       "      <td>Jack Scott</td>\n",
       "      <td>[(little, 22), (one, 22), (oh, 18), (i, 5), (s...</td>\n",
       "      <td>Oh little one (oh little one)\\r\\r\\r\\r\\nOh litt...</td>\n",
       "      <td>-0.166667</td>\n",
       "      <td>Oh, Little One</td>\n",
       "    </tr>\n",
       "  </tbody>\n",
       "</table>\n",
       "</div>"
      ],
      "text/plain": [
       "                                                  artist  \\\n",
       "834                                          Jon Bellion   \n",
       "3546                                                Kiss   \n",
       "10960                                          Dazz Band   \n",
       "19859                                      Color Me Badd   \n",
       "5649                                     Dee Dee Warwick   \n",
       "15811                                      Barbara Mason   \n",
       "4802                                       Sean Kingston   \n",
       "1704   Sean Kingston Featuring Chris Brown & Wiz Khalifa   \n",
       "14518                                          The Doors   \n",
       "13889                                         Jack Scott   \n",
       "\n",
       "                                            common_words  \\\n",
       "834    [(low, 84), (lie, 17), (i, 11), (that, 11), (t...   \n",
       "3546   [(crazy, 48), (are, 16), (these, 7), (nights, ...   \n",
       "10960  [(down, 11), (let, 9), (it, 9), (all, 9), (blo...   \n",
       "19859  [(so, 49), (bad, 48), (time, 39), (chance, 38)...   \n",
       "5649   [(crazy, 22), (foolish, 20), (she, 10), (my, 1...   \n",
       "15811  [(sad, 32), (you, 19), (girl, 15), (over, 13),...   \n",
       "4802   [(dumb, 90), (you, 23), (b, 20), (wh, 15), (i,...   \n",
       "1704   [(beat, 125), (it, 43), (you, 22), (me, 20), (...   \n",
       "14518  [(you're, 18), (when, 16), (strange, 11), (are...   \n",
       "13889  [(little, 22), (one, 22), (oh, 18), (i, 5), (s...   \n",
       "\n",
       "                                                  lyrics  positivity  \\\n",
       "834    \\r\\r\\r\\r\\nI, was the knight in shining armor i...   -0.292683   \n",
       "3546   \\r\\r\\r\\r\\nPeople try to take my soul away, but...   -0.200935   \n",
       "10960  \\r\\r\\r\\r\\nLet it all blow. Heave-ho heave-ho l...   -0.196429   \n",
       "19859  (Time)\\r\\r\\r\\r\\n(Chance)\\r\\r\\r\\r\\n(Time)\\r\\r\\r...   -0.192683   \n",
       "5649   Foolish.Foolish... Foolish... Foolish... Foooo...   -0.188889   \n",
       "15811  Sad, sad, girl (sad girl)\\r\\r\\r\\r\\n\\r\\r\\r\\r\\nI...   -0.183432   \n",
       "4802   \\r\\r\\r\\r\\nGirl you make me dumb, dumb, dumb, d...   -0.177500   \n",
       "1704   \\r\\r\\r\\r\\nHe ain't fly though, he don't even d...   -0.174520   \n",
       "14518  \\r\\r\\r\\r\\nPeople are strange when you're a str...   -0.168317   \n",
       "13889  Oh little one (oh little one)\\r\\r\\r\\r\\nOh litt...   -0.166667   \n",
       "\n",
       "                    track  \n",
       "834          All Time Low  \n",
       "3546   Crazy Crazy Nights  \n",
       "10960     Let It All Blow  \n",
       "19859     Time And Chance  \n",
       "5649         Foolish Fool  \n",
       "15811       Sad, Sad Girl  \n",
       "4802            Dumb Love  \n",
       "1704              Beat It  \n",
       "14518  People Are Strange  \n",
       "13889      Oh, Little One  "
      ]
     },
     "execution_count": 15,
     "metadata": {},
     "output_type": "execute_result"
    }
   ],
   "source": [
    "emo_data.sort_values(by=[\"positivity\",\"artist\",\"track\"],ascending=True).head(10)"
   ]
  },
  {
   "cell_type": "code",
   "execution_count": null,
   "metadata": {
    "collapsed": false
   },
   "outputs": [],
   "source": []
  },
  {
   "cell_type": "code",
   "execution_count": null,
   "metadata": {
    "collapsed": false
   },
   "outputs": [],
   "source": []
  },
  {
   "cell_type": "code",
   "execution_count": null,
   "metadata": {
    "collapsed": false
   },
   "outputs": [],
   "source": []
  },
  {
   "cell_type": "code",
   "execution_count": null,
   "metadata": {
    "collapsed": false
   },
   "outputs": [],
   "source": []
  },
  {
   "cell_type": "code",
   "execution_count": null,
   "metadata": {
    "collapsed": false
   },
   "outputs": [],
   "source": []
  },
  {
   "cell_type": "code",
   "execution_count": 52,
   "metadata": {
    "collapsed": false
   },
   "outputs": [],
   "source": []
  },
  {
   "cell_type": "code",
   "execution_count": 93,
   "metadata": {
    "collapsed": true
   },
   "outputs": [],
   "source": []
  },
  {
   "cell_type": "code",
   "execution_count": 103,
   "metadata": {
    "collapsed": false
   },
   "outputs": [],
   "source": [
    "sorted_dat =emo_data.sort_values(by=[\"positivity\",\"track\", \"artist\"],ascending=False)"
   ]
  },
  {
   "cell_type": "code",
   "execution_count": null,
   "metadata": {
    "collapsed": false
   },
   "outputs": [],
   "source": []
  },
  {
   "cell_type": "code",
   "execution_count": 112,
   "metadata": {
    "collapsed": false
   },
   "outputs": [],
   "source": [
    "lyric_count=pd.merge(billboard_lyrics,common_words,how='left', on=['artist', 'track',\"lyrics\"])"
   ]
  },
  {
   "cell_type": "code",
   "execution_count": null,
   "metadata": {
    "collapsed": false
   },
   "outputs": [],
   "source": []
  },
  {
   "cell_type": "code",
   "execution_count": null,
   "metadata": {
    "collapsed": false
   },
   "outputs": [],
   "source": []
  },
  {
   "cell_type": "code",
   "execution_count": null,
   "metadata": {
    "collapsed": false
   },
   "outputs": [],
   "source": []
  },
  {
   "cell_type": "code",
   "execution_count": null,
   "metadata": {
    "collapsed": false
   },
   "outputs": [],
   "source": []
  },
  {
   "cell_type": "code",
   "execution_count": null,
   "metadata": {
    "collapsed": false
   },
   "outputs": [],
   "source": [
    "\n"
   ]
  },
  {
   "cell_type": "code",
   "execution_count": null,
   "metadata": {
    "collapsed": false
   },
   "outputs": [],
   "source": []
  },
  {
   "cell_type": "code",
   "execution_count": 38,
   "metadata": {
    "collapsed": false
   },
   "outputs": [],
   "source": []
  },
  {
   "cell_type": "code",
   "execution_count": null,
   "metadata": {
    "collapsed": false
   },
   "outputs": [],
   "source": []
  },
  {
   "cell_type": "code",
   "execution_count": null,
   "metadata": {
    "collapsed": false
   },
   "outputs": [],
   "source": []
  },
  {
   "cell_type": "code",
   "execution_count": null,
   "metadata": {
    "collapsed": false
   },
   "outputs": [],
   "source": []
  },
  {
   "cell_type": "code",
   "execution_count": null,
   "metadata": {
    "collapsed": false
   },
   "outputs": [],
   "source": []
  },
  {
   "cell_type": "code",
   "execution_count": null,
   "metadata": {
    "collapsed": false
   },
   "outputs": [],
   "source": []
  },
  {
   "cell_type": "code",
   "execution_count": 299,
   "metadata": {
    "collapsed": false
   },
   "outputs": [],
   "source": []
  },
  {
   "cell_type": "code",
   "execution_count": null,
   "metadata": {
    "collapsed": false
   },
   "outputs": [],
   "source": []
  },
  {
   "cell_type": "code",
   "execution_count": null,
   "metadata": {
    "collapsed": false
   },
   "outputs": [],
   "source": []
  },
  {
   "cell_type": "code",
   "execution_count": null,
   "metadata": {
    "collapsed": false
   },
   "outputs": [],
   "source": []
  },
  {
   "cell_type": "code",
   "execution_count": null,
   "metadata": {
    "collapsed": false
   },
   "outputs": [],
   "source": []
  },
  {
   "cell_type": "code",
   "execution_count": null,
   "metadata": {
    "collapsed": true
   },
   "outputs": [],
   "source": []
  },
  {
   "cell_type": "code",
   "execution_count": null,
   "metadata": {
    "collapsed": false
   },
   "outputs": [],
   "source": []
  },
  {
   "cell_type": "code",
   "execution_count": null,
   "metadata": {
    "collapsed": false
   },
   "outputs": [],
   "source": []
  },
  {
   "cell_type": "code",
   "execution_count": null,
   "metadata": {
    "collapsed": false
   },
   "outputs": [],
   "source": []
  },
  {
   "cell_type": "code",
   "execution_count": null,
   "metadata": {
    "collapsed": true
   },
   "outputs": [],
   "source": []
  },
  {
   "cell_type": "code",
   "execution_count": null,
   "metadata": {
    "collapsed": false
   },
   "outputs": [],
   "source": []
  },
  {
   "cell_type": "code",
   "execution_count": null,
   "metadata": {
    "collapsed": false
   },
   "outputs": [],
   "source": []
  },
  {
   "cell_type": "code",
   "execution_count": null,
   "metadata": {
    "collapsed": false
   },
   "outputs": [],
   "source": []
  },
  {
   "cell_type": "code",
   "execution_count": null,
   "metadata": {
    "collapsed": true
   },
   "outputs": [],
   "source": []
  },
  {
   "cell_type": "code",
   "execution_count": null,
   "metadata": {
    "collapsed": false
   },
   "outputs": [],
   "source": []
  },
  {
   "cell_type": "code",
   "execution_count": null,
   "metadata": {
    "collapsed": false
   },
   "outputs": [],
   "source": []
  },
  {
   "cell_type": "code",
   "execution_count": null,
   "metadata": {
    "collapsed": false
   },
   "outputs": [],
   "source": []
  },
  {
   "cell_type": "code",
   "execution_count": null,
   "metadata": {
    "collapsed": true
   },
   "outputs": [],
   "source": []
  },
  {
   "cell_type": "code",
   "execution_count": null,
   "metadata": {
    "collapsed": true
   },
   "outputs": [],
   "source": []
  },
  {
   "cell_type": "code",
   "execution_count": null,
   "metadata": {
    "collapsed": false
   },
   "outputs": [],
   "source": []
  },
  {
   "cell_type": "code",
   "execution_count": null,
   "metadata": {
    "collapsed": false
   },
   "outputs": [],
   "source": []
  },
  {
   "cell_type": "code",
   "execution_count": null,
   "metadata": {
    "collapsed": false
   },
   "outputs": [],
   "source": []
  },
  {
   "cell_type": "code",
   "execution_count": null,
   "metadata": {
    "collapsed": false
   },
   "outputs": [],
   "source": []
  },
  {
   "cell_type": "code",
   "execution_count": null,
   "metadata": {
    "collapsed": false
   },
   "outputs": [],
   "source": []
  },
  {
   "cell_type": "code",
   "execution_count": null,
   "metadata": {
    "collapsed": false
   },
   "outputs": [],
   "source": []
  },
  {
   "cell_type": "code",
   "execution_count": null,
   "metadata": {
    "collapsed": false
   },
   "outputs": [],
   "source": []
  },
  {
   "cell_type": "code",
   "execution_count": null,
   "metadata": {
    "collapsed": false
   },
   "outputs": [],
   "source": []
  },
  {
   "cell_type": "code",
   "execution_count": null,
   "metadata": {
    "collapsed": true
   },
   "outputs": [],
   "source": []
  },
  {
   "cell_type": "code",
   "execution_count": null,
   "metadata": {
    "collapsed": false
   },
   "outputs": [],
   "source": []
  },
  {
   "cell_type": "code",
   "execution_count": null,
   "metadata": {
    "collapsed": false
   },
   "outputs": [],
   "source": []
  },
  {
   "cell_type": "code",
   "execution_count": null,
   "metadata": {
    "collapsed": false
   },
   "outputs": [],
   "source": []
  },
  {
   "cell_type": "code",
   "execution_count": null,
   "metadata": {
    "collapsed": false
   },
   "outputs": [],
   "source": []
  },
  {
   "cell_type": "code",
   "execution_count": null,
   "metadata": {
    "collapsed": false
   },
   "outputs": [],
   "source": []
  },
  {
   "cell_type": "code",
   "execution_count": null,
   "metadata": {
    "collapsed": false
   },
   "outputs": [],
   "source": []
  },
  {
   "cell_type": "code",
   "execution_count": null,
   "metadata": {
    "collapsed": false
   },
   "outputs": [],
   "source": []
  },
  {
   "cell_type": "code",
   "execution_count": null,
   "metadata": {
    "collapsed": false
   },
   "outputs": [],
   "source": []
  },
  {
   "cell_type": "code",
   "execution_count": null,
   "metadata": {
    "collapsed": false
   },
   "outputs": [],
   "source": [
    "sad = pd.read_excel(\"sad_words.xls\")\n",
    "slist=list(sad.dropna().values.flatten())\n",
    "slist = [x for x in slist if x != '\\xa0']\n",
    "slist = [x.lower() for x in slist]\n",
    "slist =  [x.strip() for x in slist]"
   ]
  },
  {
   "cell_type": "code",
   "execution_count": null,
   "metadata": {
    "collapsed": true
   },
   "outputs": [],
   "source": [
    "happy=pd.read_excel(\"happy_words.xls\")\n",
    "hlist=list(happy.dropna().values.flatten())\n",
    "hlist = [x for x in hlist if x != '\\xa0']\n",
    "hlist = [x.lower() for x in hlist]\n",
    "hlist =  [x.strip() for x in hlist]"
   ]
  },
  {
   "cell_type": "code",
   "execution_count": null,
   "metadata": {
    "collapsed": true
   },
   "outputs": [],
   "source": [
    "def remove_duplicates(values):\n",
    "    output = []\n",
    "    seen = set()\n",
    "    for value in values:\n",
    "        if value not in seen:\n",
    "            output.append(value)\n",
    "            seen.add(value)\n",
    "    return output\n",
    "hlist=remove_duplicates(hlist)\n",
    "slist=remove_duplicates(slist)"
   ]
  }
 ],
 "metadata": {
  "kernelspec": {
   "display_name": "Python 3",
   "language": "python",
   "name": "python3"
  },
  "language_info": {
   "codemirror_mode": {
    "name": "ipython",
    "version": 3
   },
   "file_extension": ".py",
   "mimetype": "text/x-python",
   "name": "python",
   "nbconvert_exporter": "python",
   "pygments_lexer": "ipython3",
   "version": "3.6.0"
  }
 },
 "nbformat": 4,
 "nbformat_minor": 2
}
