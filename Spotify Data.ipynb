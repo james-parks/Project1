{
 "cells": [
  {
   "cell_type": "code",
   "execution_count": 10,
   "metadata": {
    "collapsed": true
   },
   "outputs": [],
   "source": [
    "#Usual Imports\n",
    "import os\n",
    "import sys\n",
    "import time\n",
    "import datetime\n",
    "import re\n",
    "import numpy as np\n",
    "import pandas as pd\n",
    "import matplotlib.pyplot as plt\n",
    "# Imports for web scraping Spotify data\n",
    "from bs4 import BeautifulSoup\n",
    "import urllib\n",
    "import requests\n",
    "from __future__ import print_function    # (at top of module)\n",
    "from spotipy.oauth2 import SpotifyClientCredentials\n",
    "import spotipy\n",
    "from time import sleep\n",
    "from collections import Counter"
   ]
  },
  {
   "cell_type": "code",
   "execution_count": 2,
   "metadata": {
    "collapsed": true
   },
   "outputs": [],
   "source": [
    "# Initialize Spotipy API credentials\n",
    "client_credentials_manager = SpotifyClientCredentials()\n",
    "sp = spotipy.Spotify(client_credentials_manager=client_credentials_manager)\n",
    "sp.trace=False"
   ]
  },
  {
   "cell_type": "code",
   "execution_count": 31,
   "metadata": {
    "collapsed": false
   },
   "outputs": [],
   "source": [
    "# Read in billboard top 100 data from 1955-2015\n",
    "billboard_data=pd.read_csv(\"all_billboard_data.txt\", sep=\"|\", encoding='latin1')\n",
    "#Arrange Billboard data by tracks for Spotify web scraping \n",
    "billboard_tracks = billboard_data.groupby([\"title\",\"artist\"]).size().reset_index()"
   ]
  },
  {
   "cell_type": "code",
   "execution_count": 4,
   "metadata": {
    "collapsed": false
   },
   "outputs": [
    {
     "data": {
      "text/plain": [
       "34605"
      ]
     },
     "execution_count": 4,
     "metadata": {},
     "output_type": "execute_result"
    }
   ],
   "source": [
    "# We have 34605 unique songs in our dataset\n",
    "len(billboard_tracks)"
   ]
  },
  {
   "cell_type": "code",
   "execution_count": 8,
   "metadata": {
    "collapsed": true
   },
   "outputs": [],
   "source": [
    "# Initialize an empty data frame for the Spotify data\n",
    "track_meta_columns=[\"danceability\",\"energy\",\"key\",\"loudness\",\"mode\",\"speechiness\",\"acousticness\",\"instrumentalness\",\"liveness\",\"valence\",\"tempo\",\"type\",\"id\",\"uri\",\"track_href\",\"analysis_url\",\"duration_ms\",\"time_signature\"]\n",
    "artist_data = pd.DataFrame(columns=[\"artist\",\"track\"])\n",
    "track_data = pd.DataFrame(columns=track_meta_columns)\n",
    "spotify_data=pd.concat([artist_data, track_data], axis=1)\n",
    "artist_index=0\n",
    "track_index=0"
   ]
  },
  {
   "cell_type": "code",
   "execution_count": 6,
   "metadata": {
    "collapsed": false
   },
   "outputs": [
    {
     "name": "stdout",
     "output_type": "stream",
     "text": [
      "retrying ...0secs\n",
      "retrying ...0secs\n",
      "retrying ...0secs\n",
      "retrying ...0secs\n",
      "retrying ...0secs\n",
      "retrying ...0secs\n",
      "retrying ...0secs\n",
      "retrying ...0secs\n",
      "features retrieved in 113.41 seconds\n"
     ]
    }
   ],
   "source": [
    "# Obtaining Data Step\n",
    "spotify_data=pd.concat([artist_data, track_data], axis=1)\n",
    "lower_limit =0\n",
    "upper_limit =150\n",
    "spot_table = 'spotify' +str(lower_limit)+\"-\"+ str(upper_limit)+'.csv'\n",
    "start = time.time()\n",
    "# Cycle through the rows in the billboard_tracks dataframe.\n",
    "# Search for the artist and title for each one through Spotify's API\n",
    "# Add the metadata for the track to the dataset\n",
    "for row in range(lower_limit,upper_limit):\n",
    "    artist_data = pd.DataFrame(columns=[\"artist\",\"track\"])\n",
    "    track_data = pd.DataFrame(columns=track_meta_columns)\n",
    "    artist_name = billboard_tracks.iloc[row,1]\n",
    "    track_name = billboard_tracks.iloc[row,0]\n",
    "    lookup = artist_name + \" \" + track_name\n",
    "    try:\n",
    "        results = sp.search(q=lookup, limit=3)\n",
    "    except urllib.request.HTTPError as eone:\n",
    "        pass\n",
    "    tids = []\n",
    "    artist_index=0\n",
    "    for i, t in enumerate(results['tracks']['items']):\n",
    "        to_add =pd.DataFrame( {\"artist\":t['artists'][0]['name'], \"track\":t['name']},index=[artist_index])\n",
    "        artist_data=pd.concat([artist_data,to_add])\n",
    "        tids.append(t['uri'])\n",
    "        artist_index+=1\n",
    "    try:    \n",
    "        features = sp.audio_features(tids)\n",
    "    except urllib.request.HTTPError as etwo:\n",
    "        pass    \n",
    "    track_index=0\n",
    "    for feature in features:\n",
    "        tracks = pd.DataFrame(feature, index=[track_index])\n",
    "        track_data=pd.concat([track_data,tracks])\n",
    "        track_index+=1\n",
    "    all_data = pd.concat([artist_data, track_data], axis=1)\n",
    "    spotify_data=pd.concat([spotify_data,all_data])\n",
    "# Spotify has rate limiting for their API so we must delay time between requests\n",
    "    if row%50==0 and row!=lower_limit and row!=upper_limit:\n",
    "        sleep(25)\n",
    "delta = time.time() - start\n",
    "print (\"features retrieved in %.2f seconds\" % (delta,))\n",
    "# Output the data to a csv file\n",
    "# Note that due to the length of time required we will create several csv files\n",
    "spotify_data.to_csv(spot_table)"
   ]
  },
  {
   "cell_type": "code",
   "execution_count": null,
   "metadata": {
    "collapsed": true
   },
   "outputs": [],
   "source": [
    "# Cleaning and Wrangling step\n",
    "# Begin to join all the csv files together, some may require adding in an additional empty row.\n",
    "spot_one = pd.read_csv('spotify0-50.csv',  encoding='latin1')\n",
    "spot_two = pd.read_csv('spotify50-100.csv',  encoding='latin1')\n",
    "spotify_all = pd.concat([spot_one,spot_two])\n",
    "spot_new = pd.read_csv('spotify100-200.csv',  encoding='latin1')\n",
    "spotify_all = pd.concat([spotify_all,spot_new])\n",
    "spotify_empty = spot_small[87:88]\n",
    "spotify_all = pd.concat([spotify_all,spotify_empty])\n",
    "# spotify_all.to_csv(\"spotify_big\")"
   ]
  },
  {
   "cell_type": "code",
   "execution_count": 28,
   "metadata": {
    "collapsed": false
   },
   "outputs": [
    {
     "data": {
      "text/plain": [
       "34607"
      ]
     },
     "execution_count": 28,
     "metadata": {},
     "output_type": "execute_result"
    }
   ],
   "source": [
    "# Read in Large Spotify dataset\n",
    "big_spotify = pd.read_csv('spotify_big.csv',  encoding='latin1')\n",
    "# We will match the billboard_track data and the spotify data one-to-one\n",
    "# We only require one result per track\n",
    "spotify_merge = big_spotify[big_spotify[\"Unnamed: 0.1\"]==0]\n",
    "# Subset interesting columns\n",
    "spotify_merge =spotify_merge[[\"acousticness\",\"artist\",\"danceability\",\"duration_ms\",\"energy\",\"key\",\"loudness\",\"mode\",\"track\",\"instrumentalness\",\"liveness\",\"valence\",\"tempo\",\"time_signature\"]]\n",
    "# Rename artist column\n",
    "spotify_merge=spotify_merge.rename(columns = {'artist':'spotify_artist'})\n",
    "spotify_merge=spotify_merge.reset_index()\n",
    "len(spotify_merge)"
   ]
  },
  {
   "cell_type": "code",
   "execution_count": 33,
   "metadata": {
    "collapsed": false
   },
   "outputs": [],
   "source": [
    "# Drop two extra rows\n",
    "spotify_merge=spotify_merge.drop(spotify_merge.index[[101,201]]).reset_index()\n",
    "# Merge data with the billboard_data\n",
    "merged_data=pd.concat([billboard_tracks, spotify_merge], axis=1)\n",
    "# Join data to billboard_list\n",
    "all_data=pd.merge(billboard_data,merged_data,how='left', on=['artist', 'title'])"
   ]
  },
  {
   "cell_type": "code",
   "execution_count": 37,
   "metadata": {
    "collapsed": false
   },
   "outputs": [],
   "source": [
    "spotify_merge.to_csv(\"spotify_scraped.csv\")"
   ]
  },
  {
   "cell_type": "code",
   "execution_count": 43,
   "metadata": {
    "collapsed": false
   },
   "outputs": [
    {
     "data": {
      "text/plain": [
       "0.7400086692674469"
      ]
     },
     "execution_count": 43,
     "metadata": {},
     "output_type": "execute_result"
    }
   ],
   "source": [
    "# Initial succes rate\n",
    "len(spotify_merge[spotify_merge.spotify_artist.notnull()])/len(spotify_merge)"
   ]
  },
  {
   "cell_type": "code",
   "execution_count": 14,
   "metadata": {
    "collapsed": false
   },
   "outputs": [
    {
     "name": "stderr",
     "output_type": "stream",
     "text": [
      "C:\\Users\\MSI_USER\\Anaconda3\\lib\\site-packages\\IPython\\core\\interactiveshell.py:2717: DtypeWarning: Columns (18,19,20,21,22,23,24,25,26,27,28,29) have mixed types. Specify dtype option on import or set low_memory=False.\n",
      "  interactivity=interactivity, compiler=compiler, result=result)\n"
     ]
    }
   ],
   "source": [
    "#Read in datasets from Decibels & Decimals\n",
    "billboard_data = pd.read_csv(\"all_charts.csv\")\n",
    "spotify_data = pd.read_csv(\"audio_features.csv\")"
   ]
  },
  {
   "cell_type": "code",
   "execution_count": 16,
   "metadata": {
    "collapsed": false
   },
   "outputs": [
    {
     "name": "stdout",
     "output_type": "stream",
     "text": [
      "<class 'pandas.core.frame.DataFrame'>\n",
      "RangeIndex: 304643 entries, 0 to 304642\n",
      "Data columns (total 30 columns):\n",
      "Unnamed: 0     304643 non-null int64\n",
      "chartDate      304643 non-null object\n",
      "title          304643 non-null object\n",
      "artist         304643 non-null object\n",
      "peakPos        304643 non-null int64\n",
      "lastPos        304643 non-null int64\n",
      "weeks          304643 non-null int64\n",
      "rank           304643 non-null int64\n",
      "change         304643 non-null object\n",
      "spotifyID      258820 non-null object\n",
      "spotifyLink    258820 non-null object\n",
      "videoLink      109357 non-null object\n",
      "artist_list    258820 non-null object\n",
      "track_name     258668 non-null object\n",
      "art_0          258668 non-null object\n",
      "art_1          27213 non-null object\n",
      "art_2          5337 non-null object\n",
      "art_3          1472 non-null object\n",
      "art_4          353 non-null object\n",
      "art_5          93 non-null object\n",
      "art_6          34 non-null object\n",
      "art_7          14 non-null object\n",
      "art_8          11 non-null object\n",
      "art_9          11 non-null object\n",
      "art_10         11 non-null object\n",
      "art_11         11 non-null object\n",
      "art_12         11 non-null object\n",
      "art_13         4 non-null object\n",
      "art_14         4 non-null object\n",
      "art_15         4 non-null object\n",
      "dtypes: int64(5), object(25)\n",
      "memory usage: 69.7+ MB\n",
      "<class 'pandas.core.frame.DataFrame'>\n",
      "RangeIndex: 21611 entries, 0 to 21610\n",
      "Data columns (total 19 columns):\n",
      "Unnamed: 0          21611 non-null int64\n",
      "acousticness        21611 non-null float64\n",
      "analysis_url        21611 non-null object\n",
      "danceability        21610 non-null float64\n",
      "duration_ms         21611 non-null float64\n",
      "energy              21611 non-null float64\n",
      "id                  21611 non-null object\n",
      "instrumentalness    21611 non-null float64\n",
      "key                 21611 non-null float64\n",
      "liveness            21611 non-null float64\n",
      "loudness            21611 non-null float64\n",
      "mode                21611 non-null float64\n",
      "speechiness         21610 non-null float64\n",
      "tempo               21611 non-null float64\n",
      "time_signature      21609 non-null float64\n",
      "track_href          21611 non-null object\n",
      "type                21611 non-null object\n",
      "uri                 21611 non-null object\n",
      "valence             21610 non-null float64\n",
      "dtypes: float64(13), int64(1), object(5)\n",
      "memory usage: 3.1+ MB\n"
     ]
    }
   ],
   "source": [
    "billboard_data.info()\n",
    "spotify_data.info()"
   ]
  },
  {
   "cell_type": "code",
   "execution_count": 20,
   "metadata": {
    "collapsed": false
   },
   "outputs": [],
   "source": [
    "# For this project we only need the chartDate, title, artist, peakPos, lastPos, weeks, rank, change and \n",
    "# spotifyLink columns from billboard_data and the acousticness, danceability, duration_ms, energy, id,\n",
    "# instrumentalness, key, liveness, loudness, mode, speechiness, tempo, time_signature and valence columns\n",
    "# from the spotify_data\n",
    "billboard_sub = billboard_data[[\"chartDate\",\"title\",\"artist\",\"peakPos\",\"lastPos\",\"weeks\",\"rank\",\"change\",\"spotifyID\"]]\n",
    "spotify_sub = spotify_data[[\"acousticness\", \"danceability\", \"duration_ms\", \"energy\", \"id\",\"instrumentalness\", \"key\", \"liveness\", \"loudness\", \"mode\", \"speechiness\", \"tempo\", \"time_signature\",\"valence\"]]"
   ]
  },
  {
   "cell_type": "code",
   "execution_count": 25,
   "metadata": {
    "collapsed": false
   },
   "outputs": [],
   "source": [
    "# We merged the datasets from Decibels & Decimals together and create a new csv file\n",
    "merged_data=pd.merge(billboard_sub,spotify_sub, how=\"outer\",left_on=\"spotifyID\",right_on=\"id\")\n",
    "merged_data.to_csv(\"all_spotify_data.csv\")"
   ]
  },
  {
   "cell_type": "code",
   "execution_count": 45,
   "metadata": {
    "collapsed": false
   },
   "outputs": [],
   "source": [
    "# Read in the merged datasets from Decibels & Decimals and create a subset of individual tracks \n",
    "new_big_data=pd.read_csv(\"all_spotify_data.csv\",encoding='latin1')"
   ]
  },
  {
   "cell_type": "code",
   "execution_count": 46,
   "metadata": {
    "collapsed": false
   },
   "outputs": [
    {
     "data": {
      "text/plain": [
       "27588"
      ]
     },
     "execution_count": 46,
     "metadata": {},
     "output_type": "execute_result"
    }
   ],
   "source": [
    "search_data=new_big_data.groupby([\"title\",\"artist\"]).size().reset_index()\n",
    "len(search_data)"
   ]
  },
  {
   "cell_type": "code",
   "execution_count": 40,
   "metadata": {
    "collapsed": false
   },
   "outputs": [
    {
     "data": {
      "text/plain": [
       "78.33478323908946"
      ]
     },
     "execution_count": 40,
     "metadata": {},
     "output_type": "execute_result"
    }
   ],
   "source": [
    "# We have Spotify Data for 78.33% of the tracks in the Billboard Top 100.\n",
    "len(spotify_data)/len(search_data)*100"
   ]
  },
  {
   "cell_type": "code",
   "execution_count": 34,
   "metadata": {
    "collapsed": false
   },
   "outputs": [
    {
     "name": "stdout",
     "output_type": "stream",
     "text": [
      "features retrieved in 0.00 seconds\n"
     ]
    }
   ],
   "source": [
    "lyrics_data = pd.DataFrame()\n",
    "lower_limit =0\n",
    "upper_limit =27588\n",
    "lyrics_table = 'lyrics-' +str(lower_limit)+\"-\"+ str(upper_limit)+'.csv'\n",
    "start = time.time()\n",
    "# We use the same procedure as before to obtain the lyrics data for the songs.\n",
    "# We cycle through the rows in the search_data dataframe.\n",
    "# We search for the lyric data for each track and add the lyrics to the lyrics_data dataframe.\n",
    "for row in range(lower_limit,upper_limit):\n",
    "    artist_raw = search_data.iloc[row,1]\n",
    "    artist_noand=artist_raw.replace(\" &\",\"\").replace(\". \",\"-\").replace(\"Ã©\",\"e\").replace(\"$\", \"s\")\n",
    "    artist_array = re.split(r'.Featuring+', artist_noand) # Consider only the first listed artist\n",
    "    track_raw=search_data.iloc[row,0]\n",
    "    # Replace extended latin characters\n",
    "    track_name=track_raw.replace(\"Ã\\x83Â¶\",\"oe\").replace(\"Ã©\",\"e\").replace(\"ÃÂ©\",\"e\").replace(\"ÃÂ³\",'o')\n",
    "    track_name=track_name.replace(\"ÃÂ¡\",\"a\").replace(\"ÃÂ±\",\"n\").replace(\"Ã\\x83â\\x80\\x9c\",\"o\").replace(\"ÃÂ¿DÃÂ²\",\"do\").replace(\"ÃÂ\",\"a\")\n",
    "    track_name=re.sub(r'\\&\\s', '', track_name).replace(\"$\", \"s\").replace(\"#\",\"\") # Replace certain characters\n",
    "    track_name=re.sub(r'S\\*\\*t', 'Shit',track_name) # Replace profanity\n",
    "    track_name=re.sub(r'\\(|\\)|\\'|\\|\\.|\\\"|\\,', '',track_name).lower() # Remove special characters\n",
    "    # We now try to scrape five different lyrics sites using predictable urls based on the artist and track names.\n",
    "    artist_first_letter=artist_array[0][0]\n",
    "    # The formatting for lyricsmode.com \n",
    "    artist_mode = re.sub(r'\\s|\\.|-', '_',artist_array[0]).replace(\",\",\"\").lower()\n",
    "    track_mode = re.sub(r'\\s', '_',track_name)\n",
    "    # The track formatting for songlyrics.com and metrolyrics.com is the same.\n",
    "    # The artist formatting is different if the band starts with \"The \".\n",
    "    artist_song = re.sub(r'\\s|\\.', '-',artist_array[0]).replace(\",\",\"\").lower()\n",
    "    track_songmetro = re.sub(r'\\s', '-',track_name)\n",
    "    track_az = re.sub(r'\\s', '',track_name)  # The track formatting for azlyrics.com\n",
    "    artist_mmatch = re.sub(r'.And', '',artist_array[0]) # The artist formatting for musixmatch.com\n",
    "    artist_mmatch = re.sub(r'\\s|\\.', '-',artist_mmatch).replace(\",\",\"\").lower()\n",
    "    # The urls for bands that start with \"The \" are formatted differently.\n",
    "    if artist_array[0].startswith(\"The \"):\n",
    "        the_array = re.split(r'The ',artist_array[0])\n",
    "        artist_az = re.sub(r'\\'|\\s|\\.|-|\\,', '',the_array[1]).lower()\n",
    "        artist_metro = re.sub(r'\\.', '-',the_array[1]).replace(\",\",\"\").replace(\" \",\"-\").lower()\n",
    "    else:\n",
    "        artist_az = re.sub(r'\\'|\\s|\\.|-|\\,', '',artist_array[0]).lower()\n",
    "        artist_metro=artist_song\n",
    "    # Metro lyrics is inconsistent on whether it keeps \"The \" in the url so we have two possibilities.    \n",
    "    url_metro_one = 'http://www.metrolyrics.com/'+track_songmetro+'-lyrics-'+artist_metro+'.html'\n",
    "    url_metro_two = 'http://www.metrolyrics.com/'+track_songmetro+'-lyrics-'+artist_song+'.html'\n",
    "    url_songlyrics = 'http://www.songlyrics.com/'+artist_song+'/'+track_songmetro+'-lyrics/'\n",
    "    url_mode= 'http://www.lyricsmode.com/lyrics/'+artist_first_letter+'/'+artist_mode+'/'+track_mode+'.html'\n",
    "    url_music_match = 'https://www.musixmatch.com/lyrics/' + artist_mmatch + '/' + track_songmetro\n",
    "    url_azlyrics=\"http://www.azlyrics.com/lyrics/\"+artist_az+\"/\"+track_az+\".html\"\n",
    "    URLS=[url_metro_one,url_metro_two,url_songlyrics,url_mode, url_azlyrics, url_music_match]\n",
    "    lyriclocations = ['lyrics-body-text', 'lyrics-body-text','songLyricsDiv','lyrics_text',\"azlyrics\",'mmatch']\n",
    "    choice =\"\"\n",
    "    for u in range(0,len(URLS)):\n",
    "        #We now cycle through each possbile url until we get a match.\n",
    "        # We then scrape the lyric text from the website using beautiful soup.\n",
    "        lyrics_request = urllib.request.Request(URLS[u],headers={'User-Agent': 'Mozilla/5.0 (Windows NT 10.0; WOW64; rv:52.0) Gecko/20100101 Firefox/52.0'})\n",
    "        try:\n",
    "            lyrics_web = urllib.request.urlopen(lyrics_request)\n",
    "            lyrics_code = lyrics_web.read()\n",
    "            soup = BeautifulSoup(lyrics_code, 'html.parser')\n",
    "            if u==4:\n",
    "                lyrics_array = soup.find_all(\"div\", class_=\"\")\n",
    "            elif u == 5:\n",
    "                lyrics_array = soup.find_all(class_=\"mxm-lyrics__content\")\n",
    "            else:\n",
    "                lyrics_array = soup.find_all(id=lyriclocations[u])\n",
    "            lyrics_text=\"\"\n",
    "            for lyrics in lyrics_array:\n",
    "                lyrics_text += lyrics.get_text()\n",
    "            # Some websites exist with no lyrics where the text is \"\\r\\n \", \"\\r\\r\\n \", \"\\r\\r\\r\\n \", or \"\\r\\r\\r\\r\\n \" or \"\\n\".\n",
    "            if lyrics_text != \"\" and lyrics_text != \"\\r\\n \" and lyrics_text != \"\\n\" and lyrics_text != \"\\r\\r\\n \" and lyrics_text != \"\\r\\r\\r\\n \" and lyrics_text != \"\\r\\r\\r\\r\\n \":\n",
    "                choice=u\n",
    "                break\n",
    "        except urllib.request.HTTPError as e:\n",
    "            lyrics_text=\"\"\n",
    "            pass        \n",
    "    add_frame = {\"artist\":artist_raw, \"track\": track_raw, \"lyrics\":lyrics_text, \"source\":choice}\n",
    "    lyrics_data = lyrics_data.append(add_frame,ignore_index=True)\n",
    "    # In order to not overwhelm the websites we have a delay of 45 seconds every 50 requests.\n",
    "    if row%50==0 and row!=lower_limit and row!=upper_limit:\n",
    "        sleep(45)\n",
    "delta = time.time() - start\n",
    "print (\"features retrieved in %.2f seconds\" % (delta,))\n",
    "lyrics_data.to_csv(lyrics_table)"
   ]
  },
  {
   "cell_type": "code",
   "execution_count": 30,
   "metadata": {
    "collapsed": true
   },
   "outputs": [],
   "source": [
    "# Cleaning and Wrangling step\n",
    "# Begin to join all the csv files together, some may require adding in an additional empty row.\n",
    "lyrics_all=pd.DataFrame()\n",
    "lyrics_one = pd.read_csv('lyrics-0-100.csv',  encoding='latin1')\n",
    "lyrics_two = pd.read_csv('lyrics-100-1000.csv',  encoding='latin1')\n",
    "lyrics_all = pd.concat([lyrics_one,lyrics_two])\n",
    "lyrics_new = pd.read_csv('lyrics-1000-1096.csv',  encoding='latin1')\n",
    "lyrics_all = pd.concat([lyrics_all,lyrics_new])"
   ]
  },
  {
   "cell_type": "code",
   "execution_count": null,
   "metadata": {
    "collapsed": false
   },
   "outputs": [],
   "source": [
    "lyrics_new=pd.read_csv('lyrics-27587-27588.csv',encoding='latin1')\n",
    "lyrics_all = pd.concat([lyrics_all,lyrics_new])"
   ]
  },
  {
   "cell_type": "code",
   "execution_count": null,
   "metadata": {
    "collapsed": false
   },
   "outputs": [],
   "source": [
    "lyrics_merge=lyrics_all[[\"artist\",\"lyrics\",\"source\",\"track\"]].reset_index()\n",
    "lyrics_merge.to_csv('all_lyrics.csv')"
   ]
  },
  {
   "cell_type": "code",
   "execution_count": 3,
   "metadata": {
    "collapsed": false
   },
   "outputs": [],
   "source": [
    "billboard_lyrics = pd.read_csv(\"all_lyrics.csv\",encoding='latin1')"
   ]
  },
  {
   "cell_type": "code",
   "execution_count": 4,
   "metadata": {
    "collapsed": false
   },
   "outputs": [],
   "source": [
    "lyrics_sub=billboard_lyrics[[\"artist\",\"lyrics\",\"source\",\"track\"]]"
   ]
  },
  {
   "cell_type": "code",
   "execution_count": 5,
   "metadata": {
    "collapsed": false
   },
   "outputs": [
    {
     "data": {
      "text/plain": [
       "82.6047556908801"
      ]
     },
     "execution_count": 5,
     "metadata": {},
     "output_type": "execute_result"
    }
   ],
   "source": [
    "# We have Lyrics Data for 82.60% of the tracks in the Billboard Top 100.\n",
    "len(lyrics_sub[lyrics_sub.lyrics.notnull()])/len(lyrics_sub)*100"
   ]
  },
  {
   "cell_type": "code",
   "execution_count": 6,
   "metadata": {
    "collapsed": false
   },
   "outputs": [
    {
     "name": "stdout",
     "output_type": "stream",
     "text": [
      "<class 'pandas.core.frame.DataFrame'>\n",
      "RangeIndex: 27588 entries, 0 to 27587\n",
      "Data columns (total 4 columns):\n",
      "artist    27588 non-null object\n",
      "lyrics    22789 non-null object\n",
      "source    22789 non-null float64\n",
      "track     27588 non-null object\n",
      "dtypes: float64(1), object(3)\n",
      "memory usage: 862.2+ KB\n"
     ]
    }
   ],
   "source": [
    "lyrics_sub.info()"
   ]
  },
  {
   "cell_type": "code",
   "execution_count": 20,
   "metadata": {
    "collapsed": false
   },
   "outputs": [
    {
     "data": {
      "text/html": [
       "<div>\n",
       "<table border=\"1\" class=\"dataframe\">\n",
       "  <thead>\n",
       "    <tr style=\"text-align: right;\">\n",
       "      <th></th>\n",
       "      <th>lyrics count</th>\n",
       "      <th>source</th>\n",
       "    </tr>\n",
       "  </thead>\n",
       "  <tbody>\n",
       "    <tr>\n",
       "      <th>0</th>\n",
       "      <td>14527.0</td>\n",
       "      <td>metrolyrics.com</td>\n",
       "    </tr>\n",
       "    <tr>\n",
       "      <th>1</th>\n",
       "      <td>6594.0</td>\n",
       "      <td>songlyrics.com</td>\n",
       "    </tr>\n",
       "    <tr>\n",
       "      <th>2</th>\n",
       "      <td>1650.0</td>\n",
       "      <td>lyricsmode.com</td>\n",
       "    </tr>\n",
       "    <tr>\n",
       "      <th>3</th>\n",
       "      <td>6.0</td>\n",
       "      <td>azlyrics.com</td>\n",
       "    </tr>\n",
       "    <tr>\n",
       "      <th>4</th>\n",
       "      <td>12.0</td>\n",
       "      <td>musixmatch.com</td>\n",
       "    </tr>\n",
       "  </tbody>\n",
       "</table>\n",
       "</div>"
      ],
      "text/plain": [
       "   lyrics count           source\n",
       "0       14527.0  metrolyrics.com\n",
       "1        6594.0   songlyrics.com\n",
       "2        1650.0   lyricsmode.com\n",
       "3           6.0     azlyrics.com\n",
       "4          12.0   musixmatch.com"
      ]
     },
     "execution_count": 20,
     "metadata": {},
     "output_type": "execute_result"
    }
   ],
   "source": [
    "source_data=pd.DataFrame()\n",
    "lyrics_count = len(lyrics_sub[lyrics_sub.source ==0])+len(lyrics_sub[lyrics_sub.source==1])\n",
    "source_data = source_data.append({\"source\":\"metrolyrics.com\",\"lyrics count\":lyrics_count},ignore_index=True)\n",
    "lyrics_sources = [\"songlyrics.com\",\"lyricsmode.com\",\"azlyrics.com\",\"musixmatch.com\"] \n",
    "for u in range(0,len(lyrics_sources)):\n",
    "    lyrics_count = len(lyrics_sub[lyrics_sub.source ==u+2])\n",
    "    source_data = source_data.append({\"source\":lyrics_sources[u],\"lyrics count\":lyrics_count},ignore_index=True)\n",
    "source_data"
   ]
  },
  {
   "cell_type": "code",
   "execution_count": 49,
   "metadata": {
    "collapsed": false
   },
   "outputs": [
    {
     "name": "stdout",
     "output_type": "stream",
     "text": [
      "<class 'pandas.core.frame.DataFrame'>\n",
      "RangeIndex: 304643 entries, 0 to 304642\n",
      "Data columns (total 24 columns):\n",
      "Unnamed: 0          304643 non-null int64\n",
      "chartDate           304643 non-null object\n",
      "title               304643 non-null object\n",
      "artist              304643 non-null object\n",
      "peakPos             304643 non-null int64\n",
      "lastPos             304643 non-null int64\n",
      "weeks               304643 non-null int64\n",
      "rank                304643 non-null int64\n",
      "change              304643 non-null object\n",
      "spotifyID           258820 non-null object\n",
      "acousticness        258820 non-null float64\n",
      "danceability        258808 non-null float64\n",
      "duration_ms         258820 non-null float64\n",
      "energy              258820 non-null float64\n",
      "id                  258820 non-null object\n",
      "instrumentalness    258820 non-null float64\n",
      "key                 258820 non-null float64\n",
      "liveness            258820 non-null float64\n",
      "loudness            258820 non-null float64\n",
      "mode                258820 non-null float64\n",
      "speechiness         258808 non-null float64\n",
      "tempo               258820 non-null float64\n",
      "time_signature      258781 non-null float64\n",
      "valence             258808 non-null float64\n",
      "dtypes: float64(13), int64(5), object(6)\n",
      "memory usage: 55.8+ MB\n"
     ]
    }
   ],
   "source": [
    "new_big_data.info()"
   ]
  },
  {
   "cell_type": "code",
   "execution_count": 82,
   "metadata": {
    "collapsed": false
   },
   "outputs": [],
   "source": [
    "spotify_check=new_big_data[[\"title\",\"artist\",\"chartDate\",\"peakPos\",\"lastPos\",\"weeks\",\"rank\",\"change\",\"acousticness\",\"danceability\",\"duration_ms\",\"energy\",\"instrumentalness\",\"key\",\"liveness\",\"loudness\", \"mode\",\"speechiness\",\"tempo\",\"time_signature\",\"valence\"]]"
   ]
  },
  {
   "cell_type": "code",
   "execution_count": 83,
   "metadata": {
    "collapsed": false
   },
   "outputs": [
    {
     "data": {
      "text/html": [
       "<div>\n",
       "<table border=\"1\" class=\"dataframe\">\n",
       "  <thead>\n",
       "    <tr style=\"text-align: right;\">\n",
       "      <th></th>\n",
       "      <th>peakPos</th>\n",
       "      <th>lastPos</th>\n",
       "      <th>weeks</th>\n",
       "      <th>rank</th>\n",
       "      <th>acousticness</th>\n",
       "      <th>danceability</th>\n",
       "      <th>duration_ms</th>\n",
       "      <th>energy</th>\n",
       "      <th>instrumentalness</th>\n",
       "      <th>key</th>\n",
       "      <th>liveness</th>\n",
       "      <th>loudness</th>\n",
       "      <th>mode</th>\n",
       "      <th>speechiness</th>\n",
       "      <th>tempo</th>\n",
       "      <th>time_signature</th>\n",
       "      <th>valence</th>\n",
       "    </tr>\n",
       "  </thead>\n",
       "  <tbody>\n",
       "    <tr>\n",
       "      <th>count</th>\n",
       "      <td>304643.000000</td>\n",
       "      <td>304643.000000</td>\n",
       "      <td>304643.000000</td>\n",
       "      <td>304643.000000</td>\n",
       "      <td>258820.000000</td>\n",
       "      <td>258808.000000</td>\n",
       "      <td>2.588200e+05</td>\n",
       "      <td>258820.000000</td>\n",
       "      <td>258820.000000</td>\n",
       "      <td>258820.000000</td>\n",
       "      <td>258820.000000</td>\n",
       "      <td>258820.000000</td>\n",
       "      <td>258820.000000</td>\n",
       "      <td>258808.000000</td>\n",
       "      <td>258820.000000</td>\n",
       "      <td>258781.000000</td>\n",
       "      <td>258808.000000</td>\n",
       "    </tr>\n",
       "    <tr>\n",
       "      <th>mean</th>\n",
       "      <td>30.760100</td>\n",
       "      <td>43.232797</td>\n",
       "      <td>13.902463</td>\n",
       "      <td>50.503392</td>\n",
       "      <td>0.270276</td>\n",
       "      <td>0.605626</td>\n",
       "      <td>2.286347e+05</td>\n",
       "      <td>0.632491</td>\n",
       "      <td>0.034109</td>\n",
       "      <td>5.224256</td>\n",
       "      <td>0.192357</td>\n",
       "      <td>-8.366804</td>\n",
       "      <td>0.729318</td>\n",
       "      <td>0.069378</td>\n",
       "      <td>120.303540</td>\n",
       "      <td>3.940718</td>\n",
       "      <td>0.604654</td>\n",
       "    </tr>\n",
       "    <tr>\n",
       "      <th>std</th>\n",
       "      <td>26.145309</td>\n",
       "      <td>30.145844</td>\n",
       "      <td>8.151371</td>\n",
       "      <td>28.866553</td>\n",
       "      <td>0.272556</td>\n",
       "      <td>0.151662</td>\n",
       "      <td>6.246360e+04</td>\n",
       "      <td>0.198102</td>\n",
       "      <td>0.139918</td>\n",
       "      <td>3.551212</td>\n",
       "      <td>0.164467</td>\n",
       "      <td>3.553880</td>\n",
       "      <td>0.444313</td>\n",
       "      <td>0.074781</td>\n",
       "      <td>28.090947</td>\n",
       "      <td>0.297135</td>\n",
       "      <td>0.236085</td>\n",
       "    </tr>\n",
       "    <tr>\n",
       "      <th>min</th>\n",
       "      <td>1.000000</td>\n",
       "      <td>0.000000</td>\n",
       "      <td>0.000000</td>\n",
       "      <td>1.000000</td>\n",
       "      <td>0.000001</td>\n",
       "      <td>0.078200</td>\n",
       "      <td>3.706700e+04</td>\n",
       "      <td>0.016700</td>\n",
       "      <td>0.000000</td>\n",
       "      <td>0.000000</td>\n",
       "      <td>0.013600</td>\n",
       "      <td>-29.110000</td>\n",
       "      <td>0.000000</td>\n",
       "      <td>0.021600</td>\n",
       "      <td>0.000000</td>\n",
       "      <td>1.000000</td>\n",
       "      <td>0.033500</td>\n",
       "    </tr>\n",
       "    <tr>\n",
       "      <th>25%</th>\n",
       "      <td>8.000000</td>\n",
       "      <td>16.000000</td>\n",
       "      <td>8.000000</td>\n",
       "      <td>26.000000</td>\n",
       "      <td>0.039800</td>\n",
       "      <td>0.505000</td>\n",
       "      <td>1.878670e+05</td>\n",
       "      <td>0.490000</td>\n",
       "      <td>0.000000</td>\n",
       "      <td>2.000000</td>\n",
       "      <td>0.089300</td>\n",
       "      <td>-10.623000</td>\n",
       "      <td>0.000000</td>\n",
       "      <td>0.032000</td>\n",
       "      <td>99.233000</td>\n",
       "      <td>4.000000</td>\n",
       "      <td>0.422000</td>\n",
       "    </tr>\n",
       "    <tr>\n",
       "      <th>50%</th>\n",
       "      <td>24.000000</td>\n",
       "      <td>42.000000</td>\n",
       "      <td>13.000000</td>\n",
       "      <td>51.000000</td>\n",
       "      <td>0.165000</td>\n",
       "      <td>0.616000</td>\n",
       "      <td>2.256670e+05</td>\n",
       "      <td>0.653000</td>\n",
       "      <td>0.000005</td>\n",
       "      <td>5.000000</td>\n",
       "      <td>0.130000</td>\n",
       "      <td>-7.822000</td>\n",
       "      <td>1.000000</td>\n",
       "      <td>0.040900</td>\n",
       "      <td>118.854000</td>\n",
       "      <td>4.000000</td>\n",
       "      <td>0.626000</td>\n",
       "    </tr>\n",
       "    <tr>\n",
       "      <th>75%</th>\n",
       "      <td>50.000000</td>\n",
       "      <td>69.000000</td>\n",
       "      <td>19.000000</td>\n",
       "      <td>76.000000</td>\n",
       "      <td>0.454000</td>\n",
       "      <td>0.712000</td>\n",
       "      <td>2.600670e+05</td>\n",
       "      <td>0.792000</td>\n",
       "      <td>0.000505</td>\n",
       "      <td>8.000000</td>\n",
       "      <td>0.249000</td>\n",
       "      <td>-5.636000</td>\n",
       "      <td>1.000000</td>\n",
       "      <td>0.065700</td>\n",
       "      <td>135.958000</td>\n",
       "      <td>4.000000</td>\n",
       "      <td>0.802000</td>\n",
       "    </tr>\n",
       "    <tr>\n",
       "      <th>max</th>\n",
       "      <td>100.000000</td>\n",
       "      <td>110.000000</td>\n",
       "      <td>87.000000</td>\n",
       "      <td>100.000000</td>\n",
       "      <td>0.995000</td>\n",
       "      <td>0.986000</td>\n",
       "      <td>1.367093e+06</td>\n",
       "      <td>0.998000</td>\n",
       "      <td>0.989000</td>\n",
       "      <td>11.000000</td>\n",
       "      <td>0.993000</td>\n",
       "      <td>2.291000</td>\n",
       "      <td>1.000000</td>\n",
       "      <td>0.898000</td>\n",
       "      <td>217.682000</td>\n",
       "      <td>5.000000</td>\n",
       "      <td>0.990000</td>\n",
       "    </tr>\n",
       "  </tbody>\n",
       "</table>\n",
       "</div>"
      ],
      "text/plain": [
       "             peakPos        lastPos          weeks           rank  \\\n",
       "count  304643.000000  304643.000000  304643.000000  304643.000000   \n",
       "mean       30.760100      43.232797      13.902463      50.503392   \n",
       "std        26.145309      30.145844       8.151371      28.866553   \n",
       "min         1.000000       0.000000       0.000000       1.000000   \n",
       "25%         8.000000      16.000000       8.000000      26.000000   \n",
       "50%        24.000000      42.000000      13.000000      51.000000   \n",
       "75%        50.000000      69.000000      19.000000      76.000000   \n",
       "max       100.000000     110.000000      87.000000     100.000000   \n",
       "\n",
       "        acousticness   danceability   duration_ms         energy  \\\n",
       "count  258820.000000  258808.000000  2.588200e+05  258820.000000   \n",
       "mean        0.270276       0.605626  2.286347e+05       0.632491   \n",
       "std         0.272556       0.151662  6.246360e+04       0.198102   \n",
       "min         0.000001       0.078200  3.706700e+04       0.016700   \n",
       "25%         0.039800       0.505000  1.878670e+05       0.490000   \n",
       "50%         0.165000       0.616000  2.256670e+05       0.653000   \n",
       "75%         0.454000       0.712000  2.600670e+05       0.792000   \n",
       "max         0.995000       0.986000  1.367093e+06       0.998000   \n",
       "\n",
       "       instrumentalness            key       liveness       loudness  \\\n",
       "count     258820.000000  258820.000000  258820.000000  258820.000000   \n",
       "mean           0.034109       5.224256       0.192357      -8.366804   \n",
       "std            0.139918       3.551212       0.164467       3.553880   \n",
       "min            0.000000       0.000000       0.013600     -29.110000   \n",
       "25%            0.000000       2.000000       0.089300     -10.623000   \n",
       "50%            0.000005       5.000000       0.130000      -7.822000   \n",
       "75%            0.000505       8.000000       0.249000      -5.636000   \n",
       "max            0.989000      11.000000       0.993000       2.291000   \n",
       "\n",
       "                mode    speechiness          tempo  time_signature  \\\n",
       "count  258820.000000  258808.000000  258820.000000   258781.000000   \n",
       "mean        0.729318       0.069378     120.303540        3.940718   \n",
       "std         0.444313       0.074781      28.090947        0.297135   \n",
       "min         0.000000       0.021600       0.000000        1.000000   \n",
       "25%         0.000000       0.032000      99.233000        4.000000   \n",
       "50%         1.000000       0.040900     118.854000        4.000000   \n",
       "75%         1.000000       0.065700     135.958000        4.000000   \n",
       "max         1.000000       0.898000     217.682000        5.000000   \n",
       "\n",
       "             valence  \n",
       "count  258808.000000  \n",
       "mean        0.604654  \n",
       "std         0.236085  \n",
       "min         0.033500  \n",
       "25%         0.422000  \n",
       "50%         0.626000  \n",
       "75%         0.802000  \n",
       "max         0.990000  "
      ]
     },
     "execution_count": 83,
     "metadata": {},
     "output_type": "execute_result"
    }
   ],
   "source": [
    "spotify_check.describe()"
   ]
  },
  {
   "cell_type": "code",
   "execution_count": 86,
   "metadata": {
    "collapsed": false
   },
   "outputs": [
    {
     "data": {
      "text/html": [
       "<div>\n",
       "<table border=\"1\" class=\"dataframe\">\n",
       "  <thead>\n",
       "    <tr style=\"text-align: right;\">\n",
       "      <th></th>\n",
       "      <th>level_0</th>\n",
       "      <th>index</th>\n",
       "      <th>acousticness</th>\n",
       "      <th>danceability</th>\n",
       "      <th>duration_ms</th>\n",
       "      <th>energy</th>\n",
       "      <th>key</th>\n",
       "      <th>loudness</th>\n",
       "      <th>mode</th>\n",
       "      <th>instrumentalness</th>\n",
       "      <th>liveness</th>\n",
       "      <th>valence</th>\n",
       "      <th>tempo</th>\n",
       "      <th>time_signature</th>\n",
       "    </tr>\n",
       "  </thead>\n",
       "  <tbody>\n",
       "    <tr>\n",
       "      <th>count</th>\n",
       "      <td>34605.000000</td>\n",
       "      <td>34605.000000</td>\n",
       "      <td>25607.000000</td>\n",
       "      <td>25606.000000</td>\n",
       "      <td>2.560800e+04</td>\n",
       "      <td>25607.000000</td>\n",
       "      <td>25607.000000</td>\n",
       "      <td>25608.000000</td>\n",
       "      <td>25607.000000</td>\n",
       "      <td>25607.000000</td>\n",
       "      <td>25606.000000</td>\n",
       "      <td>25606.000000</td>\n",
       "      <td>25608.000000</td>\n",
       "      <td>25605.000000</td>\n",
       "    </tr>\n",
       "    <tr>\n",
       "      <th>mean</th>\n",
       "      <td>17303.991302</td>\n",
       "      <td>37953.762433</td>\n",
       "      <td>0.357793</td>\n",
       "      <td>0.581011</td>\n",
       "      <td>2.158540e+05</td>\n",
       "      <td>0.586640</td>\n",
       "      <td>5.206701</td>\n",
       "      <td>-9.431121</td>\n",
       "      <td>0.755926</td>\n",
       "      <td>0.057954</td>\n",
       "      <td>0.198138</td>\n",
       "      <td>0.620029</td>\n",
       "      <td>119.808497</td>\n",
       "      <td>3.908924</td>\n",
       "    </tr>\n",
       "    <tr>\n",
       "      <th>std</th>\n",
       "      <td>9989.762363</td>\n",
       "      <td>21919.466771</td>\n",
       "      <td>0.310054</td>\n",
       "      <td>0.154681</td>\n",
       "      <td>6.870432e+04</td>\n",
       "      <td>0.215726</td>\n",
       "      <td>3.541416</td>\n",
       "      <td>3.727462</td>\n",
       "      <td>0.429545</td>\n",
       "      <td>0.187764</td>\n",
       "      <td>0.166580</td>\n",
       "      <td>0.239801</td>\n",
       "      <td>28.281987</td>\n",
       "      <td>0.352176</td>\n",
       "    </tr>\n",
       "    <tr>\n",
       "      <th>min</th>\n",
       "      <td>0.000000</td>\n",
       "      <td>0.000000</td>\n",
       "      <td>0.000001</td>\n",
       "      <td>0.079100</td>\n",
       "      <td>7.500000e+03</td>\n",
       "      <td>0.001660</td>\n",
       "      <td>0.000000</td>\n",
       "      <td>-60.000000</td>\n",
       "      <td>0.000000</td>\n",
       "      <td>0.000000</td>\n",
       "      <td>0.006450</td>\n",
       "      <td>0.035000</td>\n",
       "      <td>0.000000</td>\n",
       "      <td>1.000000</td>\n",
       "    </tr>\n",
       "    <tr>\n",
       "      <th>25%</th>\n",
       "      <td>8653.000000</td>\n",
       "      <td>19127.000000</td>\n",
       "      <td>0.064500</td>\n",
       "      <td>0.479000</td>\n",
       "      <td>1.659035e+05</td>\n",
       "      <td>0.430000</td>\n",
       "      <td>2.000000</td>\n",
       "      <td>-11.832250</td>\n",
       "      <td>1.000000</td>\n",
       "      <td>0.000000</td>\n",
       "      <td>0.091800</td>\n",
       "      <td>0.435000</td>\n",
       "      <td>98.964750</td>\n",
       "      <td>4.000000</td>\n",
       "    </tr>\n",
       "    <tr>\n",
       "      <th>50%</th>\n",
       "      <td>17304.000000</td>\n",
       "      <td>37959.000000</td>\n",
       "      <td>0.273000</td>\n",
       "      <td>0.591000</td>\n",
       "      <td>2.073665e+05</td>\n",
       "      <td>0.600000</td>\n",
       "      <td>5.000000</td>\n",
       "      <td>-9.140000</td>\n",
       "      <td>1.000000</td>\n",
       "      <td>0.000013</td>\n",
       "      <td>0.134000</td>\n",
       "      <td>0.650000</td>\n",
       "      <td>118.095500</td>\n",
       "      <td>4.000000</td>\n",
       "    </tr>\n",
       "    <tr>\n",
       "      <th>75%</th>\n",
       "      <td>25955.000000</td>\n",
       "      <td>56991.000000</td>\n",
       "      <td>0.635500</td>\n",
       "      <td>0.691000</td>\n",
       "      <td>2.508710e+05</td>\n",
       "      <td>0.760000</td>\n",
       "      <td>8.000000</td>\n",
       "      <td>-6.646000</td>\n",
       "      <td>1.000000</td>\n",
       "      <td>0.001520</td>\n",
       "      <td>0.259000</td>\n",
       "      <td>0.824000</td>\n",
       "      <td>135.102500</td>\n",
       "      <td>4.000000</td>\n",
       "    </tr>\n",
       "    <tr>\n",
       "      <th>max</th>\n",
       "      <td>34606.000000</td>\n",
       "      <td>75939.000000</td>\n",
       "      <td>0.995000</td>\n",
       "      <td>0.988000</td>\n",
       "      <td>1.561133e+06</td>\n",
       "      <td>0.997000</td>\n",
       "      <td>11.000000</td>\n",
       "      <td>2.291000</td>\n",
       "      <td>1.000000</td>\n",
       "      <td>0.989000</td>\n",
       "      <td>0.999000</td>\n",
       "      <td>1.000000</td>\n",
       "      <td>243.495000</td>\n",
       "      <td>5.000000</td>\n",
       "    </tr>\n",
       "  </tbody>\n",
       "</table>\n",
       "</div>"
      ],
      "text/plain": [
       "            level_0         index  acousticness  danceability   duration_ms  \\\n",
       "count  34605.000000  34605.000000  25607.000000  25606.000000  2.560800e+04   \n",
       "mean   17303.991302  37953.762433      0.357793      0.581011  2.158540e+05   \n",
       "std     9989.762363  21919.466771      0.310054      0.154681  6.870432e+04   \n",
       "min        0.000000      0.000000      0.000001      0.079100  7.500000e+03   \n",
       "25%     8653.000000  19127.000000      0.064500      0.479000  1.659035e+05   \n",
       "50%    17304.000000  37959.000000      0.273000      0.591000  2.073665e+05   \n",
       "75%    25955.000000  56991.000000      0.635500      0.691000  2.508710e+05   \n",
       "max    34606.000000  75939.000000      0.995000      0.988000  1.561133e+06   \n",
       "\n",
       "             energy           key      loudness          mode  \\\n",
       "count  25607.000000  25607.000000  25608.000000  25607.000000   \n",
       "mean       0.586640      5.206701     -9.431121      0.755926   \n",
       "std        0.215726      3.541416      3.727462      0.429545   \n",
       "min        0.001660      0.000000    -60.000000      0.000000   \n",
       "25%        0.430000      2.000000    -11.832250      1.000000   \n",
       "50%        0.600000      5.000000     -9.140000      1.000000   \n",
       "75%        0.760000      8.000000     -6.646000      1.000000   \n",
       "max        0.997000     11.000000      2.291000      1.000000   \n",
       "\n",
       "       instrumentalness      liveness       valence         tempo  \\\n",
       "count      25607.000000  25606.000000  25606.000000  25608.000000   \n",
       "mean           0.057954      0.198138      0.620029    119.808497   \n",
       "std            0.187764      0.166580      0.239801     28.281987   \n",
       "min            0.000000      0.006450      0.035000      0.000000   \n",
       "25%            0.000000      0.091800      0.435000     98.964750   \n",
       "50%            0.000013      0.134000      0.650000    118.095500   \n",
       "75%            0.001520      0.259000      0.824000    135.102500   \n",
       "max            0.989000      0.999000      1.000000    243.495000   \n",
       "\n",
       "       time_signature  \n",
       "count    25605.000000  \n",
       "mean         3.908924  \n",
       "std          0.352176  \n",
       "min          1.000000  \n",
       "25%          4.000000  \n",
       "50%          4.000000  \n",
       "75%          4.000000  \n",
       "max          5.000000  "
      ]
     },
     "execution_count": 86,
     "metadata": {},
     "output_type": "execute_result"
    }
   ],
   "source": [
    "spotify_merge.describe()"
   ]
  },
  {
   "cell_type": "code",
   "execution_count": null,
   "metadata": {
    "collapsed": false
   },
   "outputs": [],
   "source": []
  },
  {
   "cell_type": "code",
   "execution_count": null,
   "metadata": {
    "collapsed": false
   },
   "outputs": [],
   "source": []
  },
  {
   "cell_type": "code",
   "execution_count": null,
   "metadata": {
    "collapsed": false
   },
   "outputs": [],
   "source": []
  },
  {
   "cell_type": "code",
   "execution_count": null,
   "metadata": {
    "collapsed": false
   },
   "outputs": [],
   "source": []
  },
  {
   "cell_type": "code",
   "execution_count": null,
   "metadata": {
    "collapsed": false
   },
   "outputs": [],
   "source": []
  },
  {
   "cell_type": "code",
   "execution_count": null,
   "metadata": {
    "collapsed": false
   },
   "outputs": [],
   "source": []
  },
  {
   "cell_type": "code",
   "execution_count": null,
   "metadata": {
    "collapsed": false
   },
   "outputs": [],
   "source": []
  },
  {
   "cell_type": "code",
   "execution_count": null,
   "metadata": {
    "collapsed": false
   },
   "outputs": [],
   "source": []
  },
  {
   "cell_type": "code",
   "execution_count": null,
   "metadata": {
    "collapsed": false
   },
   "outputs": [],
   "source": []
  },
  {
   "cell_type": "code",
   "execution_count": null,
   "metadata": {
    "collapsed": false
   },
   "outputs": [],
   "source": []
  },
  {
   "cell_type": "code",
   "execution_count": null,
   "metadata": {
    "collapsed": false
   },
   "outputs": [],
   "source": []
  },
  {
   "cell_type": "code",
   "execution_count": null,
   "metadata": {
    "collapsed": false
   },
   "outputs": [],
   "source": []
  },
  {
   "cell_type": "code",
   "execution_count": null,
   "metadata": {
    "collapsed": true
   },
   "outputs": [],
   "source": []
  },
  {
   "cell_type": "code",
   "execution_count": null,
   "metadata": {
    "collapsed": false
   },
   "outputs": [],
   "source": []
  },
  {
   "cell_type": "code",
   "execution_count": 94,
   "metadata": {
    "collapsed": true
   },
   "outputs": [],
   "source": [
    "#### Remember to remove \"We do not have the lyrics yet\" from lyrics column and starts with CHORUS"
   ]
  },
  {
   "cell_type": "code",
   "execution_count": null,
   "metadata": {
    "collapsed": false
   },
   "outputs": [],
   "source": [
    "# Analysis"
   ]
  },
  {
   "cell_type": "code",
   "execution_count": null,
   "metadata": {
    "collapsed": false
   },
   "outputs": [],
   "source": []
  },
  {
   "cell_type": "code",
   "execution_count": 4,
   "metadata": {
    "collapsed": false
   },
   "outputs": [],
   "source": []
  },
  {
   "cell_type": "code",
   "execution_count": null,
   "metadata": {
    "collapsed": false
   },
   "outputs": [],
   "source": []
  },
  {
   "cell_type": "code",
   "execution_count": null,
   "metadata": {
    "collapsed": false
   },
   "outputs": [],
   "source": []
  },
  {
   "cell_type": "code",
   "execution_count": 55,
   "metadata": {
    "collapsed": false
   },
   "outputs": [],
   "source": []
  },
  {
   "cell_type": "code",
   "execution_count": 80,
   "metadata": {
    "collapsed": false
   },
   "outputs": [],
   "source": []
  },
  {
   "cell_type": "code",
   "execution_count": null,
   "metadata": {
    "collapsed": false
   },
   "outputs": [],
   "source": []
  },
  {
   "cell_type": "code",
   "execution_count": 89,
   "metadata": {
    "collapsed": false
   },
   "outputs": [],
   "source": []
  },
  {
   "cell_type": "code",
   "execution_count": null,
   "metadata": {
    "collapsed": false
   },
   "outputs": [],
   "source": []
  },
  {
   "cell_type": "code",
   "execution_count": null,
   "metadata": {
    "collapsed": false
   },
   "outputs": [],
   "source": []
  },
  {
   "cell_type": "code",
   "execution_count": null,
   "metadata": {
    "collapsed": false
   },
   "outputs": [],
   "source": []
  },
  {
   "cell_type": "code",
   "execution_count": 3,
   "metadata": {
    "collapsed": false
   },
   "outputs": [],
   "source": [
    "#Find the common words\n",
    "lyrics_list=billboard_lyrics[billboard_lyrics.lyrics.notnull()].reset_index()\n",
    "lower_limit =0\n",
    "upper_limit =len(lyrics_list)\n",
    "common_words = pd.DataFrame()\n",
    "rgx = re.compile(\"(\\w[\\w']*\\w|\\w)\")\n",
    "for row in range(lower_limit,upper_limit):\n",
    "    song_lyrics=lyrics_list.get_value(row,\"lyrics\")\n",
    "    words = rgx.findall(song_lyrics)\n",
    "    word_list = [word.lower() for word in words] \n",
    "    word_counts = Counter(word_list)\n",
    "    add_frame = {\"artist\":lyrics_list.get_value(row,\"artist\"), \"track\":lyrics_list.get_value(row,\"track\"), \"lyrics\":song_lyrics,\"common words\":word_counts.most_common()}\n",
    "    common_words = common_words.append(add_frame,ignore_index=True)"
   ]
  },
  {
   "cell_type": "code",
   "execution_count": 112,
   "metadata": {
    "collapsed": false
   },
   "outputs": [],
   "source": [
    "lyric_count=pd.merge(billboard_lyrics,common_words,how='left', on=['artist', 'track',\"lyrics\"])"
   ]
  },
  {
   "cell_type": "code",
   "execution_count": null,
   "metadata": {
    "collapsed": false
   },
   "outputs": [],
   "source": []
  },
  {
   "cell_type": "code",
   "execution_count": null,
   "metadata": {
    "collapsed": false
   },
   "outputs": [],
   "source": []
  },
  {
   "cell_type": "code",
   "execution_count": 7,
   "metadata": {
    "collapsed": false
   },
   "outputs": [
    {
     "data": {
      "text/html": [
       "<div>\n",
       "<table border=\"1\" class=\"dataframe\">\n",
       "  <thead>\n",
       "    <tr style=\"text-align: right;\">\n",
       "      <th></th>\n",
       "      <th>artist</th>\n",
       "      <th>l_count</th>\n",
       "      <th>lyrics</th>\n",
       "      <th>track</th>\n",
       "    </tr>\n",
       "  </thead>\n",
       "  <tbody>\n",
       "    <tr>\n",
       "      <th>5187</th>\n",
       "      <td>David Ruffin</td>\n",
       "      <td>94.0</td>\n",
       "      <td>Love is a flower that blooms\\r\\r\\nIn the sprin...</td>\n",
       "      <td>Everything's Coming Up Love</td>\n",
       "    </tr>\n",
       "    <tr>\n",
       "      <th>13609</th>\n",
       "      <td>August Alsina</td>\n",
       "      <td>90.0</td>\n",
       "      <td>\\r\\r\\nAugust (she said she understands yeah)\\r...</td>\n",
       "      <td>No Love</td>\n",
       "    </tr>\n",
       "    <tr>\n",
       "      <th>1035</th>\n",
       "      <td>Aretha Franklin</td>\n",
       "      <td>73.0</td>\n",
       "      <td>\\r\\r\\nI'm in love, yes I am\\r\\r\\nI'm in love, ...</td>\n",
       "      <td>Angel</td>\n",
       "    </tr>\n",
       "    <tr>\n",
       "      <th>14666</th>\n",
       "      <td>Nicki Minaj</td>\n",
       "      <td>73.0</td>\n",
       "      <td>\\r\\r\\nPills n potions\\r\\r\\nWe're overdosin'\\r\\...</td>\n",
       "      <td>Pills N Potions</td>\n",
       "    </tr>\n",
       "    <tr>\n",
       "      <th>21459</th>\n",
       "      <td>Esther Phillips</td>\n",
       "      <td>73.0</td>\n",
       "      <td>\\r\\r\\nI'm in love, yes I am\\r\\r\\nI'm in love, ...</td>\n",
       "      <td>When A Woman Loves A Man</td>\n",
       "    </tr>\n",
       "    <tr>\n",
       "      <th>8524</th>\n",
       "      <td>Busta Rhymes Featuring will.i.am &amp; Kelis</td>\n",
       "      <td>68.0</td>\n",
       "      <td>Busta Rhymes\\r\\r\\nMiscellaneous\\r\\r\\nI Love My...</td>\n",
       "      <td>I Love My B****</td>\n",
       "    </tr>\n",
       "    <tr>\n",
       "      <th>21755</th>\n",
       "      <td>KC And The Sunshine Band</td>\n",
       "      <td>63.0</td>\n",
       "      <td>\\r\\r\\nI've got this feelin' all down inside\\r\\...</td>\n",
       "      <td>Who Do Ya Love</td>\n",
       "    </tr>\n",
       "    <tr>\n",
       "      <th>9280</th>\n",
       "      <td>Wilson Pickett</td>\n",
       "      <td>60.0</td>\n",
       "      <td>\\r\\r\\nI'm in love, yes, I am\\r\\r\\nLove, love, ...</td>\n",
       "      <td>I'm In Love</td>\n",
       "    </tr>\n",
       "    <tr>\n",
       "      <th>15204</th>\n",
       "      <td>Cat Stevens</td>\n",
       "      <td>56.0</td>\n",
       "      <td>\\r\\r\\nI love I love I'm ready to love yes\\r\\r\\...</td>\n",
       "      <td>Ready</td>\n",
       "    </tr>\n",
       "    <tr>\n",
       "      <th>12005</th>\n",
       "      <td>The Spinners</td>\n",
       "      <td>55.0</td>\n",
       "      <td>\\r\\r\\nWhen you have tried to give your all\\r\\r...</td>\n",
       "      <td>Love Or Leave</td>\n",
       "    </tr>\n",
       "    <tr>\n",
       "      <th>11819</th>\n",
       "      <td>Sandee</td>\n",
       "      <td>54.0</td>\n",
       "      <td>Sometimes when\\r\\r\\nA woman's with men\\r\\r\\nSh...</td>\n",
       "      <td>Love Desire</td>\n",
       "    </tr>\n",
       "    <tr>\n",
       "      <th>12058</th>\n",
       "      <td>Donna Summer</td>\n",
       "      <td>54.0</td>\n",
       "      <td>\\r\\r\\nI love to love you baby\\r\\r\\nI love to l...</td>\n",
       "      <td>Love To Love You Baby</td>\n",
       "    </tr>\n",
       "    <tr>\n",
       "      <th>8857</th>\n",
       "      <td>Jody Watley</td>\n",
       "      <td>54.0</td>\n",
       "      <td>\\r\\r\\nWhen the night falls surrounds us gently...</td>\n",
       "      <td>I Want You</td>\n",
       "    </tr>\n",
       "    <tr>\n",
       "      <th>18121</th>\n",
       "      <td>Big Mountain</td>\n",
       "      <td>54.0</td>\n",
       "      <td>Ooh, yeah, yeah\\r\\r\\r\\n(spanish)\\r\\r\\r\\n(hay m...</td>\n",
       "      <td>Sweet Sensual Love</td>\n",
       "    </tr>\n",
       "    <tr>\n",
       "      <th>9943</th>\n",
       "      <td>Robin S.</td>\n",
       "      <td>53.0</td>\n",
       "      <td>Must be love\\r\\r\\nIt must be love, talkin' ?bo...</td>\n",
       "      <td>It Must Be Love</td>\n",
       "    </tr>\n",
       "    <tr>\n",
       "      <th>22836</th>\n",
       "      <td>Ke$ha</td>\n",
       "      <td>50.0</td>\n",
       "      <td>\\r\\r\\nMaybe I need some rehab\\r\\r\\nOr maybe ju...</td>\n",
       "      <td>Your Love Is My Drug</td>\n",
       "    </tr>\n",
       "    <tr>\n",
       "      <th>12060</th>\n",
       "      <td>MIKA</td>\n",
       "      <td>50.0</td>\n",
       "      <td>\\r\\r\\nDoom da da di da di\\r\\r\\nDoom da da di d...</td>\n",
       "      <td>Love Today</td>\n",
       "    </tr>\n",
       "    <tr>\n",
       "      <th>7869</th>\n",
       "      <td>Lil Wayne</td>\n",
       "      <td>49.0</td>\n",
       "      <td>\\r\\r\\nTurn the music up\\r\\r\\nA lil' louder, ye...</td>\n",
       "      <td>How To Love</td>\n",
       "    </tr>\n",
       "    <tr>\n",
       "      <th>12027</th>\n",
       "      <td>The B-52 s</td>\n",
       "      <td>49.0</td>\n",
       "      <td>If you see a faded sign at the side of the roa...</td>\n",
       "      <td>Love Shack</td>\n",
       "    </tr>\n",
       "    <tr>\n",
       "      <th>7574</th>\n",
       "      <td>Beyonce</td>\n",
       "      <td>49.0</td>\n",
       "      <td>\\r\\r\\nHold up, they don't love you like I love...</td>\n",
       "      <td>Hold Up</td>\n",
       "    </tr>\n",
       "  </tbody>\n",
       "</table>\n",
       "</div>"
      ],
      "text/plain": [
       "                                         artist  l_count  \\\n",
       "5187                               David Ruffin     94.0   \n",
       "13609                             August Alsina     90.0   \n",
       "1035                            Aretha Franklin     73.0   \n",
       "14666                               Nicki Minaj     73.0   \n",
       "21459                           Esther Phillips     73.0   \n",
       "8524   Busta Rhymes Featuring will.i.am & Kelis     68.0   \n",
       "21755                  KC And The Sunshine Band     63.0   \n",
       "9280                             Wilson Pickett     60.0   \n",
       "15204                               Cat Stevens     56.0   \n",
       "12005                              The Spinners     55.0   \n",
       "11819                                    Sandee     54.0   \n",
       "12058                              Donna Summer     54.0   \n",
       "8857                                Jody Watley     54.0   \n",
       "18121                              Big Mountain     54.0   \n",
       "9943                                   Robin S.     53.0   \n",
       "22836                                     Ke$ha     50.0   \n",
       "12060                                      MIKA     50.0   \n",
       "7869                                  Lil Wayne     49.0   \n",
       "12027                                The B-52 s     49.0   \n",
       "7574                                    Beyonce     49.0   \n",
       "\n",
       "                                                  lyrics  \\\n",
       "5187   Love is a flower that blooms\\r\\r\\nIn the sprin...   \n",
       "13609  \\r\\r\\nAugust (she said she understands yeah)\\r...   \n",
       "1035   \\r\\r\\nI'm in love, yes I am\\r\\r\\nI'm in love, ...   \n",
       "14666  \\r\\r\\nPills n potions\\r\\r\\nWe're overdosin'\\r\\...   \n",
       "21459  \\r\\r\\nI'm in love, yes I am\\r\\r\\nI'm in love, ...   \n",
       "8524   Busta Rhymes\\r\\r\\nMiscellaneous\\r\\r\\nI Love My...   \n",
       "21755  \\r\\r\\nI've got this feelin' all down inside\\r\\...   \n",
       "9280   \\r\\r\\nI'm in love, yes, I am\\r\\r\\nLove, love, ...   \n",
       "15204  \\r\\r\\nI love I love I'm ready to love yes\\r\\r\\...   \n",
       "12005  \\r\\r\\nWhen you have tried to give your all\\r\\r...   \n",
       "11819  Sometimes when\\r\\r\\nA woman's with men\\r\\r\\nSh...   \n",
       "12058  \\r\\r\\nI love to love you baby\\r\\r\\nI love to l...   \n",
       "8857   \\r\\r\\nWhen the night falls surrounds us gently...   \n",
       "18121  Ooh, yeah, yeah\\r\\r\\r\\n(spanish)\\r\\r\\r\\n(hay m...   \n",
       "9943   Must be love\\r\\r\\nIt must be love, talkin' ?bo...   \n",
       "22836  \\r\\r\\nMaybe I need some rehab\\r\\r\\nOr maybe ju...   \n",
       "12060  \\r\\r\\nDoom da da di da di\\r\\r\\nDoom da da di d...   \n",
       "7869   \\r\\r\\nTurn the music up\\r\\r\\nA lil' louder, ye...   \n",
       "12027  If you see a faded sign at the side of the roa...   \n",
       "7574   \\r\\r\\nHold up, they don't love you like I love...   \n",
       "\n",
       "                             track  \n",
       "5187   Everything's Coming Up Love  \n",
       "13609                      No Love  \n",
       "1035                         Angel  \n",
       "14666              Pills N Potions  \n",
       "21459     When A Woman Loves A Man  \n",
       "8524               I Love My B****  \n",
       "21755               Who Do Ya Love  \n",
       "9280                   I'm In Love  \n",
       "15204                        Ready  \n",
       "12005                Love Or Leave  \n",
       "11819                  Love Desire  \n",
       "12058        Love To Love You Baby  \n",
       "8857                    I Want You  \n",
       "18121           Sweet Sensual Love  \n",
       "9943               It Must Be Love  \n",
       "22836         Your Love Is My Drug  \n",
       "12060                   Love Today  \n",
       "7869                   How To Love  \n",
       "12027                   Love Shack  \n",
       "7574                       Hold Up  "
      ]
     },
     "execution_count": 7,
     "metadata": {},
     "output_type": "execute_result"
    }
   ],
   "source": [
    "n_frame=pd.DataFrame()\n",
    "lower_limit =0\n",
    "upper_limit =len(common_words)\n",
    "n_words = pd.DataFrame()\n",
    "for row in range(lower_limit,upper_limit):\n",
    "    the_word_count=common_words.get_value(row,\"common words\")\n",
    "    l_count=0\n",
    "    for word in the_word_count:\n",
    "        if word[0]=='love':\n",
    "            l_count = word[1]          \n",
    "    add_frame = {\"artist\":common_words.get_value(row,\"artist\"), \"track\":common_words.get_value(row,\"track\"), \"lyrics\":common_words.get_value(row,\"lyrics\"),\"l_count\":l_count}\n",
    "    n_frame = n_frame.append(add_frame,ignore_index=True)\n",
    "n_frame.sort_values(by=\"l_count\",ascending=False).head(20)"
   ]
  },
  {
   "cell_type": "code",
   "execution_count": null,
   "metadata": {
    "collapsed": false
   },
   "outputs": [],
   "source": []
  },
  {
   "cell_type": "code",
   "execution_count": null,
   "metadata": {
    "collapsed": false
   },
   "outputs": [],
   "source": [
    "\n"
   ]
  },
  {
   "cell_type": "code",
   "execution_count": null,
   "metadata": {
    "collapsed": false
   },
   "outputs": [],
   "source": []
  },
  {
   "cell_type": "code",
   "execution_count": 38,
   "metadata": {
    "collapsed": false
   },
   "outputs": [],
   "source": []
  },
  {
   "cell_type": "code",
   "execution_count": null,
   "metadata": {
    "collapsed": false
   },
   "outputs": [],
   "source": []
  },
  {
   "cell_type": "code",
   "execution_count": null,
   "metadata": {
    "collapsed": false
   },
   "outputs": [],
   "source": []
  },
  {
   "cell_type": "code",
   "execution_count": 143,
   "metadata": {
    "collapsed": false
   },
   "outputs": [],
   "source": [
    "#sad_songs = merged_stolen[merged_stolen.mode==1 and merged_stolen.key==1]"
   ]
  },
  {
   "cell_type": "code",
   "execution_count": null,
   "metadata": {
    "collapsed": false
   },
   "outputs": [],
   "source": []
  },
  {
   "cell_type": "code",
   "execution_count": 75,
   "metadata": {
    "collapsed": false
   },
   "outputs": [
    {
     "name": "stdout",
     "output_type": "stream",
     "text": [
      "nan\n"
     ]
    }
   ],
   "source": [
    "song_lyrics=billboard_lyrics.get_value(11,\"lyrics\")\n",
    "print(song_lyrics)\n",
    "#words = rgx.findall(song_lyrics)\n",
    "#word_list = [word.lower() for word in words] \n",
    "#word_counts = Counter(word_list)\n",
    "#word_counts\n",
    "#    add_frame = {\"common words\":word_counts.most_common()}\n",
    "#    common_words = common_words.append(add_frame,ignore_index=True)"
   ]
  },
  {
   "cell_type": "code",
   "execution_count": 299,
   "metadata": {
    "collapsed": false
   },
   "outputs": [],
   "source": []
  },
  {
   "cell_type": "code",
   "execution_count": null,
   "metadata": {
    "collapsed": false
   },
   "outputs": [],
   "source": []
  },
  {
   "cell_type": "code",
   "execution_count": null,
   "metadata": {
    "collapsed": false
   },
   "outputs": [],
   "source": []
  },
  {
   "cell_type": "code",
   "execution_count": null,
   "metadata": {
    "collapsed": false
   },
   "outputs": [],
   "source": []
  },
  {
   "cell_type": "code",
   "execution_count": null,
   "metadata": {
    "collapsed": false
   },
   "outputs": [],
   "source": []
  },
  {
   "cell_type": "code",
   "execution_count": 18,
   "metadata": {
    "collapsed": true
   },
   "outputs": [],
   "source": [
    "merged_stolen = pd.merge(new_dat,audio_check,left_on=\"spotifyID\",right_on=\"id\")"
   ]
  },
  {
   "cell_type": "code",
   "execution_count": 41,
   "metadata": {
    "collapsed": false
   },
   "outputs": [],
   "source": [
    "true_dat=merged_stolen[merged_stolen.artist==\"Adele\"][[\"track_href\"]]"
   ]
  },
  {
   "cell_type": "code",
   "execution_count": null,
   "metadata": {
    "collapsed": false
   },
   "outputs": [],
   "source": []
  },
  {
   "cell_type": "code",
   "execution_count": null,
   "metadata": {
    "collapsed": false
   },
   "outputs": [],
   "source": []
  },
  {
   "cell_type": "code",
   "execution_count": null,
   "metadata": {
    "collapsed": true
   },
   "outputs": [],
   "source": []
  },
  {
   "cell_type": "code",
   "execution_count": null,
   "metadata": {
    "collapsed": false
   },
   "outputs": [],
   "source": []
  },
  {
   "cell_type": "code",
   "execution_count": 166,
   "metadata": {
    "collapsed": false
   },
   "outputs": [
    {
     "name": "stdout",
     "output_type": "stream",
     "text": [
      "features retrieved in 759.40 seconds\n"
     ]
    }
   ],
   "source": [
    "lyrics_data = pd.DataFrame()\n",
    "lower_limit =0\n",
    "upper_limit =333\n",
    "lyrics_table = 'lyricstwo-' +str(lower_limit)+\"-\"+ str(upper_limit)+'.csv'\n",
    "start = time.time()\n",
    "for row in range(lower_limit,upper_limit):\n",
    "    artist_raw = empty_table.iloc[row,1]\n",
    "    artist_noand=artist_raw.replace(\" &\",\"\").replace(\". \",\"-\")\n",
    "    artist_array = re.split(r'.Featuring+', artist_noand)\n",
    "    track_raw=empty_table.iloc[row,4]\n",
    "    track_name=re.sub(r'\\&\\s', '', track_raw).replace(\"$\", \"s\").replace(\"#\",\"\") # Replace certain characters\n",
    "    track_name=re.sub(r'S\\*\\*t', 'Shit',track_name) # Replace profanity\n",
    "    track_name=re.sub(r'\\(|\\)|\\'|\\|\\.|\\\"', '',track_name).lower() # Remove special characters\n",
    "    # We try four different lyrics sites\n",
    "    artist_first_letter=artist_array[0][0]\n",
    "    artist_mode = re.sub(r'\\s|\\.|-', '_',artist_array[0]).replace(\",\",\"\").lower()\n",
    "    track_mode = re.sub(r'\\s', '_',track_name)\n",
    "    artist_song = re.sub(r'\\s|\\.', '-',artist_array[0]).replace(\",\",\"\").lower()\n",
    "    track_songmetro = re.sub(r'\\s', '-',track_name)\n",
    "    track_az = re.sub(r'\\s', '',track_name)\n",
    "    artist_mmatch = re.sub(r'.And', '',artist_array[0])\n",
    "    artist_mmatch = re.sub(r'\\s|\\.', '-',artist_mmatch).replace(\",\",\"\").lower()\n",
    "    if artist_array[0].startswith(\"The\"):\n",
    "        the_array = re.split(r'The ',artist_array[0])\n",
    "        artist_az = re.sub(r'\\'|\\s|\\.|-|\\,', '',the_array[1]).lower()\n",
    "        artist_metro = re.sub(r'\\.', '-',the_array[1]).replace(\",\",\"\").replace(\" \",\"-\").lower()\n",
    "    else:\n",
    "        artist_az = re.sub(r'\\'|\\s|\\.|-|\\,', '',artist_array[0])\n",
    "        artist_metro=artist_song\n",
    "    url_metro_one = 'http://www.metrolyrics.com/'+track_songmetro+'-lyrics-'+artist_metro+'.html'\n",
    "    url_metro_two = 'http://www.metrolyrics.com/'+track_songmetro+'-lyrics-'+artist_song+'.html'\n",
    "    url_songlyrics_one = 'http://www.songlyrics.com/'+artist_song+'/'+track_songmetro+'/'\n",
    "    url_songlyrics_two = 'http://www.songlyrics.com/'+artist_song+'/'+track_songmetro+'-lyrics/'\n",
    "    url_mode= 'http://www.lyricsmode.com/lyrics/'+artist_first_letter+'/'+artist_mode+'/'+track_mode+'.html'\n",
    "    url_music_match = 'https://www.musixmatch.com/lyrics/' + artist_mmatch + '/' + track_songmetro\n",
    "    url_azlyrics=\"http://www.azlyrics.com/lyrics/\"+artist_az+\"/\"+track_az+\".html\"\n",
    "    URLS=[url_metro_one,url_metro_two,url_songlyrics_one,url_songlyrics_two,url_mode, url_azlyrics, url_music_match]\n",
    "    lyriclocations = ['lyrics-body-text', 'lyrics-body-text','songLyricsDiv', 'songLyricsDiv','lyrics_text',\"azlyrics\",'mmatch']\n",
    "    choice =\"\"\n",
    "    for u in range(0,len(URLS)):\n",
    "        lyrics_request = urllib.request.Request(URLS[u],headers={'User-Agent': 'Mozilla/5.0 (Windows NT 10.0; WOW64; rv:52.0) Gecko/20100101 Firefox/52.0'})\n",
    "        if u==3 or u==6:\n",
    "            try:\n",
    "                lyrics_web = urllib.request.urlopen(lyrics_request)\n",
    "                lyrics_code = lyrics_web.read()\n",
    "                soup = BeautifulSoup(lyrics_code, 'html.parser')\n",
    "                if u==5:\n",
    "                    lyrics_array = soup.find_all(\"div\", class_=\"\")\n",
    "                elif u == 6:\n",
    "                    lyrics_array = soup.find_all(class_=\"mxm-lyrics__content\")\n",
    "                else:\n",
    "                    lyrics_array = soup.find_all(id=lyriclocations[u])\n",
    "                lyrics_text=\"\"\n",
    "                for lyrics in lyrics_array:\n",
    "                    lyrics_text += lyrics.get_text()\n",
    "                if lyrics_text != \"\" and lyrics_text != \"\\r\\n \" and lyrics_text != \"\\n\":\n",
    "                    choice=u\n",
    "                    break\n",
    "            except urllib.request.HTTPError as e:\n",
    "                lyrics_text=\"\"\n",
    "                pass\n",
    "    add_frame = {\"artist\":artist_raw, \"track\": track_raw, \"lyrics\":lyrics_text, \"source\":choice}\n",
    "    lyrics_data = lyrics_data.append(add_frame,ignore_index=True)\n",
    "    if row%50==0 and row!=lower_limit and row!=upper_limit:\n",
    "        sleep(45)\n",
    "delta = time.time() - start\n",
    "print (\"features retrieved in %.2f seconds\" % (delta,))\n",
    "#lyrics_data.to_csv(lyrics_table)"
   ]
  },
  {
   "cell_type": "code",
   "execution_count": null,
   "metadata": {
    "collapsed": false
   },
   "outputs": [],
   "source": []
  },
  {
   "cell_type": "code",
   "execution_count": null,
   "metadata": {
    "collapsed": true
   },
   "outputs": [],
   "source": []
  },
  {
   "cell_type": "code",
   "execution_count": null,
   "metadata": {
    "collapsed": false
   },
   "outputs": [],
   "source": []
  },
  {
   "cell_type": "code",
   "execution_count": null,
   "metadata": {
    "collapsed": false
   },
   "outputs": [],
   "source": []
  },
  {
   "cell_type": "code",
   "execution_count": null,
   "metadata": {
    "collapsed": false
   },
   "outputs": [],
   "source": []
  },
  {
   "cell_type": "code",
   "execution_count": null,
   "metadata": {
    "collapsed": true
   },
   "outputs": [],
   "source": []
  },
  {
   "cell_type": "code",
   "execution_count": null,
   "metadata": {
    "collapsed": true
   },
   "outputs": [],
   "source": []
  },
  {
   "cell_type": "code",
   "execution_count": null,
   "metadata": {
    "collapsed": false
   },
   "outputs": [],
   "source": []
  },
  {
   "cell_type": "code",
   "execution_count": null,
   "metadata": {
    "collapsed": false
   },
   "outputs": [],
   "source": []
  },
  {
   "cell_type": "code",
   "execution_count": null,
   "metadata": {
    "collapsed": false
   },
   "outputs": [],
   "source": []
  },
  {
   "cell_type": "code",
   "execution_count": null,
   "metadata": {
    "collapsed": false
   },
   "outputs": [],
   "source": []
  },
  {
   "cell_type": "code",
   "execution_count": null,
   "metadata": {
    "collapsed": false
   },
   "outputs": [],
   "source": []
  },
  {
   "cell_type": "code",
   "execution_count": null,
   "metadata": {
    "collapsed": false
   },
   "outputs": [],
   "source": []
  },
  {
   "cell_type": "code",
   "execution_count": null,
   "metadata": {
    "collapsed": false
   },
   "outputs": [],
   "source": []
  },
  {
   "cell_type": "code",
   "execution_count": null,
   "metadata": {
    "collapsed": false
   },
   "outputs": [],
   "source": []
  },
  {
   "cell_type": "code",
   "execution_count": null,
   "metadata": {
    "collapsed": true
   },
   "outputs": [],
   "source": []
  },
  {
   "cell_type": "code",
   "execution_count": null,
   "metadata": {
    "collapsed": false
   },
   "outputs": [],
   "source": []
  },
  {
   "cell_type": "code",
   "execution_count": null,
   "metadata": {
    "collapsed": false
   },
   "outputs": [],
   "source": []
  },
  {
   "cell_type": "code",
   "execution_count": null,
   "metadata": {
    "collapsed": false
   },
   "outputs": [],
   "source": []
  },
  {
   "cell_type": "code",
   "execution_count": null,
   "metadata": {
    "collapsed": false
   },
   "outputs": [],
   "source": []
  },
  {
   "cell_type": "code",
   "execution_count": null,
   "metadata": {
    "collapsed": false
   },
   "outputs": [],
   "source": []
  },
  {
   "cell_type": "code",
   "execution_count": null,
   "metadata": {
    "collapsed": false
   },
   "outputs": [],
   "source": []
  },
  {
   "cell_type": "code",
   "execution_count": null,
   "metadata": {
    "collapsed": false
   },
   "outputs": [],
   "source": []
  },
  {
   "cell_type": "code",
   "execution_count": null,
   "metadata": {
    "collapsed": false
   },
   "outputs": [],
   "source": []
  },
  {
   "cell_type": "code",
   "execution_count": null,
   "metadata": {
    "collapsed": false
   },
   "outputs": [],
   "source": []
  },
  {
   "cell_type": "code",
   "execution_count": null,
   "metadata": {
    "collapsed": true
   },
   "outputs": [],
   "source": []
  },
  {
   "cell_type": "code",
   "execution_count": null,
   "metadata": {
    "collapsed": true
   },
   "outputs": [],
   "source": []
  }
 ],
 "metadata": {
  "kernelspec": {
   "display_name": "Python 3",
   "language": "python",
   "name": "python3"
  },
  "language_info": {
   "codemirror_mode": {
    "name": "ipython",
    "version": 3
   },
   "file_extension": ".py",
   "mimetype": "text/x-python",
   "name": "python",
   "nbconvert_exporter": "python",
   "pygments_lexer": "ipython3",
   "version": "3.6.0"
  }
 },
 "nbformat": 4,
 "nbformat_minor": 2
}
