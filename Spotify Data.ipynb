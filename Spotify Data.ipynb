{
 "cells": [
  {
   "cell_type": "code",
   "execution_count": 1,
   "metadata": {
    "collapsed": true
   },
   "outputs": [],
   "source": [
    "#Usual Imports\n",
    "import os\n",
    "import sys\n",
    "import time\n",
    "import datetime\n",
    "import re\n",
    "import numpy as np\n",
    "import pandas as pd\n",
    "# Imports for web scraping Spotify data\n",
    "from bs4 import BeautifulSoup\n",
    "import urllib\n",
    "import requests\n",
    "from __future__ import print_function    # (at top of module)\n",
    "from spotipy.oauth2 import SpotifyClientCredentials\n",
    "import spotipy\n",
    "from time import sleep\n",
    "from collections import Counter"
   ]
  },
  {
   "cell_type": "code",
   "execution_count": 2,
   "metadata": {
    "collapsed": true
   },
   "outputs": [],
   "source": [
    "# Initialize Spotipy API credentials\n",
    "client_credentials_manager = SpotifyClientCredentials()\n",
    "sp = spotipy.Spotify(client_credentials_manager=client_credentials_manager)\n",
    "sp.trace=False"
   ]
  },
  {
   "cell_type": "code",
   "execution_count": 3,
   "metadata": {
    "collapsed": false
   },
   "outputs": [],
   "source": [
    "# Read in billboard top 100 data from 1955-2015\n",
    "billboard_data=pd.read_csv(\"all_billboard_data.txt\", sep=\"|\", encoding='latin1')\n",
    "#Arrange Billboard data by tracks for Spotify web scraping \n",
    "billboard_tracks = billboard_data.groupby([\"title\",\"artist\"]).size().reset_index()"
   ]
  },
  {
   "cell_type": "code",
   "execution_count": 4,
   "metadata": {
    "collapsed": false
   },
   "outputs": [
    {
     "data": {
      "text/plain": [
       "34605"
      ]
     },
     "execution_count": 4,
     "metadata": {},
     "output_type": "execute_result"
    }
   ],
   "source": [
    "# We have 34605 unique songs in our dataset\n",
    "len(billboard_tracks)"
   ]
  },
  {
   "cell_type": "code",
   "execution_count": 8,
   "metadata": {
    "collapsed": true
   },
   "outputs": [],
   "source": [
    "# Initialize an empty data frame for the Spotify data\n",
    "track_meta_columns=[\"danceability\",\"energy\",\"key\",\"loudness\",\"mode\",\"speechiness\",\"acousticness\",\"instrumentalness\",\"liveness\",\"valence\",\"tempo\",\"type\",\"id\",\"uri\",\"track_href\",\"analysis_url\",\"duration_ms\",\"time_signature\"]\n",
    "artist_data = pd.DataFrame(columns=[\"artist\",\"track\"])\n",
    "track_data = pd.DataFrame(columns=track_meta_columns)\n",
    "spotify_data=pd.concat([artist_data, track_data], axis=1)\n",
    "artist_index=0\n",
    "track_index=0"
   ]
  },
  {
   "cell_type": "code",
   "execution_count": 6,
   "metadata": {
    "collapsed": false
   },
   "outputs": [
    {
     "name": "stdout",
     "output_type": "stream",
     "text": [
      "retrying ...0secs\n",
      "retrying ...0secs\n",
      "retrying ...0secs\n",
      "retrying ...0secs\n",
      "retrying ...0secs\n",
      "retrying ...0secs\n",
      "retrying ...0secs\n",
      "retrying ...0secs\n",
      "features retrieved in 113.41 seconds\n"
     ]
    }
   ],
   "source": [
    "# Obtaining Data Step\n",
    "spotify_data=pd.concat([artist_data, track_data], axis=1)\n",
    "lower_limit =0\n",
    "upper_limit =150\n",
    "spot_table = 'spotify' +str(lower_limit)+\"-\"+ str(upper_limit)+'.csv'\n",
    "start = time.time()\n",
    "# Cycle through the rows in the billboard_tracks dataframe.\n",
    "# Search for the artist and title for each on through Spotify's API\n",
    "# Add the metadata for the track to the dataset\n",
    "for row in range(lower_limit,upper_limit):\n",
    "    artist_data = pd.DataFrame(columns=[\"artist\",\"track\"])\n",
    "    track_data = pd.DataFrame(columns=track_meta_columns)\n",
    "    artist_name = billboard_tracks.iloc[row,1]\n",
    "    track_name = billboard_tracks.iloc[row,0]\n",
    "    lookup = artist_name + \" \" + track_name\n",
    "    try:\n",
    "        results = sp.search(q=lookup, limit=3)\n",
    "    except urllib.request.HTTPError as eone:\n",
    "        pass\n",
    "    tids = []\n",
    "    artist_index=0\n",
    "    for i, t in enumerate(results['tracks']['items']):\n",
    "        to_add =pd.DataFrame( {\"artist\":t['artists'][0]['name'], \"track\":t['name']},index=[artist_index])\n",
    "        artist_data=pd.concat([artist_data,to_add])\n",
    "        tids.append(t['uri'])\n",
    "        artist_index+=1\n",
    "    try:    \n",
    "        features = sp.audio_features(tids)\n",
    "    except urllib.request.HTTPError as etwo:\n",
    "        pass    \n",
    "    track_index=0\n",
    "    for feature in features:\n",
    "        tracks = pd.DataFrame(feature, index=[track_index])\n",
    "        track_data=pd.concat([track_data,tracks])\n",
    "        track_index+=1\n",
    "    all_data = pd.concat([artist_data, track_data], axis=1)\n",
    "    spotify_data=pd.concat([spotify_data,all_data])\n",
    "# Spotify has rate limiting for their API so we must delay time between requests\n",
    "    if row%50==0 and row!=lower_limit and row!=upper_limit:\n",
    "        sleep(25)\n",
    "delta = time.time() - start\n",
    "print (\"features retrieved in %.2f seconds\" % (delta,))\n",
    "# Output the data to a csv file\n",
    "# Note that due to the length of time required we will create several csv files\n",
    "spotify_data.to_csv(spot_table)"
   ]
  },
  {
   "cell_type": "code",
   "execution_count": null,
   "metadata": {
    "collapsed": true
   },
   "outputs": [],
   "source": [
    "# Cleaning and Wrangling step\n",
    "# Begin to join all the csv files together, some may require adding in an additional empty row.\n",
    "spot_one = pd.read_csv('spotify0-50.csv',  encoding='latin1')\n",
    "spot_two = pd.read_csv('spotify50-100.csv',  encoding='latin1')\n",
    "spotify_all = pd.concat([spot_one,spot_two])\n",
    "spot_new = pd.read_csv('spotify100-200.csv',  encoding='latin1')\n",
    "spotify_all = pd.concat([spotify_all,spot_new])\n",
    "spotify_empty = spot_small[87:88]\n",
    "spotify_all = pd.concat([spotify_all,spotify_empty])\n",
    "# spotify_all.to_csv(\"spotify_big\")"
   ]
  },
  {
   "cell_type": "code",
   "execution_count": 5,
   "metadata": {
    "collapsed": false
   },
   "outputs": [
    {
     "data": {
      "text/plain": [
       "34607"
      ]
     },
     "execution_count": 5,
     "metadata": {},
     "output_type": "execute_result"
    }
   ],
   "source": [
    "# Read in Large Spotify dataset\n",
    "big_spotify = pd.read_csv('spotify_big.csv',  encoding='latin1')\n",
    "# We will match the billboard_track data and the spotify data one-to-one\n",
    "# We only require one result per track\n",
    "spotify_merge = big_spotify[big_spotify[\"Unnamed: 0.1\"]==0]\n",
    "# Subset interesting columns\n",
    "spotify_merge =spotify_merge[[\"acousticness\",\"artist\",\"danceability\",\"duration_ms\",\"energy\",\"key\",\"loudness\",\"mode\",\"track\",\"instrumentalness\",\"liveness\",\"valence\",\"tempo\",\"time_signature\"]]\n",
    "# Rename artist column\n",
    "spotify_merge=spotify_merge.rename(columns = {'artist':'spotify_artist'})\n",
    "spotify_merge=spotify_merge.reset_index()\n",
    "len(spotify_merge)"
   ]
  },
  {
   "cell_type": "code",
   "execution_count": 6,
   "metadata": {
    "collapsed": false
   },
   "outputs": [],
   "source": [
    "# Drop two extra rows\n",
    "spotify_merge=spotify_merge.drop(spotify_merge.index[[101,201]]).reset_index()\n",
    "# Merge data with the billboard_data\n",
    "merged_data=pd.concat([billboard_tracks, spotify_merge], axis=1)\n",
    "# Join data to billboard_list\n",
    "all_data=pd.merge(billboard_data,merged_data,how='left', on=['artist', 'title'])"
   ]
  },
  {
   "cell_type": "code",
   "execution_count": 12,
   "metadata": {
    "collapsed": false
   },
   "outputs": [
    {
     "data": {
      "text/plain": [
       "343545"
      ]
     },
     "execution_count": 12,
     "metadata": {},
     "output_type": "execute_result"
    }
   ],
   "source": [
    "len(all_data)"
   ]
  },
  {
   "cell_type": "code",
   "execution_count": null,
   "metadata": {
    "collapsed": false
   },
   "outputs": [],
   "source": [
    "spotify_nonas = spotify_all.dropna(subset=[\"artist\"])\n",
    "# Replace all Karaoke data with NA's\n",
    "\n",
    "# Big artists not on Spotify\n",
    "No_Spotify_list = [\"TAYLOR SWIFT\", \"PRINCE\", \"GARTH BROOKS\", \"TOOL\", \"BOB SEGAR\", \"KING CRIMSON\", \"TOM YORKE\", \"TRAVELING WILBURYS\"]\n",
    "\n",
    "cleaner_data=spotify_nonas[spotify_nonas['artist'].str.contains(\"Karaoke\")!=True]"
   ]
  },
  {
   "cell_type": "code",
   "execution_count": null,
   "metadata": {
    "collapsed": true
   },
   "outputs": [],
   "source": [
    "#### Remember to remove \"We do not have the lyrics yet\" from lyrics column and starts with CHORUS"
   ]
  },
  {
   "cell_type": "code",
   "execution_count": null,
   "metadata": {
    "collapsed": false
   },
   "outputs": [],
   "source": [
    "# Analysis"
   ]
  },
  {
   "cell_type": "code",
   "execution_count": 3,
   "metadata": {
    "collapsed": false
   },
   "outputs": [
    {
     "name": "stderr",
     "output_type": "stream",
     "text": [
      "C:\\Users\\MSI_USER\\Anaconda3\\lib\\site-packages\\IPython\\core\\interactiveshell.py:2717: DtypeWarning: Columns (18,19,20,21,22,23,24,25,26,27,28,29) have mixed types. Specify dtype option on import or set low_memory=False.\n",
      "  interactivity=interactivity, compiler=compiler, result=result)\n"
     ]
    }
   ],
   "source": [
    "new_big_data= pd.read_csv(\"all_charts.csv\")"
   ]
  },
  {
   "cell_type": "code",
   "execution_count": 4,
   "metadata": {
    "collapsed": false
   },
   "outputs": [],
   "source": [
    "search_data=new_big_data.groupby([\"title\",\"artist\"]).size().reset_index()"
   ]
  },
  {
   "cell_type": "code",
   "execution_count": 235,
   "metadata": {
    "collapsed": false
   },
   "outputs": [
    {
     "data": {
      "text/plain": [
       "27588"
      ]
     },
     "execution_count": 235,
     "metadata": {},
     "output_type": "execute_result"
    }
   ],
   "source": [
    "len(search_data)"
   ]
  },
  {
   "cell_type": "code",
   "execution_count": 33,
   "metadata": {
    "collapsed": false
   },
   "outputs": [
    {
     "name": "stdout",
     "output_type": "stream",
     "text": [
      "features retrieved in 2.04 seconds\n"
     ]
    }
   ],
   "source": [
    "lyrics_data = pd.DataFrame()\n",
    "lower_limit =27587\n",
    "upper_limit =27588\n",
    "lyrics_table = 'lyrics-' +str(lower_limit)+\"-\"+ str(upper_limit)+'.csv'\n",
    "start = time.time()\n",
    "for row in range(lower_limit,upper_limit):\n",
    "    artist_raw = search_data.iloc[row,1]\n",
    "    artist_noand=artist_raw.replace(\" &\",\"\").replace(\". \",\"-\").replace(\"Ã©\",\"e\").replace(\"$\", \"s\")\n",
    "    artist_array = re.split(r'.Featuring+', artist_noand)\n",
    "    track_raw=search_data.iloc[row,0]\n",
    "    # Replace extended latin characters\n",
    "    track_name=track_raw.replace(\"Ã\\x83Â¶\",\"oe\").replace(\"Ã©\",\"e\").replace(\"ÃÂ©\",\"e\").replace(\"ÃÂ³\",'o')\n",
    "    track_name=track_name.replace(\"ÃÂ¡\",\"a\").replace(\"ÃÂ±\",\"n\").replace(\"Ã\\x83â\\x80\\x9c\",\"o\").replace(\"ÃÂ¿DÃÂ²\",\"do\").replace(\"ÃÂ\",\"a\")\n",
    "    track_name=re.sub(r'\\&\\s', '', track_name).replace(\"$\", \"s\").replace(\"#\",\"\") # Replace certain characters\n",
    "    track_name=re.sub(r'S\\*\\*t', 'Shit',track_name) # Replace profanity\n",
    "    track_name=re.sub(r'\\(|\\)|\\'|\\|\\.|\\\"|\\,', '',track_name).lower() # Remove special characters\n",
    "    # We try five different lyrics sites\n",
    "    artist_first_letter=artist_array[0][0]\n",
    "    artist_mode = re.sub(r'\\s|\\.|-', '_',artist_array[0]).replace(\",\",\"\").lower()\n",
    "    track_mode = re.sub(r'\\s', '_',track_name)\n",
    "    artist_song = re.sub(r'\\s|\\.', '-',artist_array[0]).replace(\",\",\"\").lower()\n",
    "    track_songmetro = re.sub(r'\\s', '-',track_name)\n",
    "    track_az = re.sub(r'\\s', '',track_name)\n",
    "    artist_mmatch = re.sub(r'.And', '',artist_array[0])\n",
    "    artist_mmatch = re.sub(r'\\s|\\.', '-',artist_mmatch).replace(\",\",\"\").lower()\n",
    "    if artist_array[0].startswith(\"The \"):\n",
    "        the_array = re.split(r'The ',artist_array[0])\n",
    "        artist_az = re.sub(r'\\'|\\s|\\.|-|\\,', '',the_array[1]).lower()\n",
    "        artist_metro = re.sub(r'\\.', '-',the_array[1]).replace(\",\",\"\").replace(\" \",\"-\").lower()\n",
    "    else:\n",
    "        artist_az = re.sub(r'\\'|\\s|\\.|-|\\,', '',artist_array[0]).lower()\n",
    "        artist_metro=artist_song\n",
    "    url_metro_one = 'http://www.metrolyrics.com/'+track_songmetro+'-lyrics-'+artist_metro+'.html'\n",
    "    url_metro_two = 'http://www.metrolyrics.com/'+track_songmetro+'-lyrics-'+artist_song+'.html'\n",
    "    url_songlyrics_one = 'http://www.songlyrics.com/'+artist_song+'/'+track_songmetro+'/'\n",
    "    url_songlyrics_two = 'http://www.songlyrics.com/'+artist_song+'/'+track_songmetro+'-lyrics/'\n",
    "    url_mode= 'http://www.lyricsmode.com/lyrics/'+artist_first_letter+'/'+artist_mode+'/'+track_mode+'.html'\n",
    "    #url_music_match = 'https://www.musixmatch.com/lyrics/' + artist_mmatch + '/' + track_songmetro\n",
    "    #url_azlyrics=\"http://www.azlyrics.com/lyrics/\"+artist_az+\"/\"+track_az+\".html\"\n",
    "    URLS=[url_metro_one,url_metro_two,url_songlyrics_one,url_songlyrics_two,url_mode]#, url_azlyrics, url_music_match]\n",
    "    lyriclocations = ['lyrics-body-text', 'lyrics-body-text','songLyricsDiv', 'songLyricsDiv','lyrics_text']#\n",
    "    #,\"azlyrics\",'mmatch']\n",
    "    choice =\"\"\n",
    "    for u in range(0,len(URLS)):\n",
    "        lyrics_request = urllib.request.Request(URLS[u],headers={'User-Agent': 'Mozilla/5.0 (Windows NT 10.0; WOW64; rv:52.0) Gecko/20100101 Firefox/52.0'})\n",
    "        if u!=2:\n",
    "            try:\n",
    "                lyrics_web = urllib.request.urlopen(lyrics_request)\n",
    "                lyrics_code = lyrics_web.read()\n",
    "                soup = BeautifulSoup(lyrics_code, 'html.parser')\n",
    "                if u==5:\n",
    "                    lyrics_array = soup.find_all(\"div\", class_=\"\")\n",
    "                elif u == 6:\n",
    "                    lyrics_array = soup.find_all(class_=\"mxm-lyrics__content\")\n",
    "                else:\n",
    "                    lyrics_array = soup.find_all(id=lyriclocations[u])\n",
    "                lyrics_text=\"\"\n",
    "                for lyrics in lyrics_array:\n",
    "                    lyrics_text += lyrics.get_text()\n",
    "                if lyrics_text != \"\" and lyrics_text != \"\\r\\n \" and lyrics_text != \"\\n\":\n",
    "                    choice=u\n",
    "                    break\n",
    "            except urllib.request.HTTPError as e:\n",
    "                lyrics_text=\"\"\n",
    "                pass        \n",
    "    add_frame = {\"artist\":artist_raw, \"track\": track_raw, \"lyrics\":lyrics_text, \"source\":choice}\n",
    "    lyrics_data = lyrics_data.append(add_frame,ignore_index=True)\n",
    "    if row%50==0 and row!=lower_limit and row!=upper_limit:\n",
    "        sleep(45)\n",
    "delta = time.time() - start\n",
    "print (\"features retrieved in %.2f seconds\" % (delta,))\n",
    "lyrics_data.to_csv(lyrics_table)"
   ]
  },
  {
   "cell_type": "code",
   "execution_count": 55,
   "metadata": {
    "collapsed": false
   },
   "outputs": [],
   "source": [
    "# Cleaning and Wrangling step\n",
    "# Begin to join all the csv files together, some may require adding in an additional empty row.\n",
    "lyrics_all=pd.DataFrame()\n",
    "lyrics_one = pd.read_csv('lyrics-0-100.csv',  encoding='latin1')\n",
    "lyrics_two = pd.read_csv('lyrics-100-1000.csv',  encoding='latin1')\n",
    "lyrics_all = pd.concat([lyrics_one,lyrics_two])\n",
    "lyrics_new = pd.read_csv('lyrics-1000-1096.csv',  encoding='latin1')\n",
    "lyrics_all = pd.concat([lyrics_all,lyrics_new])"
   ]
  },
  {
   "cell_type": "code",
   "execution_count": 80,
   "metadata": {
    "collapsed": false
   },
   "outputs": [],
   "source": [
    "lyrics_new=pd.read_csv('lyrics-27587-27588.csv',encoding='latin1')\n",
    "lyrics_all = pd.concat([lyrics_all,lyrics_new])"
   ]
  },
  {
   "cell_type": "code",
   "execution_count": 86,
   "metadata": {
    "collapsed": false
   },
   "outputs": [
    {
     "data": {
      "text/html": [
       "<div>\n",
       "<table border=\"1\" class=\"dataframe\">\n",
       "  <thead>\n",
       "    <tr style=\"text-align: right;\">\n",
       "      <th></th>\n",
       "      <th>index</th>\n",
       "      <th>artist</th>\n",
       "      <th>lyrics</th>\n",
       "      <th>source</th>\n",
       "      <th>track</th>\n",
       "    </tr>\n",
       "  </thead>\n",
       "  <tbody>\n",
       "    <tr>\n",
       "      <th>27586</th>\n",
       "      <td>2698</td>\n",
       "      <td>Alan Jackson</td>\n",
       "      <td>I know you're leaving, I see the signs\\r\\nYou'...</td>\n",
       "      <td>4.0</td>\n",
       "      <td>www.memory</td>\n",
       "    </tr>\n",
       "    <tr>\n",
       "      <th>27587</th>\n",
       "      <td>0</td>\n",
       "      <td>Augie Rios</td>\n",
       "      <td>NaN</td>\n",
       "      <td>NaN</td>\n",
       "      <td>Ã?Â¿DÃ?Â²nde EstÃ?Â  Santa Claus? (Where Is Sa...</td>\n",
       "    </tr>\n",
       "  </tbody>\n",
       "</table>\n",
       "</div>"
      ],
      "text/plain": [
       "       index        artist                                             lyrics  \\\n",
       "27586   2698  Alan Jackson  I know you're leaving, I see the signs\\r\\nYou'...   \n",
       "27587      0    Augie Rios                                                NaN   \n",
       "\n",
       "       source                                              track  \n",
       "27586     4.0                                         www.memory  \n",
       "27587     NaN  Ã?Â¿DÃ?Â²nde EstÃ?Â  Santa Claus? (Where Is Sa...  "
      ]
     },
     "execution_count": 86,
     "metadata": {},
     "output_type": "execute_result"
    }
   ],
   "source": [
    "lyrics_merge=lyrics_all[[\"artist\",\"lyrics\",\"source\",\"track\"]].reset_index()\n"
   ]
  },
  {
   "cell_type": "code",
   "execution_count": 89,
   "metadata": {
    "collapsed": false
   },
   "outputs": [],
   "source": [
    "lyrics_merge.to_csv('all_lyrics.csv')"
   ]
  },
  {
   "cell_type": "code",
   "execution_count": 92,
   "metadata": {
    "collapsed": false
   },
   "outputs": [
    {
     "data": {
      "text/plain": [
       "82.9781064230825"
      ]
     },
     "execution_count": 92,
     "metadata": {},
     "output_type": "execute_result"
    }
   ],
   "source": [
    "#Lyrics Scraping Success\n",
    "len(lyrics_merge[lyrics_merge.lyrics.notnull()])/len(lyrics_merge)*100"
   ]
  },
  {
   "cell_type": "code",
   "execution_count": 102,
   "metadata": {
    "collapsed": false
   },
   "outputs": [
    {
     "data": {
      "text/plain": [
       "'\\r\\r\\nSo long ago\\r\\r\\nWas it in a dream?\\r\\r\\nWas it just a dream?\\r\\r\\nI know, yes I know\\r\\r\\nIt seemed so very real\\r\\r\\nSeemed so real to meTook a walk down the street\\r\\r\\nThrough the heat whispered trees\\r\\r\\nI thought I could hear\\r\\r\\nHear\\r\\r\\nHear\\r\\r\\nHearSomebody call out my name (John)\\r\\r\\nAs it started to rain\\r\\r\\nTwo spirits dancing so strange\\r\\r\\nAh! Bowakawa, pousse pousse\\r\\r\\nAh! Bowakawa, pousse pousse\\r\\r\\nAh! Bowakawa, pousse pousseDream, dream away\\r\\r\\nMagic in the air\\r\\r\\nWas magic in the air?\\r\\r\\nI believe, yes I believe\\r\\r\\nMore I cannot say\\r\\r\\nWhat more can I say? '"
      ]
     },
     "execution_count": 102,
     "metadata": {},
     "output_type": "execute_result"
    }
   ],
   "source": [
    "#annoying=lyrics_merge[lyrics_merge.lyrics==\"\\r\\n \"]\n",
    "lyrics_merge.iloc[3,2]"
   ]
  },
  {
   "cell_type": "code",
   "execution_count": 6,
   "metadata": {
    "collapsed": false
   },
   "outputs": [],
   "source": [
    "billboard_lyrics=pd.read_csv(\"all_lyrics.csv\",  encoding='latin1')"
   ]
  },
  {
   "cell_type": "code",
   "execution_count": 101,
   "metadata": {
    "collapsed": false
   },
   "outputs": [],
   "source": [
    "#Find the common words\n",
    "lyrics_list=billboard_lyrics[billboard_lyrics.lyrics.notnull()].reset_index()\n",
    "lower_limit =0\n",
    "upper_limit =len(lyrics_list)\n",
    "common_words = pd.DataFrame()\n",
    "rgx = re.compile(\"(\\w[\\w']*\\w|\\w)\")\n",
    "for row in range(lower_limit,upper_limit):\n",
    "    song_lyrics=lyrics_list.get_value(row,\"lyrics\")\n",
    "    words = rgx.findall(song_lyrics)\n",
    "    word_list = [word.lower() for word in words] \n",
    "    word_counts = Counter(word_list)\n",
    "    add_frame = {\"artist\":lyrics_list.get_value(row,\"artist\"), \"track\":lyrics_list.get_value(row,\"track\"), \"lyrics\":song_lyrics,\"common words\":word_counts.most_common()}\n",
    "    common_words = common_words.append(add_frame,ignore_index=True)"
   ]
  },
  {
   "cell_type": "code",
   "execution_count": 112,
   "metadata": {
    "collapsed": false
   },
   "outputs": [],
   "source": [
    "lyric_count=pd.merge(billboard_lyrics,common_words,how='left', on=['artist', 'track',\"lyrics\"])"
   ]
  },
  {
   "cell_type": "code",
   "execution_count": 114,
   "metadata": {
    "collapsed": false
   },
   "outputs": [
    {
     "data": {
      "text/plain": [
       "Counter({'all': 1,\n",
       "         'alone': 1,\n",
       "         'and': 1,\n",
       "         'around': 1,\n",
       "         'at': 5,\n",
       "         'be': 2,\n",
       "         'call': 1,\n",
       "         'can': 2,\n",
       "         'click': 3,\n",
       "         'day': 1,\n",
       "         'even': 2,\n",
       "         'eyes': 1,\n",
       "         'feel': 4,\n",
       "         'for': 2,\n",
       "         'gone': 1,\n",
       "         'gonna': 1,\n",
       "         'hand': 1,\n",
       "         'have': 2,\n",
       "         'heart': 1,\n",
       "         'hold': 1,\n",
       "         'i': 2,\n",
       "         \"i'll\": 2,\n",
       "         'if': 4,\n",
       "         'into': 1,\n",
       "         'it': 1,\n",
       "         'just': 4,\n",
       "         'keyboard': 1,\n",
       "         'know': 1,\n",
       "         'land': 1,\n",
       "         'leaving': 1,\n",
       "         'like': 2,\n",
       "         'little': 1,\n",
       "         'log': 1,\n",
       "         'look': 1,\n",
       "         'love': 2,\n",
       "         'made': 1,\n",
       "         'me': 9,\n",
       "         'memory': 5,\n",
       "         'mind': 1,\n",
       "         'mine': 1,\n",
       "         'mouse': 1,\n",
       "         'my': 2,\n",
       "         'need': 2,\n",
       "         'never': 2,\n",
       "         'no': 1,\n",
       "         'of': 1,\n",
       "         'on': 5,\n",
       "         'or': 2,\n",
       "         'out': 1,\n",
       "         'patiently': 2,\n",
       "         'rainy': 1,\n",
       "         'see': 2,\n",
       "         'signs': 1,\n",
       "         'slide': 1,\n",
       "         'some': 1,\n",
       "         'take': 1,\n",
       "         'talkin': 1,\n",
       "         'tell': 1,\n",
       "         'the': 3,\n",
       "         'this': 1,\n",
       "         'through': 1,\n",
       "         'to': 2,\n",
       "         'tonight': 1,\n",
       "         'touch': 1,\n",
       "         'until': 1,\n",
       "         'up': 1,\n",
       "         'waitin': 2,\n",
       "         'walk': 1,\n",
       "         'wires': 1,\n",
       "         \"won't\": 2,\n",
       "         'write': 1,\n",
       "         'www': 5,\n",
       "         'you': 13,\n",
       "         \"you'll\": 2,\n",
       "         \"you're\": 4,\n",
       "         'your': 3})"
      ]
     },
     "execution_count": 114,
     "metadata": {},
     "output_type": "execute_result"
    }
   ],
   "source": [
    "word_counts.most_common"
   ]
  },
  {
   "cell_type": "code",
   "execution_count": 116,
   "metadata": {
    "collapsed": false
   },
   "outputs": [
    {
     "name": "stdout",
     "output_type": "stream",
     "text": [
      "3\n"
     ]
    }
   ],
   "source": [
    "if 'you' in word_counts:\n",
    "    print(word_counts[\"you\"])"
   ]
  },
  {
   "cell_type": "code",
   "execution_count": null,
   "metadata": {
    "collapsed": false
   },
   "outputs": [],
   "source": []
  },
  {
   "cell_type": "code",
   "execution_count": null,
   "metadata": {
    "collapsed": false
   },
   "outputs": [],
   "source": []
  },
  {
   "cell_type": "code",
   "execution_count": null,
   "metadata": {
    "collapsed": false
   },
   "outputs": [],
   "source": [
    "\n"
   ]
  },
  {
   "cell_type": "code",
   "execution_count": null,
   "metadata": {
    "collapsed": false
   },
   "outputs": [],
   "source": []
  },
  {
   "cell_type": "code",
   "execution_count": 38,
   "metadata": {
    "collapsed": false
   },
   "outputs": [],
   "source": []
  },
  {
   "cell_type": "code",
   "execution_count": null,
   "metadata": {
    "collapsed": false
   },
   "outputs": [],
   "source": []
  },
  {
   "cell_type": "code",
   "execution_count": null,
   "metadata": {
    "collapsed": false
   },
   "outputs": [],
   "source": []
  },
  {
   "cell_type": "code",
   "execution_count": 143,
   "metadata": {
    "collapsed": false
   },
   "outputs": [],
   "source": [
    "#sad_songs = merged_stolen[merged_stolen.mode==1 and merged_stolen.key==1]"
   ]
  },
  {
   "cell_type": "code",
   "execution_count": null,
   "metadata": {
    "collapsed": false
   },
   "outputs": [],
   "source": []
  },
  {
   "cell_type": "code",
   "execution_count": 75,
   "metadata": {
    "collapsed": false
   },
   "outputs": [
    {
     "name": "stdout",
     "output_type": "stream",
     "text": [
      "nan\n"
     ]
    }
   ],
   "source": [
    "song_lyrics=billboard_lyrics.get_value(11,\"lyrics\")\n",
    "print(song_lyrics)\n",
    "#words = rgx.findall(song_lyrics)\n",
    "#word_list = [word.lower() for word in words] \n",
    "#word_counts = Counter(word_list)\n",
    "#word_counts\n",
    "#    add_frame = {\"common words\":word_counts.most_common()}\n",
    "#    common_words = common_words.append(add_frame,ignore_index=True)"
   ]
  },
  {
   "cell_type": "code",
   "execution_count": 299,
   "metadata": {
    "collapsed": false
   },
   "outputs": [],
   "source": []
  },
  {
   "cell_type": "code",
   "execution_count": 309,
   "metadata": {
    "collapsed": false
   },
   "outputs": [
    {
     "data": {
      "text/html": [
       "<div>\n",
       "<table border=\"1\" class=\"dataframe\">\n",
       "  <thead>\n",
       "    <tr style=\"text-align: right;\">\n",
       "      <th></th>\n",
       "      <th>Unnamed: 0</th>\n",
       "      <th>artist</th>\n",
       "      <th>lyrics</th>\n",
       "      <th>source</th>\n",
       "      <th>track</th>\n",
       "    </tr>\n",
       "  </thead>\n",
       "  <tbody>\n",
       "    <tr>\n",
       "      <th>18</th>\n",
       "      <td>18</td>\n",
       "      <td>Suzi Quatro</td>\n",
       "      <td>\\r\\n</td>\n",
       "      <td>0.0</td>\n",
       "      <td>All Shook Up</td>\n",
       "    </tr>\n",
       "    <tr>\n",
       "      <th>260</th>\n",
       "      <td>260</td>\n",
       "      <td>Roger Williams</td>\n",
       "      <td>\\r\\n</td>\n",
       "      <td>0.0</td>\n",
       "      <td>Amor</td>\n",
       "    </tr>\n",
       "    <tr>\n",
       "      <th>280</th>\n",
       "      <td>280</td>\n",
       "      <td>Esther Phillips</td>\n",
       "      <td>\\r\\n</td>\n",
       "      <td>0.0</td>\n",
       "      <td>And I Love Him</td>\n",
       "    </tr>\n",
       "    <tr>\n",
       "      <th>294</th>\n",
       "      <td>294</td>\n",
       "      <td>Mark Lindsay</td>\n",
       "      <td>\\r\\n</td>\n",
       "      <td>0.0</td>\n",
       "      <td>And The Grass Won't Pay No Mind</td>\n",
       "    </tr>\n",
       "    <tr>\n",
       "      <th>394</th>\n",
       "      <td>394</td>\n",
       "      <td>Jerry Reed</td>\n",
       "      <td>\\r\\n</td>\n",
       "      <td>0.0</td>\n",
       "      <td>Another Puff</td>\n",
       "    </tr>\n",
       "    <tr>\n",
       "      <th>513</th>\n",
       "      <td>513</td>\n",
       "      <td>Mark Lindsay</td>\n",
       "      <td>\\r\\n</td>\n",
       "      <td>0.0</td>\n",
       "      <td>Are You Old Enough</td>\n",
       "    </tr>\n",
       "    <tr>\n",
       "      <th>575</th>\n",
       "      <td>575</td>\n",
       "      <td>Ecstasy, Passion &amp; Pain</td>\n",
       "      <td>\\r\\n</td>\n",
       "      <td>0.0</td>\n",
       "      <td>Ask Me</td>\n",
       "    </tr>\n",
       "    <tr>\n",
       "      <th>591</th>\n",
       "      <td>591</td>\n",
       "      <td>T-Connection</td>\n",
       "      <td>\\r\\n</td>\n",
       "      <td>0.0</td>\n",
       "      <td>At Midnight</td>\n",
       "    </tr>\n",
       "    <tr>\n",
       "      <th>738</th>\n",
       "      <td>738</td>\n",
       "      <td>Idina Menzel Duet With Michael Buble</td>\n",
       "      <td>\\r\\n</td>\n",
       "      <td>0.0</td>\n",
       "      <td>Baby It's Cold Outside</td>\n",
       "    </tr>\n",
       "    <tr>\n",
       "      <th>745</th>\n",
       "      <td>745</td>\n",
       "      <td>King Floyd</td>\n",
       "      <td>\\r\\n</td>\n",
       "      <td>0.0</td>\n",
       "      <td>Baby Let Me Kiss You</td>\n",
       "    </tr>\n",
       "    <tr>\n",
       "      <th>771</th>\n",
       "      <td>771</td>\n",
       "      <td>Barbara Lewis</td>\n",
       "      <td>\\r\\n</td>\n",
       "      <td>0.0</td>\n",
       "      <td>Baby What Do You Want Me To Do</td>\n",
       "    </tr>\n",
       "    <tr>\n",
       "      <th>810</th>\n",
       "      <td>810</td>\n",
       "      <td>Glee Cast</td>\n",
       "      <td>\\r\\n</td>\n",
       "      <td>0.0</td>\n",
       "      <td>Baby, It's Cold Outside</td>\n",
       "    </tr>\n",
       "    <tr>\n",
       "      <th>838</th>\n",
       "      <td>838</td>\n",
       "      <td>The Buckinghams</td>\n",
       "      <td>\\r\\n</td>\n",
       "      <td>1.0</td>\n",
       "      <td>Back In Love Again</td>\n",
       "    </tr>\n",
       "    <tr>\n",
       "      <th>841</th>\n",
       "      <td>841</td>\n",
       "      <td>Maze Featuring Frankie Beverly</td>\n",
       "      <td>\\r\\n</td>\n",
       "      <td>0.0</td>\n",
       "      <td>Back In Stride</td>\n",
       "    </tr>\n",
       "    <tr>\n",
       "      <th>1018</th>\n",
       "      <td>1018</td>\n",
       "      <td>The Regents</td>\n",
       "      <td>\\r\\n</td>\n",
       "      <td>1.0</td>\n",
       "      <td>Barbara-Ann</td>\n",
       "    </tr>\n",
       "    <tr>\n",
       "      <th>1047</th>\n",
       "      <td>1047</td>\n",
       "      <td>Harpers Bizarre</td>\n",
       "      <td>\\r\\n</td>\n",
       "      <td>0.0</td>\n",
       "      <td>Battle Of New Orleans</td>\n",
       "    </tr>\n",
       "    <tr>\n",
       "      <th>1176</th>\n",
       "      <td>1176</td>\n",
       "      <td>Patti Smith Group</td>\n",
       "      <td>\\r\\n</td>\n",
       "      <td>0.0</td>\n",
       "      <td>Because The Night</td>\n",
       "    </tr>\n",
       "    <tr>\n",
       "      <th>1199</th>\n",
       "      <td>1199</td>\n",
       "      <td>Mark Lindsay</td>\n",
       "      <td>\\r\\n</td>\n",
       "      <td>0.0</td>\n",
       "      <td>Been Too Long On The Road</td>\n",
       "    </tr>\n",
       "    <tr>\n",
       "      <th>1223</th>\n",
       "      <td>1223</td>\n",
       "      <td>Ohio Express</td>\n",
       "      <td>\\r\\n</td>\n",
       "      <td>0.0</td>\n",
       "      <td>Beg, Borrow And Steal</td>\n",
       "    </tr>\n",
       "  </tbody>\n",
       "</table>\n",
       "</div>"
      ],
      "text/plain": [
       "      Unnamed: 0                                artist lyrics  source  \\\n",
       "18            18                           Suzi Quatro  \\r\\n      0.0   \n",
       "260          260                        Roger Williams  \\r\\n      0.0   \n",
       "280          280                       Esther Phillips  \\r\\n      0.0   \n",
       "294          294                          Mark Lindsay  \\r\\n      0.0   \n",
       "394          394                            Jerry Reed  \\r\\n      0.0   \n",
       "513          513                          Mark Lindsay  \\r\\n      0.0   \n",
       "575          575               Ecstasy, Passion & Pain  \\r\\n      0.0   \n",
       "591          591                          T-Connection  \\r\\n      0.0   \n",
       "738          738  Idina Menzel Duet With Michael Buble  \\r\\n      0.0   \n",
       "745          745                            King Floyd  \\r\\n      0.0   \n",
       "771          771                         Barbara Lewis  \\r\\n      0.0   \n",
       "810          810                             Glee Cast  \\r\\n      0.0   \n",
       "838          838                       The Buckinghams  \\r\\n      1.0   \n",
       "841          841        Maze Featuring Frankie Beverly  \\r\\n      0.0   \n",
       "1018        1018                           The Regents  \\r\\n      1.0   \n",
       "1047        1047                       Harpers Bizarre  \\r\\n      0.0   \n",
       "1176        1176                     Patti Smith Group  \\r\\n      0.0   \n",
       "1199        1199                          Mark Lindsay  \\r\\n      0.0   \n",
       "1223        1223                          Ohio Express  \\r\\n      0.0   \n",
       "\n",
       "                                track  \n",
       "18                       All Shook Up  \n",
       "260                              Amor  \n",
       "280                    And I Love Him  \n",
       "294   And The Grass Won't Pay No Mind  \n",
       "394                      Another Puff  \n",
       "513                Are You Old Enough  \n",
       "575                            Ask Me  \n",
       "591                       At Midnight  \n",
       "738            Baby It's Cold Outside  \n",
       "745              Baby Let Me Kiss You  \n",
       "771    Baby What Do You Want Me To Do  \n",
       "810           Baby, It's Cold Outside  \n",
       "838                Back In Love Again  \n",
       "841                    Back In Stride  \n",
       "1018                      Barbara-Ann  \n",
       "1047            Battle Of New Orleans  \n",
       "1176                Because The Night  \n",
       "1199        Been Too Long On The Road  \n",
       "1223            Beg, Borrow And Steal  "
      ]
     },
     "execution_count": 309,
     "metadata": {},
     "output_type": "execute_result"
    }
   ],
   "source": [
    "test_1[test_1.lyrics==\"\\r\\n \"]"
   ]
  },
  {
   "cell_type": "code",
   "execution_count": null,
   "metadata": {
    "collapsed": false
   },
   "outputs": [],
   "source": []
  },
  {
   "cell_type": "code",
   "execution_count": null,
   "metadata": {
    "collapsed": false
   },
   "outputs": [],
   "source": []
  },
  {
   "cell_type": "code",
   "execution_count": null,
   "metadata": {
    "collapsed": false
   },
   "outputs": [],
   "source": []
  },
  {
   "cell_type": "code",
   "execution_count": 18,
   "metadata": {
    "collapsed": true
   },
   "outputs": [],
   "source": [
    "merged_stolen = pd.merge(new_dat,audio_check,left_on=\"spotifyID\",right_on=\"id\")"
   ]
  },
  {
   "cell_type": "code",
   "execution_count": 41,
   "metadata": {
    "collapsed": false
   },
   "outputs": [],
   "source": [
    "true_dat=merged_stolen[merged_stolen.artist==\"Adele\"][[\"track_href\"]]"
   ]
  },
  {
   "cell_type": "code",
   "execution_count": null,
   "metadata": {
    "collapsed": false
   },
   "outputs": [],
   "source": []
  },
  {
   "cell_type": "code",
   "execution_count": null,
   "metadata": {
    "collapsed": false
   },
   "outputs": [],
   "source": []
  },
  {
   "cell_type": "code",
   "execution_count": null,
   "metadata": {
    "collapsed": true
   },
   "outputs": [],
   "source": []
  },
  {
   "cell_type": "code",
   "execution_count": null,
   "metadata": {
    "collapsed": false
   },
   "outputs": [],
   "source": []
  },
  {
   "cell_type": "code",
   "execution_count": 166,
   "metadata": {
    "collapsed": false
   },
   "outputs": [
    {
     "name": "stdout",
     "output_type": "stream",
     "text": [
      "features retrieved in 759.40 seconds\n"
     ]
    }
   ],
   "source": [
    "lyrics_data = pd.DataFrame()\n",
    "lower_limit =0\n",
    "upper_limit =333\n",
    "lyrics_table = 'lyricstwo-' +str(lower_limit)+\"-\"+ str(upper_limit)+'.csv'\n",
    "start = time.time()\n",
    "for row in range(lower_limit,upper_limit):\n",
    "    artist_raw = empty_table.iloc[row,1]\n",
    "    artist_noand=artist_raw.replace(\" &\",\"\").replace(\". \",\"-\")\n",
    "    artist_array = re.split(r'.Featuring+', artist_noand)\n",
    "    track_raw=empty_table.iloc[row,4]\n",
    "    track_name=re.sub(r'\\&\\s', '', track_raw).replace(\"$\", \"s\").replace(\"#\",\"\") # Replace certain characters\n",
    "    track_name=re.sub(r'S\\*\\*t', 'Shit',track_name) # Replace profanity\n",
    "    track_name=re.sub(r'\\(|\\)|\\'|\\|\\.|\\\"', '',track_name).lower() # Remove special characters\n",
    "    # We try four different lyrics sites\n",
    "    artist_first_letter=artist_array[0][0]\n",
    "    artist_mode = re.sub(r'\\s|\\.|-', '_',artist_array[0]).replace(\",\",\"\").lower()\n",
    "    track_mode = re.sub(r'\\s', '_',track_name)\n",
    "    artist_song = re.sub(r'\\s|\\.', '-',artist_array[0]).replace(\",\",\"\").lower()\n",
    "    track_songmetro = re.sub(r'\\s', '-',track_name)\n",
    "    track_az = re.sub(r'\\s', '',track_name)\n",
    "    artist_mmatch = re.sub(r'.And', '',artist_array[0])\n",
    "    artist_mmatch = re.sub(r'\\s|\\.', '-',artist_mmatch).replace(\",\",\"\").lower()\n",
    "    if artist_array[0].startswith(\"The\"):\n",
    "        the_array = re.split(r'The ',artist_array[0])\n",
    "        artist_az = re.sub(r'\\'|\\s|\\.|-|\\,', '',the_array[1]).lower()\n",
    "        artist_metro = re.sub(r'\\.', '-',the_array[1]).replace(\",\",\"\").replace(\" \",\"-\").lower()\n",
    "    else:\n",
    "        artist_az = re.sub(r'\\'|\\s|\\.|-|\\,', '',artist_array[0])\n",
    "        artist_metro=artist_song\n",
    "    url_metro_one = 'http://www.metrolyrics.com/'+track_songmetro+'-lyrics-'+artist_metro+'.html'\n",
    "    url_metro_two = 'http://www.metrolyrics.com/'+track_songmetro+'-lyrics-'+artist_song+'.html'\n",
    "    url_songlyrics_one = 'http://www.songlyrics.com/'+artist_song+'/'+track_songmetro+'/'\n",
    "    url_songlyrics_two = 'http://www.songlyrics.com/'+artist_song+'/'+track_songmetro+'-lyrics/'\n",
    "    url_mode= 'http://www.lyricsmode.com/lyrics/'+artist_first_letter+'/'+artist_mode+'/'+track_mode+'.html'\n",
    "    url_music_match = 'https://www.musixmatch.com/lyrics/' + artist_mmatch + '/' + track_songmetro\n",
    "    url_azlyrics=\"http://www.azlyrics.com/lyrics/\"+artist_az+\"/\"+track_az+\".html\"\n",
    "    URLS=[url_metro_one,url_metro_two,url_songlyrics_one,url_songlyrics_two,url_mode, url_azlyrics, url_music_match]\n",
    "    lyriclocations = ['lyrics-body-text', 'lyrics-body-text','songLyricsDiv', 'songLyricsDiv','lyrics_text',\"azlyrics\",'mmatch']\n",
    "    choice =\"\"\n",
    "    for u in range(0,len(URLS)):\n",
    "        lyrics_request = urllib.request.Request(URLS[u],headers={'User-Agent': 'Mozilla/5.0 (Windows NT 10.0; WOW64; rv:52.0) Gecko/20100101 Firefox/52.0'})\n",
    "        if u==3 or u==6:\n",
    "            try:\n",
    "                lyrics_web = urllib.request.urlopen(lyrics_request)\n",
    "                lyrics_code = lyrics_web.read()\n",
    "                soup = BeautifulSoup(lyrics_code, 'html.parser')\n",
    "                if u==5:\n",
    "                    lyrics_array = soup.find_all(\"div\", class_=\"\")\n",
    "                elif u == 6:\n",
    "                    lyrics_array = soup.find_all(class_=\"mxm-lyrics__content\")\n",
    "                else:\n",
    "                    lyrics_array = soup.find_all(id=lyriclocations[u])\n",
    "                lyrics_text=\"\"\n",
    "                for lyrics in lyrics_array:\n",
    "                    lyrics_text += lyrics.get_text()\n",
    "                if lyrics_text != \"\" and lyrics_text != \"\\r\\n \" and lyrics_text != \"\\n\":\n",
    "                    choice=u\n",
    "                    break\n",
    "            except urllib.request.HTTPError as e:\n",
    "                lyrics_text=\"\"\n",
    "                pass\n",
    "    add_frame = {\"artist\":artist_raw, \"track\": track_raw, \"lyrics\":lyrics_text, \"source\":choice}\n",
    "    lyrics_data = lyrics_data.append(add_frame,ignore_index=True)\n",
    "    if row%50==0 and row!=lower_limit and row!=upper_limit:\n",
    "        sleep(45)\n",
    "delta = time.time() - start\n",
    "print (\"features retrieved in %.2f seconds\" % (delta,))\n",
    "#lyrics_data.to_csv(lyrics_table)"
   ]
  },
  {
   "cell_type": "code",
   "execution_count": null,
   "metadata": {
    "collapsed": false
   },
   "outputs": [],
   "source": []
  },
  {
   "cell_type": "code",
   "execution_count": null,
   "metadata": {
    "collapsed": true
   },
   "outputs": [],
   "source": []
  },
  {
   "cell_type": "code",
   "execution_count": null,
   "metadata": {
    "collapsed": false
   },
   "outputs": [],
   "source": []
  },
  {
   "cell_type": "code",
   "execution_count": null,
   "metadata": {
    "collapsed": false
   },
   "outputs": [],
   "source": []
  },
  {
   "cell_type": "code",
   "execution_count": null,
   "metadata": {
    "collapsed": false
   },
   "outputs": [],
   "source": []
  },
  {
   "cell_type": "code",
   "execution_count": null,
   "metadata": {
    "collapsed": true
   },
   "outputs": [],
   "source": []
  },
  {
   "cell_type": "code",
   "execution_count": null,
   "metadata": {
    "collapsed": true
   },
   "outputs": [],
   "source": []
  },
  {
   "cell_type": "code",
   "execution_count": null,
   "metadata": {
    "collapsed": false
   },
   "outputs": [],
   "source": []
  },
  {
   "cell_type": "code",
   "execution_count": null,
   "metadata": {
    "collapsed": false
   },
   "outputs": [],
   "source": []
  },
  {
   "cell_type": "code",
   "execution_count": null,
   "metadata": {
    "collapsed": false
   },
   "outputs": [],
   "source": []
  },
  {
   "cell_type": "code",
   "execution_count": null,
   "metadata": {
    "collapsed": false
   },
   "outputs": [],
   "source": []
  },
  {
   "cell_type": "code",
   "execution_count": null,
   "metadata": {
    "collapsed": false
   },
   "outputs": [],
   "source": []
  },
  {
   "cell_type": "code",
   "execution_count": null,
   "metadata": {
    "collapsed": false
   },
   "outputs": [],
   "source": []
  },
  {
   "cell_type": "code",
   "execution_count": null,
   "metadata": {
    "collapsed": false
   },
   "outputs": [],
   "source": []
  },
  {
   "cell_type": "code",
   "execution_count": null,
   "metadata": {
    "collapsed": false
   },
   "outputs": [],
   "source": []
  },
  {
   "cell_type": "code",
   "execution_count": null,
   "metadata": {
    "collapsed": true
   },
   "outputs": [],
   "source": []
  },
  {
   "cell_type": "code",
   "execution_count": null,
   "metadata": {
    "collapsed": false
   },
   "outputs": [],
   "source": []
  },
  {
   "cell_type": "code",
   "execution_count": null,
   "metadata": {
    "collapsed": false
   },
   "outputs": [],
   "source": []
  },
  {
   "cell_type": "code",
   "execution_count": null,
   "metadata": {
    "collapsed": false
   },
   "outputs": [],
   "source": []
  },
  {
   "cell_type": "code",
   "execution_count": null,
   "metadata": {
    "collapsed": false
   },
   "outputs": [],
   "source": []
  },
  {
   "cell_type": "code",
   "execution_count": null,
   "metadata": {
    "collapsed": false
   },
   "outputs": [],
   "source": []
  },
  {
   "cell_type": "code",
   "execution_count": null,
   "metadata": {
    "collapsed": false
   },
   "outputs": [],
   "source": []
  },
  {
   "cell_type": "code",
   "execution_count": null,
   "metadata": {
    "collapsed": false
   },
   "outputs": [],
   "source": []
  },
  {
   "cell_type": "code",
   "execution_count": null,
   "metadata": {
    "collapsed": false
   },
   "outputs": [],
   "source": []
  },
  {
   "cell_type": "code",
   "execution_count": null,
   "metadata": {
    "collapsed": false
   },
   "outputs": [],
   "source": []
  },
  {
   "cell_type": "code",
   "execution_count": null,
   "metadata": {
    "collapsed": true
   },
   "outputs": [],
   "source": []
  },
  {
   "cell_type": "code",
   "execution_count": null,
   "metadata": {
    "collapsed": true
   },
   "outputs": [],
   "source": []
  }
 ],
 "metadata": {
  "kernelspec": {
   "display_name": "Python 3",
   "language": "python",
   "name": "python3"
  },
  "language_info": {
   "codemirror_mode": {
    "name": "ipython",
    "version": 3
   },
   "file_extension": ".py",
   "mimetype": "text/x-python",
   "name": "python",
   "nbconvert_exporter": "python",
   "pygments_lexer": "ipython3",
   "version": "3.6.0"
  }
 },
 "nbformat": 4,
 "nbformat_minor": 2
}
